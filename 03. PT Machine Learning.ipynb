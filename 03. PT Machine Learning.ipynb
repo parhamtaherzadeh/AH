{
 "cells": [
  {
   "cell_type": "code",
   "execution_count": 8,
   "id": "c6f37de7-68b6-4466-8a9b-afd892d8d5be",
   "metadata": {},
   "outputs": [],
   "source": [
    "import pandas as pd\n",
    "import numpy as np\n",
    "import joblib\n",
    "\n",
    "from sklearn.ensemble import RandomForestClassifier\n",
    "from sklearn.svm import SVC\n",
    "from sklearn.discriminant_analysis import LinearDiscriminantAnalysis as lda\n",
    "from sklearn.model_selection import LeaveOneGroupOut\n",
    "from sklearn.feature_selection import SelectFromModel\n",
    "from sklearn.linear_model import LassoCV\n",
    "from sklearn.preprocessing import StandardScaler \n",
    "from sklearn.metrics import accuracy_score, f1_score, precision_score, recall_score"
   ]
  },
  {
   "cell_type": "code",
   "execution_count": 9,
   "id": "df32140d-dad9-4e3f-9db3-30436c0ef2ab",
   "metadata": {},
   "outputs": [],
   "source": [
    "dt = joblib.load(\"../result/PT dataset features label.joblib\")"
   ]
  },
  {
   "cell_type": "code",
   "execution_count": 10,
   "id": "813d95eb-1749-42a9-a829-309d37eea426",
   "metadata": {},
   "outputs": [
    {
     "name": "stderr",
     "output_type": "stream",
     "text": [
      "C:\\Users\\Kian\\AppData\\Local\\Temp\\ipykernel_13824\\1446778592.py:2: SettingWithCopyWarning: \n",
      "A value is trying to be set on a copy of a slice from a DataFrame.\n",
      "Try using .loc[row_indexer,col_indexer] = value instead\n",
      "\n",
      "See the caveats in the documentation: https://pandas.pydata.org/pandas-docs/stable/user_guide/indexing.html#returning-a-view-versus-a-copy\n",
      "  filtered_df[\"numeric_label\"] = filtered_df.label.apply(lambda x: 0 if x=='A' else 1 if x=='C' else None)\n"
     ]
    }
   ],
   "source": [
    "filtered_df = dt[ dt.label.isin([\"A\", \"C\"]) ] \n",
    "filtered_df[\"numeric_label\"] = filtered_df.label.apply(lambda x: 0 if x=='A' else 1 if x=='C' else None)"
   ]
  },
  {
   "cell_type": "code",
   "execution_count": 5,
   "id": "af2aaa33-cefd-4116-9dad-805a6be1b44f",
   "metadata": {},
   "outputs": [],
   "source": [
    "filtered_df = filtered_df.sample(frac=1)"
   ]
  },
  {
   "cell_type": "code",
   "execution_count": 7,
   "id": "f236277a-0aaf-4b66-8d74-bed25fcac45a",
   "metadata": {},
   "outputs": [
    {
     "data": {
      "text/html": [
       "<div>\n",
       "<style scoped>\n",
       "    .dataframe tbody tr th:only-of-type {\n",
       "        vertical-align: middle;\n",
       "    }\n",
       "\n",
       "    .dataframe tbody tr th {\n",
       "        vertical-align: top;\n",
       "    }\n",
       "\n",
       "    .dataframe thead th {\n",
       "        text-align: right;\n",
       "    }\n",
       "</style>\n",
       "<table border=\"1\" class=\"dataframe\">\n",
       "  <thead>\n",
       "    <tr style=\"text-align: right;\">\n",
       "      <th></th>\n",
       "      <th>Fp1_Delta_rel</th>\n",
       "      <th>Fp1_Theta_rel</th>\n",
       "      <th>Fp1_Alpha_rel</th>\n",
       "      <th>Fp1_Sigma_rel</th>\n",
       "      <th>Fp1_Beta_rel</th>\n",
       "      <th>Fp1_Gamma_rel</th>\n",
       "      <th>Fp2_Delta_rel</th>\n",
       "      <th>Fp2_Theta_rel</th>\n",
       "      <th>Fp2_Alpha_rel</th>\n",
       "      <th>Fp2_Sigma_rel</th>\n",
       "      <th>...</th>\n",
       "      <th>Cz_Gamma_rel</th>\n",
       "      <th>Pz_Delta_rel</th>\n",
       "      <th>Pz_Theta_rel</th>\n",
       "      <th>Pz_Alpha_rel</th>\n",
       "      <th>Pz_Sigma_rel</th>\n",
       "      <th>Pz_Beta_rel</th>\n",
       "      <th>Pz_Gamma_rel</th>\n",
       "      <th>group</th>\n",
       "      <th>label</th>\n",
       "      <th>numeric_label</th>\n",
       "    </tr>\n",
       "  </thead>\n",
       "  <tbody>\n",
       "    <tr>\n",
       "      <th>12643</th>\n",
       "      <td>0.9584359662715475</td>\n",
       "      <td>0.02139107542285754</td>\n",
       "      <td>0.008016072466126397</td>\n",
       "      <td>0.0032257992625293747</td>\n",
       "      <td>0.006566514998219926</td>\n",
       "      <td>0.002364571578719362</td>\n",
       "      <td>0.9560117032763731</td>\n",
       "      <td>0.02349162525715205</td>\n",
       "      <td>0.007807682803465128</td>\n",
       "      <td>0.0032779950886563064</td>\n",
       "      <td>...</td>\n",
       "      <td>0.0042810739476969685</td>\n",
       "      <td>0.8368383647573424</td>\n",
       "      <td>0.05340677735312753</td>\n",
       "      <td>0.08105681524464484</td>\n",
       "      <td>0.008625300229815834</td>\n",
       "      <td>0.014948916641282733</td>\n",
       "      <td>0.005123825773786466</td>\n",
       "      <td>sub-049</td>\n",
       "      <td>C</td>\n",
       "      <td>1</td>\n",
       "    </tr>\n",
       "    <tr>\n",
       "      <th>9443</th>\n",
       "      <td>0.9654205558423754</td>\n",
       "      <td>0.019684052027146078</td>\n",
       "      <td>0.006472477939750562</td>\n",
       "      <td>0.0019026505190689299</td>\n",
       "      <td>0.0053274046108602955</td>\n",
       "      <td>0.0011928590607987954</td>\n",
       "      <td>0.9656190963999445</td>\n",
       "      <td>0.02097733015159907</td>\n",
       "      <td>0.005505444250434178</td>\n",
       "      <td>0.0021913123899859398</td>\n",
       "      <td>...</td>\n",
       "      <td>0.0009324848372955078</td>\n",
       "      <td>0.9263567076669021</td>\n",
       "      <td>0.027546618876392388</td>\n",
       "      <td>0.03931872455589075</td>\n",
       "      <td>0.0024106979936945115</td>\n",
       "      <td>0.003534700309697054</td>\n",
       "      <td>0.0008325505974227667</td>\n",
       "      <td>sub-037</td>\n",
       "      <td>C</td>\n",
       "      <td>1</td>\n",
       "    </tr>\n",
       "  </tbody>\n",
       "</table>\n",
       "<p>2 rows × 117 columns</p>\n",
       "</div>"
      ],
      "text/plain": [
       "            Fp1_Delta_rel         Fp1_Theta_rel         Fp1_Alpha_rel  \\\n",
       "12643  0.9584359662715475   0.02139107542285754  0.008016072466126397   \n",
       "9443   0.9654205558423754  0.019684052027146078  0.006472477939750562   \n",
       "\n",
       "               Fp1_Sigma_rel           Fp1_Beta_rel          Fp1_Gamma_rel  \\\n",
       "12643  0.0032257992625293747   0.006566514998219926   0.002364571578719362   \n",
       "9443   0.0019026505190689299  0.0053274046108602955  0.0011928590607987954   \n",
       "\n",
       "            Fp2_Delta_rel        Fp2_Theta_rel         Fp2_Alpha_rel  \\\n",
       "12643  0.9560117032763731  0.02349162525715205  0.007807682803465128   \n",
       "9443   0.9656190963999445  0.02097733015159907  0.005505444250434178   \n",
       "\n",
       "               Fp2_Sigma_rel  ...           Cz_Gamma_rel        Pz_Delta_rel  \\\n",
       "12643  0.0032779950886563064  ...  0.0042810739476969685  0.8368383647573424   \n",
       "9443   0.0021913123899859398  ...  0.0009324848372955078  0.9263567076669021   \n",
       "\n",
       "               Pz_Theta_rel         Pz_Alpha_rel           Pz_Sigma_rel  \\\n",
       "12643   0.05340677735312753  0.08105681524464484   0.008625300229815834   \n",
       "9443   0.027546618876392388  0.03931872455589075  0.0024106979936945115   \n",
       "\n",
       "                Pz_Beta_rel           Pz_Gamma_rel    group label  \\\n",
       "12643  0.014948916641282733   0.005123825773786466  sub-049     C   \n",
       "9443   0.003534700309697054  0.0008325505974227667  sub-037     C   \n",
       "\n",
       "      numeric_label  \n",
       "12643             1  \n",
       "9443              1  \n",
       "\n",
       "[2 rows x 117 columns]"
      ]
     },
     "execution_count": 7,
     "metadata": {},
     "output_type": "execute_result"
    }
   ],
   "source": [
    "filtered_df.head(2)"
   ]
  },
  {
   "cell_type": "code",
   "execution_count": 34,
   "id": "76d43f1b-d863-4382-8b28-b93272d8731f",
   "metadata": {},
   "outputs": [],
   "source": [
    "features = filtered_df.iloc[:, :-3].to_numpy()\n",
    "labels = filtered_df.numeric_label.to_numpy()\n",
    "groups = filtered_df.group.to_numpy()"
   ]
  },
  {
   "cell_type": "code",
   "execution_count": 35,
   "id": "ae4ec604-76d7-4914-9a26-f025c2e26efd",
   "metadata": {},
   "outputs": [
    {
     "data": {
      "text/plain": [
       "((16410, 114), (16410,), (16410,))"
      ]
     },
     "execution_count": 35,
     "metadata": {},
     "output_type": "execute_result"
    }
   ],
   "source": [
    "features.shape, labels.shape, groups.shape"
   ]
  },
  {
   "cell_type": "code",
   "execution_count": 46,
   "id": "c35a6682-9b5f-4e3b-8fb2-c418dcd5533a",
   "metadata": {},
   "outputs": [
    {
     "name": "stdout",
     "output_type": "stream",
     "text": [
      "### 0 subject compelete.\n",
      "        test group: ['sub-001']        \n",
      "    \n"
     ]
    },
    {
     "name": "stderr",
     "output_type": "stream",
     "text": [
      "C:\\Users\\Kian\\AppData\\Local\\Programs\\Python\\Python311\\Lib\\site-packages\\sklearn\\linear_model\\_coordinate_descent.py:614: ConvergenceWarning: Objective did not converge. You might want to increase the number of iterations. Duality gap: 0.5402670186842897, tolerance: 0.31680906199084446\n",
      "  model = cd_fast.enet_coordinate_descent_gram(\n",
      "C:\\Users\\Kian\\AppData\\Local\\Programs\\Python\\Python311\\Lib\\site-packages\\sklearn\\linear_model\\_coordinate_descent.py:614: ConvergenceWarning: Objective did not converge. You might want to increase the number of iterations. Duality gap: 0.996484162757497, tolerance: 0.31680906199084446\n",
      "  model = cd_fast.enet_coordinate_descent_gram(\n",
      "C:\\Users\\Kian\\AppData\\Local\\Programs\\Python\\Python311\\Lib\\site-packages\\sklearn\\linear_model\\_coordinate_descent.py:614: ConvergenceWarning: Objective did not converge. You might want to increase the number of iterations. Duality gap: 0.4233360035336773, tolerance: 0.3168220187757003\n",
      "  model = cd_fast.enet_coordinate_descent_gram(\n",
      "C:\\Users\\Kian\\AppData\\Local\\Programs\\Python\\Python311\\Lib\\site-packages\\sklearn\\linear_model\\_coordinate_descent.py:614: ConvergenceWarning: Objective did not converge. You might want to increase the number of iterations. Duality gap: 0.4969501765581299, tolerance: 0.31676294802172233\n",
      "  model = cd_fast.enet_coordinate_descent_gram(\n",
      "C:\\Users\\Kian\\AppData\\Local\\Programs\\Python\\Python311\\Lib\\site-packages\\sklearn\\linear_model\\_coordinate_descent.py:614: ConvergenceWarning: Objective did not converge. You might want to increase the number of iterations. Duality gap: 0.5000781699661729, tolerance: 0.31631031807602844\n",
      "  model = cd_fast.enet_coordinate_descent_gram(\n",
      "C:\\Users\\Kian\\AppData\\Local\\Programs\\Python\\Python311\\Lib\\site-packages\\sklearn\\linear_model\\_coordinate_descent.py:614: ConvergenceWarning: Objective did not converge. You might want to increase the number of iterations. Duality gap: 0.7007101295650955, tolerance: 0.31631031807602844\n",
      "  model = cd_fast.enet_coordinate_descent_gram(\n",
      "C:\\Users\\Kian\\AppData\\Local\\Programs\\Python\\Python311\\Lib\\site-packages\\sklearn\\linear_model\\_coordinate_descent.py:614: ConvergenceWarning: Objective did not converge. You might want to increase the number of iterations. Duality gap: 0.6998206218240739, tolerance: 0.31631031807602844\n",
      "  model = cd_fast.enet_coordinate_descent_gram(\n",
      "C:\\Users\\Kian\\AppData\\Local\\Programs\\Python\\Python311\\Lib\\site-packages\\sklearn\\linear_model\\_coordinate_descent.py:614: ConvergenceWarning: Objective did not converge. You might want to increase the number of iterations. Duality gap: 0.696257448298411, tolerance: 0.31631031807602844\n",
      "  model = cd_fast.enet_coordinate_descent_gram(\n",
      "C:\\Users\\Kian\\AppData\\Local\\Programs\\Python\\Python311\\Lib\\site-packages\\sklearn\\linear_model\\_coordinate_descent.py:614: ConvergenceWarning: Objective did not converge. You might want to increase the number of iterations. Duality gap: 0.6992815307394267, tolerance: 0.31631031807602844\n",
      "  model = cd_fast.enet_coordinate_descent_gram(\n",
      "C:\\Users\\Kian\\AppData\\Local\\Programs\\Python\\Python311\\Lib\\site-packages\\sklearn\\linear_model\\_coordinate_descent.py:628: ConvergenceWarning: Objective did not converge. You might want to increase the number of iterations, check the scale of the features or consider increasing regularisation. Duality gap: 9.031e-01, tolerance: 3.959e-01\n",
      "  model = cd_fast.enet_coordinate_descent(\n",
      "C:\\Users\\Kian\\AppData\\Local\\Programs\\Python\\Python311\\Lib\\site-packages\\sklearn\\metrics\\_classification.py:1471: UndefinedMetricWarning: Recall is ill-defined and being set to 0.0 due to no true samples. Use `zero_division` parameter to control this behavior.\n",
      "  _warn_prf(average, modifier, msg_start, len(result))\n"
     ]
    },
    {
     "name": "stdout",
     "output_type": "stream",
     "text": [
      "\n",
      "            ts acc: 0.9932885906040269\n",
      "            ts f1: 0.0 \n",
      "            ts sensitivity: 0.0 \n",
      "            ts specificity: 0.0\n",
      "    \n",
      "### 1 subject compelete.\n",
      "        test group: ['sub-002']        \n",
      "    \n"
     ]
    },
    {
     "name": "stderr",
     "output_type": "stream",
     "text": [
      "C:\\Users\\Kian\\AppData\\Local\\Programs\\Python\\Python311\\Lib\\site-packages\\sklearn\\linear_model\\_coordinate_descent.py:614: ConvergenceWarning: Objective did not converge. You might want to increase the number of iterations. Duality gap: 1.4438056178971692, tolerance: 0.31536692944114914\n",
      "  model = cd_fast.enet_coordinate_descent_gram(\n",
      "C:\\Users\\Kian\\AppData\\Local\\Programs\\Python\\Python311\\Lib\\site-packages\\sklearn\\linear_model\\_coordinate_descent.py:614: ConvergenceWarning: Objective did not converge. You might want to increase the number of iterations. Duality gap: 0.38835638321188526, tolerance: 0.31526714798626265\n",
      "  model = cd_fast.enet_coordinate_descent_gram(\n",
      "C:\\Users\\Kian\\AppData\\Local\\Programs\\Python\\Python311\\Lib\\site-packages\\sklearn\\linear_model\\_coordinate_descent.py:614: ConvergenceWarning: Objective did not converge. You might want to increase the number of iterations. Duality gap: 0.3384935709329966, tolerance: 0.31526714798626265\n",
      "  model = cd_fast.enet_coordinate_descent_gram(\n",
      "C:\\Users\\Kian\\AppData\\Local\\Programs\\Python\\Python311\\Lib\\site-packages\\sklearn\\linear_model\\_coordinate_descent.py:614: ConvergenceWarning: Objective did not converge. You might want to increase the number of iterations. Duality gap: 0.4656087681169083, tolerance: 0.31526714798626265\n",
      "  model = cd_fast.enet_coordinate_descent_gram(\n",
      "C:\\Users\\Kian\\AppData\\Local\\Programs\\Python\\Python311\\Lib\\site-packages\\sklearn\\linear_model\\_coordinate_descent.py:614: ConvergenceWarning: Objective did not converge. You might want to increase the number of iterations. Duality gap: 0.3342075246303011, tolerance: 0.3153420777396193\n",
      "  model = cd_fast.enet_coordinate_descent_gram(\n",
      "C:\\Users\\Kian\\AppData\\Local\\Programs\\Python\\Python311\\Lib\\site-packages\\sklearn\\linear_model\\_coordinate_descent.py:614: ConvergenceWarning: Objective did not converge. You might want to increase the number of iterations. Duality gap: 0.44407554321128373, tolerance: 0.3153420777396193\n",
      "  model = cd_fast.enet_coordinate_descent_gram(\n",
      "C:\\Users\\Kian\\AppData\\Local\\Programs\\Python\\Python311\\Lib\\site-packages\\sklearn\\linear_model\\_coordinate_descent.py:628: ConvergenceWarning: Objective did not converge. You might want to increase the number of iterations, check the scale of the features or consider increasing regularisation. Duality gap: 5.281e-01, tolerance: 3.941e-01\n",
      "  model = cd_fast.enet_coordinate_descent(\n",
      "C:\\Users\\Kian\\AppData\\Local\\Programs\\Python\\Python311\\Lib\\site-packages\\sklearn\\metrics\\_classification.py:1471: UndefinedMetricWarning: Recall is ill-defined and being set to 0.0 due to no true samples. Use `zero_division` parameter to control this behavior.\n",
      "  _warn_prf(average, modifier, msg_start, len(result))\n"
     ]
    },
    {
     "name": "stdout",
     "output_type": "stream",
     "text": [
      "\n",
      "            ts acc: 0.47341772151898737\n",
      "            ts f1: 0.0 \n",
      "            ts sensitivity: 0.0 \n",
      "            ts specificity: 0.0\n",
      "    \n",
      "### 2 subject compelete.\n",
      "        test group: ['sub-003']        \n",
      "    \n"
     ]
    },
    {
     "name": "stderr",
     "output_type": "stream",
     "text": [
      "C:\\Users\\Kian\\AppData\\Local\\Programs\\Python\\Python311\\Lib\\site-packages\\sklearn\\linear_model\\_coordinate_descent.py:614: ConvergenceWarning: Objective did not converge. You might want to increase the number of iterations. Duality gap: 0.4821233686400319, tolerance: 0.3190460402890972\n",
      "  model = cd_fast.enet_coordinate_descent_gram(\n",
      "C:\\Users\\Kian\\AppData\\Local\\Programs\\Python\\Python311\\Lib\\site-packages\\sklearn\\linear_model\\_coordinate_descent.py:614: ConvergenceWarning: Objective did not converge. You might want to increase the number of iterations. Duality gap: 0.5633881277947239, tolerance: 0.3190460402890972\n",
      "  model = cd_fast.enet_coordinate_descent_gram(\n",
      "C:\\Users\\Kian\\AppData\\Local\\Programs\\Python\\Python311\\Lib\\site-packages\\sklearn\\linear_model\\_coordinate_descent.py:614: ConvergenceWarning: Objective did not converge. You might want to increase the number of iterations. Duality gap: 0.4440550360770885, tolerance: 0.31903233123173863\n",
      "  model = cd_fast.enet_coordinate_descent_gram(\n",
      "C:\\Users\\Kian\\AppData\\Local\\Programs\\Python\\Python311\\Lib\\site-packages\\sklearn\\linear_model\\_coordinate_descent.py:614: ConvergenceWarning: Objective did not converge. You might want to increase the number of iterations. Duality gap: 0.34169068568303373, tolerance: 0.31888051668460676\n",
      "  model = cd_fast.enet_coordinate_descent_gram(\n",
      "C:\\Users\\Kian\\AppData\\Local\\Programs\\Python\\Python311\\Lib\\site-packages\\sklearn\\linear_model\\_coordinate_descent.py:614: ConvergenceWarning: Objective did not converge. You might want to increase the number of iterations. Duality gap: 0.4598399603121379, tolerance: 0.31847535942185057\n",
      "  model = cd_fast.enet_coordinate_descent_gram(\n",
      "C:\\Users\\Kian\\AppData\\Local\\Programs\\Python\\Python311\\Lib\\site-packages\\sklearn\\linear_model\\_coordinate_descent.py:628: ConvergenceWarning: Objective did not converge. You might want to increase the number of iterations, check the scale of the features or consider increasing regularisation. Duality gap: 1.210e+01, tolerance: 3.986e-01\n",
      "  model = cd_fast.enet_coordinate_descent(\n",
      "C:\\Users\\Kian\\AppData\\Local\\Programs\\Python\\Python311\\Lib\\site-packages\\sklearn\\metrics\\_classification.py:1471: UndefinedMetricWarning: Recall is ill-defined and being set to 0.0 due to no true samples. Use `zero_division` parameter to control this behavior.\n",
      "  _warn_prf(average, modifier, msg_start, len(result))\n"
     ]
    },
    {
     "name": "stdout",
     "output_type": "stream",
     "text": [
      "\n",
      "            ts acc: 0.3815789473684211\n",
      "            ts f1: 0.0 \n",
      "            ts sensitivity: 0.0 \n",
      "            ts specificity: 0.0\n",
      "    \n",
      "### 3 subject compelete.\n",
      "        test group: ['sub-004']        \n",
      "    \n"
     ]
    },
    {
     "name": "stderr",
     "output_type": "stream",
     "text": [
      "C:\\Users\\Kian\\AppData\\Local\\Programs\\Python\\Python311\\Lib\\site-packages\\sklearn\\linear_model\\_coordinate_descent.py:614: ConvergenceWarning: Objective did not converge. You might want to increase the number of iterations. Duality gap: 0.3329205130846731, tolerance: 0.3159284446520323\n",
      "  model = cd_fast.enet_coordinate_descent_gram(\n",
      "C:\\Users\\Kian\\AppData\\Local\\Programs\\Python\\Python311\\Lib\\site-packages\\sklearn\\linear_model\\_coordinate_descent.py:614: ConvergenceWarning: Objective did not converge. You might want to increase the number of iterations. Duality gap: 0.5102001546160864, tolerance: 0.3159284446520323\n",
      "  model = cd_fast.enet_coordinate_descent_gram(\n",
      "C:\\Users\\Kian\\AppData\\Local\\Programs\\Python\\Python311\\Lib\\site-packages\\sklearn\\linear_model\\_coordinate_descent.py:614: ConvergenceWarning: Objective did not converge. You might want to increase the number of iterations. Duality gap: 0.3382834809617634, tolerance: 0.3158773158959988\n",
      "  model = cd_fast.enet_coordinate_descent_gram(\n",
      "C:\\Users\\Kian\\AppData\\Local\\Programs\\Python\\Python311\\Lib\\site-packages\\sklearn\\linear_model\\_coordinate_descent.py:614: ConvergenceWarning: Objective did not converge. You might want to increase the number of iterations. Duality gap: 0.41482037171454067, tolerance: 0.3158773158959988\n",
      "  model = cd_fast.enet_coordinate_descent_gram(\n",
      "C:\\Users\\Kian\\AppData\\Local\\Programs\\Python\\Python311\\Lib\\site-packages\\sklearn\\linear_model\\_coordinate_descent.py:614: ConvergenceWarning: Objective did not converge. You might want to increase the number of iterations. Duality gap: 0.3199730363296567, tolerance: 0.3158773158959988\n",
      "  model = cd_fast.enet_coordinate_descent_gram(\n",
      "C:\\Users\\Kian\\AppData\\Local\\Programs\\Python\\Python311\\Lib\\site-packages\\sklearn\\linear_model\\_coordinate_descent.py:628: ConvergenceWarning: Objective did not converge. You might want to increase the number of iterations, check the scale of the features or consider increasing regularisation. Duality gap: 2.040e+01, tolerance: 3.949e-01\n",
      "  model = cd_fast.enet_coordinate_descent(\n",
      "C:\\Users\\Kian\\AppData\\Local\\Programs\\Python\\Python311\\Lib\\site-packages\\sklearn\\metrics\\_classification.py:1760: UndefinedMetricWarning: F-score is ill-defined and being set to 0.0 due to no true nor predicted samples. Use `zero_division` parameter to control this behavior.\n",
      "  _warn_prf(average, \"true nor predicted\", \"F-score is\", len(true_sum))\n",
      "C:\\Users\\Kian\\AppData\\Local\\Programs\\Python\\Python311\\Lib\\site-packages\\sklearn\\metrics\\_classification.py:1471: UndefinedMetricWarning: Recall is ill-defined and being set to 0.0 due to no true samples. Use `zero_division` parameter to control this behavior.\n",
      "  _warn_prf(average, modifier, msg_start, len(result))\n",
      "C:\\Users\\Kian\\AppData\\Local\\Programs\\Python\\Python311\\Lib\\site-packages\\sklearn\\metrics\\_classification.py:1471: UndefinedMetricWarning: Precision is ill-defined and being set to 0.0 due to no predicted samples. Use `zero_division` parameter to control this behavior.\n",
      "  _warn_prf(average, modifier, msg_start, len(result))\n"
     ]
    },
    {
     "name": "stdout",
     "output_type": "stream",
     "text": [
      "\n",
      "            ts acc: 1.0\n",
      "            ts f1: 0.0 \n",
      "            ts sensitivity: 0.0 \n",
      "            ts specificity: 0.0\n",
      "    \n",
      "### 4 subject compelete.\n",
      "        test group: ['sub-005']        \n",
      "    \n"
     ]
    },
    {
     "name": "stderr",
     "output_type": "stream",
     "text": [
      "C:\\Users\\Kian\\AppData\\Local\\Programs\\Python\\Python311\\Lib\\site-packages\\sklearn\\linear_model\\_coordinate_descent.py:614: ConvergenceWarning: Objective did not converge. You might want to increase the number of iterations. Duality gap: 0.47839003874241826, tolerance: 0.31522136331693656\n",
      "  model = cd_fast.enet_coordinate_descent_gram(\n",
      "C:\\Users\\Kian\\AppData\\Local\\Programs\\Python\\Python311\\Lib\\site-packages\\sklearn\\linear_model\\_coordinate_descent.py:614: ConvergenceWarning: Objective did not converge. You might want to increase the number of iterations. Duality gap: 0.4151211394735128, tolerance: 0.31522136331693656\n",
      "  model = cd_fast.enet_coordinate_descent_gram(\n",
      "C:\\Users\\Kian\\AppData\\Local\\Programs\\Python\\Python311\\Lib\\site-packages\\sklearn\\linear_model\\_coordinate_descent.py:614: ConvergenceWarning: Objective did not converge. You might want to increase the number of iterations. Duality gap: 0.47096798545453566, tolerance: 0.31522136331693656\n",
      "  model = cd_fast.enet_coordinate_descent_gram(\n",
      "C:\\Users\\Kian\\AppData\\Local\\Programs\\Python\\Python311\\Lib\\site-packages\\sklearn\\linear_model\\_coordinate_descent.py:614: ConvergenceWarning: Objective did not converge. You might want to increase the number of iterations. Duality gap: 0.6566850483075086, tolerance: 0.31522136331693656\n",
      "  model = cd_fast.enet_coordinate_descent_gram(\n",
      "C:\\Users\\Kian\\AppData\\Local\\Programs\\Python\\Python311\\Lib\\site-packages\\sklearn\\linear_model\\_coordinate_descent.py:614: ConvergenceWarning: Objective did not converge. You might want to increase the number of iterations. Duality gap: 0.7637286478823171, tolerance: 0.31522136331693656\n",
      "  model = cd_fast.enet_coordinate_descent_gram(\n",
      "C:\\Users\\Kian\\AppData\\Local\\Programs\\Python\\Python311\\Lib\\site-packages\\sklearn\\linear_model\\_coordinate_descent.py:614: ConvergenceWarning: Objective did not converge. You might want to increase the number of iterations. Duality gap: 0.3532064768821783, tolerance: 0.31515897556024086\n",
      "  model = cd_fast.enet_coordinate_descent_gram(\n",
      "C:\\Users\\Kian\\AppData\\Local\\Programs\\Python\\Python311\\Lib\\site-packages\\sklearn\\linear_model\\_coordinate_descent.py:614: ConvergenceWarning: Objective did not converge. You might want to increase the number of iterations. Duality gap: 0.4379483875088681, tolerance: 0.31515897556024086\n",
      "  model = cd_fast.enet_coordinate_descent_gram(\n",
      "C:\\Users\\Kian\\AppData\\Local\\Programs\\Python\\Python311\\Lib\\site-packages\\sklearn\\linear_model\\_coordinate_descent.py:614: ConvergenceWarning: Objective did not converge. You might want to increase the number of iterations. Duality gap: 1.1232278296945424, tolerance: 0.31530805028500014\n",
      "  model = cd_fast.enet_coordinate_descent_gram(\n",
      "C:\\Users\\Kian\\AppData\\Local\\Programs\\Python\\Python311\\Lib\\site-packages\\sklearn\\linear_model\\_coordinate_descent.py:614: ConvergenceWarning: Objective did not converge. You might want to increase the number of iterations. Duality gap: 0.45208301349885005, tolerance: 0.31530805028500014\n",
      "  model = cd_fast.enet_coordinate_descent_gram(\n",
      "C:\\Users\\Kian\\AppData\\Local\\Programs\\Python\\Python311\\Lib\\site-packages\\sklearn\\linear_model\\_coordinate_descent.py:614: ConvergenceWarning: Objective did not converge. You might want to increase the number of iterations. Duality gap: 0.36805667493058536, tolerance: 0.31530805028500014\n",
      "  model = cd_fast.enet_coordinate_descent_gram(\n",
      "C:\\Users\\Kian\\AppData\\Local\\Programs\\Python\\Python311\\Lib\\site-packages\\sklearn\\linear_model\\_coordinate_descent.py:614: ConvergenceWarning: Objective did not converge. You might want to increase the number of iterations. Duality gap: 0.5720387304820633, tolerance: 0.31530805028500014\n",
      "  model = cd_fast.enet_coordinate_descent_gram(\n",
      "C:\\Users\\Kian\\AppData\\Local\\Programs\\Python\\Python311\\Lib\\site-packages\\sklearn\\linear_model\\_coordinate_descent.py:614: ConvergenceWarning: Objective did not converge. You might want to increase the number of iterations. Duality gap: 0.6130273537737594, tolerance: 0.31478237820112426\n",
      "  model = cd_fast.enet_coordinate_descent_gram(\n",
      "C:\\Users\\Kian\\AppData\\Local\\Programs\\Python\\Python311\\Lib\\site-packages\\sklearn\\linear_model\\_coordinate_descent.py:614: ConvergenceWarning: Objective did not converge. You might want to increase the number of iterations. Duality gap: 0.6221472675765654, tolerance: 0.31478237820112426\n",
      "  model = cd_fast.enet_coordinate_descent_gram(\n",
      "C:\\Users\\Kian\\AppData\\Local\\Programs\\Python\\Python311\\Lib\\site-packages\\sklearn\\linear_model\\_coordinate_descent.py:628: ConvergenceWarning: Objective did not converge. You might want to increase the number of iterations, check the scale of the features or consider increasing regularisation. Duality gap: 1.968e+01, tolerance: 3.939e-01\n",
      "  model = cd_fast.enet_coordinate_descent(\n",
      "C:\\Users\\Kian\\AppData\\Local\\Programs\\Python\\Python311\\Lib\\site-packages\\sklearn\\metrics\\_classification.py:1471: UndefinedMetricWarning: Recall is ill-defined and being set to 0.0 due to no true samples. Use `zero_division` parameter to control this behavior.\n",
      "  _warn_prf(average, modifier, msg_start, len(result))\n"
     ]
    },
    {
     "name": "stdout",
     "output_type": "stream",
     "text": [
      "\n",
      "            ts acc: 0.8977556109725686\n",
      "            ts f1: 0.0 \n",
      "            ts sensitivity: 0.0 \n",
      "            ts specificity: 0.0\n",
      "    \n",
      "### 5 subject compelete.\n",
      "        test group: ['sub-006']        \n",
      "    \n"
     ]
    },
    {
     "name": "stderr",
     "output_type": "stream",
     "text": [
      "C:\\Users\\Kian\\AppData\\Local\\Programs\\Python\\Python311\\Lib\\site-packages\\sklearn\\linear_model\\_coordinate_descent.py:614: ConvergenceWarning: Objective did not converge. You might want to increase the number of iterations. Duality gap: 0.38701249695304796, tolerance: 0.3166140027958992\n",
      "  model = cd_fast.enet_coordinate_descent_gram(\n",
      "C:\\Users\\Kian\\AppData\\Local\\Programs\\Python\\Python311\\Lib\\site-packages\\sklearn\\linear_model\\_coordinate_descent.py:614: ConvergenceWarning: Objective did not converge. You might want to increase the number of iterations. Duality gap: 0.8451039557189688, tolerance: 0.3166140027958992\n",
      "  model = cd_fast.enet_coordinate_descent_gram(\n",
      "C:\\Users\\Kian\\AppData\\Local\\Programs\\Python\\Python311\\Lib\\site-packages\\sklearn\\linear_model\\_coordinate_descent.py:614: ConvergenceWarning: Objective did not converge. You might want to increase the number of iterations. Duality gap: 0.8002557151041856, tolerance: 0.3166140027958992\n",
      "  model = cd_fast.enet_coordinate_descent_gram(\n",
      "C:\\Users\\Kian\\AppData\\Local\\Programs\\Python\\Python311\\Lib\\site-packages\\sklearn\\linear_model\\_coordinate_descent.py:614: ConvergenceWarning: Objective did not converge. You might want to increase the number of iterations. Duality gap: 0.39950890200452704, tolerance: 0.3166140027958992\n",
      "  model = cd_fast.enet_coordinate_descent_gram(\n",
      "C:\\Users\\Kian\\AppData\\Local\\Programs\\Python\\Python311\\Lib\\site-packages\\sklearn\\linear_model\\_coordinate_descent.py:614: ConvergenceWarning: Objective did not converge. You might want to increase the number of iterations. Duality gap: 0.320461977813693, tolerance: 0.3166140027958992\n",
      "  model = cd_fast.enet_coordinate_descent_gram(\n",
      "C:\\Users\\Kian\\AppData\\Local\\Programs\\Python\\Python311\\Lib\\site-packages\\sklearn\\linear_model\\_coordinate_descent.py:614: ConvergenceWarning: Objective did not converge. You might want to increase the number of iterations. Duality gap: 0.32027972594369203, tolerance: 0.3164330770425603\n",
      "  model = cd_fast.enet_coordinate_descent_gram(\n",
      "C:\\Users\\Kian\\AppData\\Local\\Programs\\Python\\Python311\\Lib\\site-packages\\sklearn\\linear_model\\_coordinate_descent.py:614: ConvergenceWarning: Objective did not converge. You might want to increase the number of iterations. Duality gap: 0.5141825082253035, tolerance: 0.3164330770425603\n",
      "  model = cd_fast.enet_coordinate_descent_gram(\n",
      "C:\\Users\\Kian\\AppData\\Local\\Programs\\Python\\Python311\\Lib\\site-packages\\sklearn\\linear_model\\_coordinate_descent.py:614: ConvergenceWarning: Objective did not converge. You might want to increase the number of iterations. Duality gap: 0.7270701842082872, tolerance: 0.3164330770425603\n",
      "  model = cd_fast.enet_coordinate_descent_gram(\n",
      "C:\\Users\\Kian\\AppData\\Local\\Programs\\Python\\Python311\\Lib\\site-packages\\sklearn\\linear_model\\_coordinate_descent.py:614: ConvergenceWarning: Objective did not converge. You might want to increase the number of iterations. Duality gap: 0.37057129392019306, tolerance: 0.3164330770425603\n",
      "  model = cd_fast.enet_coordinate_descent_gram(\n",
      "C:\\Users\\Kian\\AppData\\Local\\Programs\\Python\\Python311\\Lib\\site-packages\\sklearn\\linear_model\\_coordinate_descent.py:614: ConvergenceWarning: Objective did not converge. You might want to increase the number of iterations. Duality gap: 0.3394625717512554, tolerance: 0.316588342652998\n",
      "  model = cd_fast.enet_coordinate_descent_gram(\n",
      "C:\\Users\\Kian\\AppData\\Local\\Programs\\Python\\Python311\\Lib\\site-packages\\sklearn\\linear_model\\_coordinate_descent.py:614: ConvergenceWarning: Objective did not converge. You might want to increase the number of iterations. Duality gap: 0.3293107872991641, tolerance: 0.316588342652998\n",
      "  model = cd_fast.enet_coordinate_descent_gram(\n",
      "C:\\Users\\Kian\\AppData\\Local\\Programs\\Python\\Python311\\Lib\\site-packages\\sklearn\\linear_model\\_coordinate_descent.py:614: ConvergenceWarning: Objective did not converge. You might want to increase the number of iterations. Duality gap: 0.8296055425375926, tolerance: 0.31616933053743335\n",
      "  model = cd_fast.enet_coordinate_descent_gram(\n",
      "C:\\Users\\Kian\\AppData\\Local\\Programs\\Python\\Python311\\Lib\\site-packages\\sklearn\\linear_model\\_coordinate_descent.py:614: ConvergenceWarning: Objective did not converge. You might want to increase the number of iterations. Duality gap: 0.45465795981431256, tolerance: 0.31616933053743335\n",
      "  model = cd_fast.enet_coordinate_descent_gram(\n",
      "C:\\Users\\Kian\\AppData\\Local\\Programs\\Python\\Python311\\Lib\\site-packages\\sklearn\\linear_model\\_coordinate_descent.py:628: ConvergenceWarning: Objective did not converge. You might want to increase the number of iterations, check the scale of the features or consider increasing regularisation. Duality gap: 4.484e+00, tolerance: 3.956e-01\n",
      "  model = cd_fast.enet_coordinate_descent(\n",
      "C:\\Users\\Kian\\AppData\\Local\\Programs\\Python\\Python311\\Lib\\site-packages\\sklearn\\metrics\\_classification.py:1471: UndefinedMetricWarning: Recall is ill-defined and being set to 0.0 due to no true samples. Use `zero_division` parameter to control this behavior.\n",
      "  _warn_prf(average, modifier, msg_start, len(result))\n"
     ]
    },
    {
     "name": "stdout",
     "output_type": "stream",
     "text": [
      "\n",
      "            ts acc: 0.3333333333333333\n",
      "            ts f1: 0.0 \n",
      "            ts sensitivity: 0.0 \n",
      "            ts specificity: 0.0\n",
      "    \n",
      "### 6 subject compelete.\n",
      "        test group: ['sub-007']        \n",
      "    \n"
     ]
    },
    {
     "name": "stderr",
     "output_type": "stream",
     "text": [
      "C:\\Users\\Kian\\AppData\\Local\\Programs\\Python\\Python311\\Lib\\site-packages\\sklearn\\linear_model\\_coordinate_descent.py:614: ConvergenceWarning: Objective did not converge. You might want to increase the number of iterations. Duality gap: 1.599220819810398, tolerance: 0.3156579082826389\n",
      "  model = cd_fast.enet_coordinate_descent_gram(\n",
      "C:\\Users\\Kian\\AppData\\Local\\Programs\\Python\\Python311\\Lib\\site-packages\\sklearn\\linear_model\\_coordinate_descent.py:614: ConvergenceWarning: Objective did not converge. You might want to increase the number of iterations. Duality gap: 0.5732754618929903, tolerance: 0.3156579082826389\n",
      "  model = cd_fast.enet_coordinate_descent_gram(\n",
      "C:\\Users\\Kian\\AppData\\Local\\Programs\\Python\\Python311\\Lib\\site-packages\\sklearn\\linear_model\\_coordinate_descent.py:614: ConvergenceWarning: Objective did not converge. You might want to increase the number of iterations. Duality gap: 0.37194555788528305, tolerance: 0.3154708469817503\n",
      "  model = cd_fast.enet_coordinate_descent_gram(\n",
      "C:\\Users\\Kian\\AppData\\Local\\Programs\\Python\\Python311\\Lib\\site-packages\\sklearn\\linear_model\\_coordinate_descent.py:614: ConvergenceWarning: Objective did not converge. You might want to increase the number of iterations. Duality gap: 0.3478158648108547, tolerance: 0.3154708469817503\n",
      "  model = cd_fast.enet_coordinate_descent_gram(\n",
      "C:\\Users\\Kian\\AppData\\Local\\Programs\\Python\\Python311\\Lib\\site-packages\\sklearn\\linear_model\\_coordinate_descent.py:614: ConvergenceWarning: Objective did not converge. You might want to increase the number of iterations. Duality gap: 0.6129635881507056, tolerance: 0.3154708469817503\n",
      "  model = cd_fast.enet_coordinate_descent_gram(\n",
      "C:\\Users\\Kian\\AppData\\Local\\Programs\\Python\\Python311\\Lib\\site-packages\\sklearn\\linear_model\\_coordinate_descent.py:614: ConvergenceWarning: Objective did not converge. You might want to increase the number of iterations. Duality gap: 0.6280961667455358, tolerance: 0.3154708469817503\n",
      "  model = cd_fast.enet_coordinate_descent_gram(\n",
      "C:\\Users\\Kian\\AppData\\Local\\Programs\\Python\\Python311\\Lib\\site-packages\\sklearn\\linear_model\\_coordinate_descent.py:614: ConvergenceWarning: Objective did not converge. You might want to increase the number of iterations. Duality gap: 0.376622842174811, tolerance: 0.3154708469817503\n",
      "  model = cd_fast.enet_coordinate_descent_gram(\n",
      "C:\\Users\\Kian\\AppData\\Local\\Programs\\Python\\Python311\\Lib\\site-packages\\sklearn\\linear_model\\_coordinate_descent.py:614: ConvergenceWarning: Objective did not converge. You might want to increase the number of iterations. Duality gap: 0.3190501487658821, tolerance: 0.3154708469817503\n",
      "  model = cd_fast.enet_coordinate_descent_gram(\n",
      "C:\\Users\\Kian\\AppData\\Local\\Programs\\Python\\Python311\\Lib\\site-packages\\sklearn\\linear_model\\_coordinate_descent.py:614: ConvergenceWarning: Objective did not converge. You might want to increase the number of iterations. Duality gap: 0.3311855531906076, tolerance: 0.3154708469817503\n",
      "  model = cd_fast.enet_coordinate_descent_gram(\n",
      "C:\\Users\\Kian\\AppData\\Local\\Programs\\Python\\Python311\\Lib\\site-packages\\sklearn\\linear_model\\_coordinate_descent.py:614: ConvergenceWarning: Objective did not converge. You might want to increase the number of iterations. Duality gap: 0.5996017015224879, tolerance: 0.31505271777275257\n",
      "  model = cd_fast.enet_coordinate_descent_gram(\n",
      "C:\\Users\\Kian\\AppData\\Local\\Programs\\Python\\Python311\\Lib\\site-packages\\sklearn\\linear_model\\_coordinate_descent.py:614: ConvergenceWarning: Objective did not converge. You might want to increase the number of iterations. Duality gap: 0.36079860816516884, tolerance: 0.31505271777275257\n",
      "  model = cd_fast.enet_coordinate_descent_gram(\n",
      "C:\\Users\\Kian\\AppData\\Local\\Programs\\Python\\Python311\\Lib\\site-packages\\sklearn\\linear_model\\_coordinate_descent.py:628: ConvergenceWarning: Objective did not converge. You might want to increase the number of iterations, check the scale of the features or consider increasing regularisation. Duality gap: 2.678e+01, tolerance: 3.943e-01\n",
      "  model = cd_fast.enet_coordinate_descent(\n",
      "C:\\Users\\Kian\\AppData\\Local\\Programs\\Python\\Python311\\Lib\\site-packages\\sklearn\\metrics\\_classification.py:1471: UndefinedMetricWarning: Recall is ill-defined and being set to 0.0 due to no true samples. Use `zero_division` parameter to control this behavior.\n",
      "  _warn_prf(average, modifier, msg_start, len(result))\n"
     ]
    },
    {
     "name": "stdout",
     "output_type": "stream",
     "text": [
      "\n",
      "            ts acc: 0.9921465968586387\n",
      "            ts f1: 0.0 \n",
      "            ts sensitivity: 0.0 \n",
      "            ts specificity: 0.0\n",
      "    \n",
      "### 7 subject compelete.\n",
      "        test group: ['sub-008']        \n",
      "    \n"
     ]
    },
    {
     "name": "stderr",
     "output_type": "stream",
     "text": [
      "C:\\Users\\Kian\\AppData\\Local\\Programs\\Python\\Python311\\Lib\\site-packages\\sklearn\\linear_model\\_coordinate_descent.py:614: ConvergenceWarning: Objective did not converge. You might want to increase the number of iterations. Duality gap: 0.3211226533101126, tolerance: 0.3154040899157041\n",
      "  model = cd_fast.enet_coordinate_descent_gram(\n",
      "C:\\Users\\Kian\\AppData\\Local\\Programs\\Python\\Python311\\Lib\\site-packages\\sklearn\\linear_model\\_coordinate_descent.py:614: ConvergenceWarning: Objective did not converge. You might want to increase the number of iterations. Duality gap: 0.32483386019271165, tolerance: 0.3154040899157041\n",
      "  model = cd_fast.enet_coordinate_descent_gram(\n",
      "C:\\Users\\Kian\\AppData\\Local\\Programs\\Python\\Python311\\Lib\\site-packages\\sklearn\\linear_model\\_coordinate_descent.py:614: ConvergenceWarning: Objective did not converge. You might want to increase the number of iterations. Duality gap: 0.3189367770728495, tolerance: 0.3154040899157041\n",
      "  model = cd_fast.enet_coordinate_descent_gram(\n",
      "C:\\Users\\Kian\\AppData\\Local\\Programs\\Python\\Python311\\Lib\\site-packages\\sklearn\\linear_model\\_coordinate_descent.py:614: ConvergenceWarning: Objective did not converge. You might want to increase the number of iterations. Duality gap: 0.6499370497442669, tolerance: 0.3152671479862626\n",
      "  model = cd_fast.enet_coordinate_descent_gram(\n",
      "C:\\Users\\Kian\\AppData\\Local\\Programs\\Python\\Python311\\Lib\\site-packages\\sklearn\\linear_model\\_coordinate_descent.py:614: ConvergenceWarning: Objective did not converge. You might want to increase the number of iterations. Duality gap: 0.4489053374118157, tolerance: 0.3152671479862626\n",
      "  model = cd_fast.enet_coordinate_descent_gram(\n",
      "C:\\Users\\Kian\\AppData\\Local\\Programs\\Python\\Python311\\Lib\\site-packages\\sklearn\\linear_model\\_coordinate_descent.py:614: ConvergenceWarning: Objective did not converge. You might want to increase the number of iterations. Duality gap: 0.6104563334765771, tolerance: 0.3152671479862626\n",
      "  model = cd_fast.enet_coordinate_descent_gram(\n",
      "C:\\Users\\Kian\\AppData\\Local\\Programs\\Python\\Python311\\Lib\\site-packages\\sklearn\\linear_model\\_coordinate_descent.py:614: ConvergenceWarning: Objective did not converge. You might want to increase the number of iterations. Duality gap: 0.683777154914651, tolerance: 0.3152671479862626\n",
      "  model = cd_fast.enet_coordinate_descent_gram(\n",
      "C:\\Users\\Kian\\AppData\\Local\\Programs\\Python\\Python311\\Lib\\site-packages\\sklearn\\linear_model\\_coordinate_descent.py:614: ConvergenceWarning: Objective did not converge. You might want to increase the number of iterations. Duality gap: 0.6766785778529538, tolerance: 0.3152671479862626\n",
      "  model = cd_fast.enet_coordinate_descent_gram(\n",
      "C:\\Users\\Kian\\AppData\\Local\\Programs\\Python\\Python311\\Lib\\site-packages\\sklearn\\linear_model\\_coordinate_descent.py:614: ConvergenceWarning: Objective did not converge. You might want to increase the number of iterations. Duality gap: 0.5101781749422116, tolerance: 0.31530468310958537\n",
      "  model = cd_fast.enet_coordinate_descent_gram(\n",
      "C:\\Users\\Kian\\AppData\\Local\\Programs\\Python\\Python311\\Lib\\site-packages\\sklearn\\linear_model\\_coordinate_descent.py:614: ConvergenceWarning: Objective did not converge. You might want to increase the number of iterations. Duality gap: 0.9637307699445046, tolerance: 0.31530468310958537\n",
      "  model = cd_fast.enet_coordinate_descent_gram(\n",
      "C:\\Users\\Kian\\AppData\\Local\\Programs\\Python\\Python311\\Lib\\site-packages\\sklearn\\linear_model\\_coordinate_descent.py:614: ConvergenceWarning: Objective did not converge. You might want to increase the number of iterations. Duality gap: 1.325385927451407, tolerance: 0.31530468310958537\n",
      "  model = cd_fast.enet_coordinate_descent_gram(\n",
      "C:\\Users\\Kian\\AppData\\Local\\Programs\\Python\\Python311\\Lib\\site-packages\\sklearn\\linear_model\\_coordinate_descent.py:614: ConvergenceWarning: Objective did not converge. You might want to increase the number of iterations. Duality gap: 0.4985856245177729, tolerance: 0.31530468310958537\n",
      "  model = cd_fast.enet_coordinate_descent_gram(\n",
      "C:\\Users\\Kian\\AppData\\Local\\Programs\\Python\\Python311\\Lib\\site-packages\\sklearn\\linear_model\\_coordinate_descent.py:614: ConvergenceWarning: Objective did not converge. You might want to increase the number of iterations. Duality gap: 0.40102252397196025, tolerance: 0.31530468310958537\n",
      "  model = cd_fast.enet_coordinate_descent_gram(\n",
      "C:\\Users\\Kian\\AppData\\Local\\Programs\\Python\\Python311\\Lib\\site-packages\\sklearn\\linear_model\\_coordinate_descent.py:614: ConvergenceWarning: Objective did not converge. You might want to increase the number of iterations. Duality gap: 0.41555423253225854, tolerance: 0.31530468310958537\n",
      "  model = cd_fast.enet_coordinate_descent_gram(\n",
      "C:\\Users\\Kian\\AppData\\Local\\Programs\\Python\\Python311\\Lib\\site-packages\\sklearn\\linear_model\\_coordinate_descent.py:614: ConvergenceWarning: Objective did not converge. You might want to increase the number of iterations. Duality gap: 0.3792703383676326, tolerance: 0.31530468310958537\n",
      "  model = cd_fast.enet_coordinate_descent_gram(\n",
      "C:\\Users\\Kian\\AppData\\Local\\Programs\\Python\\Python311\\Lib\\site-packages\\sklearn\\linear_model\\_coordinate_descent.py:614: ConvergenceWarning: Objective did not converge. You might want to increase the number of iterations. Duality gap: 0.5971044296848049, tolerance: 0.31530468310958537\n",
      "  model = cd_fast.enet_coordinate_descent_gram(\n",
      "C:\\Users\\Kian\\AppData\\Local\\Programs\\Python\\Python311\\Lib\\site-packages\\sklearn\\linear_model\\_coordinate_descent.py:614: ConvergenceWarning: Objective did not converge. You might want to increase the number of iterations. Duality gap: 0.6937681279330263, tolerance: 0.31530468310958537\n",
      "  model = cd_fast.enet_coordinate_descent_gram(\n",
      "C:\\Users\\Kian\\AppData\\Local\\Programs\\Python\\Python311\\Lib\\site-packages\\sklearn\\linear_model\\_coordinate_descent.py:614: ConvergenceWarning: Objective did not converge. You might want to increase the number of iterations. Duality gap: 1.4493777804532328, tolerance: 0.3154164455198248\n",
      "  model = cd_fast.enet_coordinate_descent_gram(\n",
      "C:\\Users\\Kian\\AppData\\Local\\Programs\\Python\\Python311\\Lib\\site-packages\\sklearn\\linear_model\\_coordinate_descent.py:614: ConvergenceWarning: Objective did not converge. You might want to increase the number of iterations. Duality gap: 0.747184264446787, tolerance: 0.3154164455198248\n",
      "  model = cd_fast.enet_coordinate_descent_gram(\n",
      "C:\\Users\\Kian\\AppData\\Local\\Programs\\Python\\Python311\\Lib\\site-packages\\sklearn\\linear_model\\_coordinate_descent.py:614: ConvergenceWarning: Objective did not converge. You might want to increase the number of iterations. Duality gap: 0.4785473498363899, tolerance: 0.3154164455198248\n",
      "  model = cd_fast.enet_coordinate_descent_gram(\n",
      "C:\\Users\\Kian\\AppData\\Local\\Programs\\Python\\Python311\\Lib\\site-packages\\sklearn\\linear_model\\_coordinate_descent.py:614: ConvergenceWarning: Objective did not converge. You might want to increase the number of iterations. Duality gap: 0.3634178640127175, tolerance: 0.3154164455198248\n",
      "  model = cd_fast.enet_coordinate_descent_gram(\n",
      "C:\\Users\\Kian\\AppData\\Local\\Programs\\Python\\Python311\\Lib\\site-packages\\sklearn\\linear_model\\_coordinate_descent.py:614: ConvergenceWarning: Objective did not converge. You might want to increase the number of iterations. Duality gap: 0.31597665916046935, tolerance: 0.3154164455198248\n",
      "  model = cd_fast.enet_coordinate_descent_gram(\n",
      "C:\\Users\\Kian\\AppData\\Local\\Programs\\Python\\Python311\\Lib\\site-packages\\sklearn\\linear_model\\_coordinate_descent.py:614: ConvergenceWarning: Objective did not converge. You might want to increase the number of iterations. Duality gap: 0.367567786666541, tolerance: 0.3154164455198248\n",
      "  model = cd_fast.enet_coordinate_descent_gram(\n",
      "C:\\Users\\Kian\\AppData\\Local\\Programs\\Python\\Python311\\Lib\\site-packages\\sklearn\\linear_model\\_coordinate_descent.py:614: ConvergenceWarning: Objective did not converge. You might want to increase the number of iterations. Duality gap: 0.3157972047615658, tolerance: 0.3154164455198248\n",
      "  model = cd_fast.enet_coordinate_descent_gram(\n",
      "C:\\Users\\Kian\\AppData\\Local\\Programs\\Python\\Python311\\Lib\\site-packages\\sklearn\\linear_model\\_coordinate_descent.py:614: ConvergenceWarning: Objective did not converge. You might want to increase the number of iterations. Duality gap: 0.3816287932556861, tolerance: 0.3154164455198248\n",
      "  model = cd_fast.enet_coordinate_descent_gram(\n",
      "C:\\Users\\Kian\\AppData\\Local\\Programs\\Python\\Python311\\Lib\\site-packages\\sklearn\\linear_model\\_coordinate_descent.py:614: ConvergenceWarning: Objective did not converge. You might want to increase the number of iterations. Duality gap: 0.5071896288040989, tolerance: 0.3154164455198248\n",
      "  model = cd_fast.enet_coordinate_descent_gram(\n",
      "C:\\Users\\Kian\\AppData\\Local\\Programs\\Python\\Python311\\Lib\\site-packages\\sklearn\\linear_model\\_coordinate_descent.py:614: ConvergenceWarning: Objective did not converge. You might want to increase the number of iterations. Duality gap: 0.589643434452455, tolerance: 0.3154164455198248\n",
      "  model = cd_fast.enet_coordinate_descent_gram(\n",
      "C:\\Users\\Kian\\AppData\\Local\\Programs\\Python\\Python311\\Lib\\site-packages\\sklearn\\linear_model\\_coordinate_descent.py:614: ConvergenceWarning: Objective did not converge. You might want to increase the number of iterations. Duality gap: 0.6139559014111455, tolerance: 0.314844989072744\n",
      "  model = cd_fast.enet_coordinate_descent_gram(\n",
      "C:\\Users\\Kian\\AppData\\Local\\Programs\\Python\\Python311\\Lib\\site-packages\\sklearn\\linear_model\\_coordinate_descent.py:614: ConvergenceWarning: Objective did not converge. You might want to increase the number of iterations. Duality gap: 0.7204701722100708, tolerance: 0.314844989072744\n",
      "  model = cd_fast.enet_coordinate_descent_gram(\n",
      "C:\\Users\\Kian\\AppData\\Local\\Programs\\Python\\Python311\\Lib\\site-packages\\sklearn\\linear_model\\_coordinate_descent.py:628: ConvergenceWarning: Objective did not converge. You might want to increase the number of iterations, check the scale of the features or consider increasing regularisation. Duality gap: 1.348e+01, tolerance: 3.941e-01\n",
      "  model = cd_fast.enet_coordinate_descent(\n",
      "C:\\Users\\Kian\\AppData\\Local\\Programs\\Python\\Python311\\Lib\\site-packages\\sklearn\\metrics\\_classification.py:1471: UndefinedMetricWarning: Recall is ill-defined and being set to 0.0 due to no true samples. Use `zero_division` parameter to control this behavior.\n",
      "  _warn_prf(average, modifier, msg_start, len(result))\n"
     ]
    },
    {
     "name": "stdout",
     "output_type": "stream",
     "text": [
      "\n",
      "            ts acc: 0.9088607594936708\n",
      "            ts f1: 0.0 \n",
      "            ts sensitivity: 0.0 \n",
      "            ts specificity: 0.0\n",
      "    \n",
      "### 8 subject compelete.\n",
      "        test group: ['sub-009']        \n",
      "    \n"
     ]
    },
    {
     "name": "stderr",
     "output_type": "stream",
     "text": [
      "C:\\Users\\Kian\\AppData\\Local\\Programs\\Python\\Python311\\Lib\\site-packages\\sklearn\\linear_model\\_coordinate_descent.py:614: ConvergenceWarning: Objective did not converge. You might want to increase the number of iterations. Duality gap: 0.6128558341818007, tolerance: 0.3167401660974847\n",
      "  model = cd_fast.enet_coordinate_descent_gram(\n",
      "C:\\Users\\Kian\\AppData\\Local\\Programs\\Python\\Python311\\Lib\\site-packages\\sklearn\\linear_model\\_coordinate_descent.py:614: ConvergenceWarning: Objective did not converge. You might want to increase the number of iterations. Duality gap: 0.6273226944656471, tolerance: 0.3167401660974847\n",
      "  model = cd_fast.enet_coordinate_descent_gram(\n",
      "C:\\Users\\Kian\\AppData\\Local\\Programs\\Python\\Python311\\Lib\\site-packages\\sklearn\\linear_model\\_coordinate_descent.py:614: ConvergenceWarning: Objective did not converge. You might want to increase the number of iterations. Duality gap: 0.7655500188234328, tolerance: 0.3167401660974847\n",
      "  model = cd_fast.enet_coordinate_descent_gram(\n",
      "C:\\Users\\Kian\\AppData\\Local\\Programs\\Python\\Python311\\Lib\\site-packages\\sklearn\\linear_model\\_coordinate_descent.py:614: ConvergenceWarning: Objective did not converge. You might want to increase the number of iterations. Duality gap: 0.8813760959219508, tolerance: 0.3167401660974847\n",
      "  model = cd_fast.enet_coordinate_descent_gram(\n",
      "C:\\Users\\Kian\\AppData\\Local\\Programs\\Python\\Python311\\Lib\\site-packages\\sklearn\\linear_model\\_coordinate_descent.py:628: ConvergenceWarning: Objective did not converge. You might want to increase the number of iterations, check the scale of the features or consider increasing regularisation. Duality gap: 2.277e+01, tolerance: 3.958e-01\n",
      "  model = cd_fast.enet_coordinate_descent(\n",
      "C:\\Users\\Kian\\AppData\\Local\\Programs\\Python\\Python311\\Lib\\site-packages\\sklearn\\metrics\\_classification.py:1471: UndefinedMetricWarning: Recall is ill-defined and being set to 0.0 due to no true samples. Use `zero_division` parameter to control this behavior.\n",
      "  _warn_prf(average, modifier, msg_start, len(result))\n"
     ]
    },
    {
     "name": "stdout",
     "output_type": "stream",
     "text": [
      "\n",
      "            ts acc: 0.6852459016393443\n",
      "            ts f1: 0.0 \n",
      "            ts sensitivity: 0.0 \n",
      "            ts specificity: 0.0\n",
      "    \n",
      "### 9 subject compelete.\n",
      "        test group: ['sub-010']        \n",
      "    \n"
     ]
    },
    {
     "name": "stderr",
     "output_type": "stream",
     "text": [
      "C:\\Users\\Kian\\AppData\\Local\\Programs\\Python\\Python311\\Lib\\site-packages\\sklearn\\metrics\\_classification.py:1471: UndefinedMetricWarning: Recall is ill-defined and being set to 0.0 due to no true samples. Use `zero_division` parameter to control this behavior.\n",
      "  _warn_prf(average, modifier, msg_start, len(result))\n"
     ]
    },
    {
     "name": "stdout",
     "output_type": "stream",
     "text": [
      "\n",
      "            ts acc: 0.6682316118935837\n",
      "            ts f1: 0.0 \n",
      "            ts sensitivity: 0.0 \n",
      "            ts specificity: 0.0\n",
      "    \n",
      "### 10 subject compelete.\n",
      "        test group: ['sub-012']        \n",
      "    \n"
     ]
    },
    {
     "name": "stderr",
     "output_type": "stream",
     "text": [
      "C:\\Users\\Kian\\AppData\\Local\\Programs\\Python\\Python311\\Lib\\site-packages\\sklearn\\linear_model\\_coordinate_descent.py:614: ConvergenceWarning: Objective did not converge. You might want to increase the number of iterations. Duality gap: 0.32379639421765205, tolerance: 0.3147351283656855\n",
      "  model = cd_fast.enet_coordinate_descent_gram(\n",
      "C:\\Users\\Kian\\AppData\\Local\\Programs\\Python\\Python311\\Lib\\site-packages\\sklearn\\linear_model\\_coordinate_descent.py:614: ConvergenceWarning: Objective did not converge. You might want to increase the number of iterations. Duality gap: 0.3200335430619816, tolerance: 0.3147351283656855\n",
      "  model = cd_fast.enet_coordinate_descent_gram(\n",
      "C:\\Users\\Kian\\AppData\\Local\\Programs\\Python\\Python311\\Lib\\site-packages\\sklearn\\linear_model\\_coordinate_descent.py:614: ConvergenceWarning: Objective did not converge. You might want to increase the number of iterations. Duality gap: 0.318603247688543, tolerance: 0.3147351283656855\n",
      "  model = cd_fast.enet_coordinate_descent_gram(\n",
      "C:\\Users\\Kian\\AppData\\Local\\Programs\\Python\\Python311\\Lib\\site-packages\\sklearn\\linear_model\\_coordinate_descent.py:614: ConvergenceWarning: Objective did not converge. You might want to increase the number of iterations. Duality gap: 0.3271150036944164, tolerance: 0.3147351283656855\n",
      "  model = cd_fast.enet_coordinate_descent_gram(\n",
      "C:\\Users\\Kian\\AppData\\Local\\Programs\\Python\\Python311\\Lib\\site-packages\\sklearn\\linear_model\\_coordinate_descent.py:614: ConvergenceWarning: Objective did not converge. You might want to increase the number of iterations. Duality gap: 0.33326180550875506, tolerance: 0.3146623356293054\n",
      "  model = cd_fast.enet_coordinate_descent_gram(\n",
      "C:\\Users\\Kian\\AppData\\Local\\Programs\\Python\\Python311\\Lib\\site-packages\\sklearn\\linear_model\\_coordinate_descent.py:614: ConvergenceWarning: Objective did not converge. You might want to increase the number of iterations. Duality gap: 0.4011891468298927, tolerance: 0.3146623356293054\n",
      "  model = cd_fast.enet_coordinate_descent_gram(\n",
      "C:\\Users\\Kian\\AppData\\Local\\Programs\\Python\\Python311\\Lib\\site-packages\\sklearn\\linear_model\\_coordinate_descent.py:614: ConvergenceWarning: Objective did not converge. You might want to increase the number of iterations. Duality gap: 0.4125761601958402, tolerance: 0.31462572792736354\n",
      "  model = cd_fast.enet_coordinate_descent_gram(\n",
      "C:\\Users\\Kian\\AppData\\Local\\Programs\\Python\\Python311\\Lib\\site-packages\\sklearn\\linear_model\\_coordinate_descent.py:614: ConvergenceWarning: Objective did not converge. You might want to increase the number of iterations. Duality gap: 0.4233016685780058, tolerance: 0.31462572792736354\n",
      "  model = cd_fast.enet_coordinate_descent_gram(\n",
      "C:\\Users\\Kian\\AppData\\Local\\Programs\\Python\\Python311\\Lib\\site-packages\\sklearn\\linear_model\\_coordinate_descent.py:614: ConvergenceWarning: Objective did not converge. You might want to increase the number of iterations. Duality gap: 0.3838701623308225, tolerance: 0.31462572792736354\n",
      "  model = cd_fast.enet_coordinate_descent_gram(\n",
      "C:\\Users\\Kian\\AppData\\Local\\Programs\\Python\\Python311\\Lib\\site-packages\\sklearn\\linear_model\\_coordinate_descent.py:614: ConvergenceWarning: Objective did not converge. You might want to increase the number of iterations. Duality gap: 0.3187834750983711, tolerance: 0.31463794614902973\n",
      "  model = cd_fast.enet_coordinate_descent_gram(\n",
      "C:\\Users\\Kian\\AppData\\Local\\Programs\\Python\\Python311\\Lib\\site-packages\\sklearn\\linear_model\\_coordinate_descent.py:628: ConvergenceWarning: Objective did not converge. You might want to increase the number of iterations, check the scale of the features or consider increasing regularisation. Duality gap: 5.128e-01, tolerance: 3.932e-01\n",
      "  model = cd_fast.enet_coordinate_descent(\n",
      "C:\\Users\\Kian\\AppData\\Local\\Programs\\Python\\Python311\\Lib\\site-packages\\sklearn\\metrics\\_classification.py:1471: UndefinedMetricWarning: Recall is ill-defined and being set to 0.0 due to no true samples. Use `zero_division` parameter to control this behavior.\n",
      "  _warn_prf(average, modifier, msg_start, len(result))\n"
     ]
    },
    {
     "name": "stdout",
     "output_type": "stream",
     "text": [
      "\n",
      "            ts acc: 0.6840909090909091\n",
      "            ts f1: 0.0 \n",
      "            ts sensitivity: 0.0 \n",
      "            ts specificity: 0.0\n",
      "    \n",
      "### 11 subject compelete.\n",
      "        test group: ['sub-013']        \n",
      "    \n"
     ]
    },
    {
     "name": "stderr",
     "output_type": "stream",
     "text": [
      "C:\\Users\\Kian\\AppData\\Local\\Programs\\Python\\Python311\\Lib\\site-packages\\sklearn\\linear_model\\_coordinate_descent.py:614: ConvergenceWarning: Objective did not converge. You might want to increase the number of iterations. Duality gap: 0.7071679224548006, tolerance: 0.31495272414601716\n",
      "  model = cd_fast.enet_coordinate_descent_gram(\n",
      "C:\\Users\\Kian\\AppData\\Local\\Programs\\Python\\Python311\\Lib\\site-packages\\sklearn\\linear_model\\_coordinate_descent.py:628: ConvergenceWarning: Objective did not converge. You might want to increase the number of iterations, check the scale of the features or consider increasing regularisation. Duality gap: 1.695e+00, tolerance: 3.936e-01\n",
      "  model = cd_fast.enet_coordinate_descent(\n",
      "C:\\Users\\Kian\\AppData\\Local\\Programs\\Python\\Python311\\Lib\\site-packages\\sklearn\\metrics\\_classification.py:1471: UndefinedMetricWarning: Recall is ill-defined and being set to 0.0 due to no true samples. Use `zero_division` parameter to control this behavior.\n",
      "  _warn_prf(average, modifier, msg_start, len(result))\n"
     ]
    },
    {
     "name": "stdout",
     "output_type": "stream",
     "text": [
      "\n",
      "            ts acc: 0.8732057416267942\n",
      "            ts f1: 0.0 \n",
      "            ts sensitivity: 0.0 \n",
      "            ts specificity: 0.0\n",
      "    \n",
      "### 12 subject compelete.\n",
      "        test group: ['sub-016']        \n",
      "    \n"
     ]
    },
    {
     "name": "stderr",
     "output_type": "stream",
     "text": [
      "C:\\Users\\Kian\\AppData\\Local\\Programs\\Python\\Python311\\Lib\\site-packages\\sklearn\\linear_model\\_coordinate_descent.py:614: ConvergenceWarning: Objective did not converge. You might want to increase the number of iterations. Duality gap: 0.41679513672875146, tolerance: 0.3139781711145996\n",
      "  model = cd_fast.enet_coordinate_descent_gram(\n",
      "C:\\Users\\Kian\\AppData\\Local\\Programs\\Python\\Python311\\Lib\\site-packages\\sklearn\\linear_model\\_coordinate_descent.py:614: ConvergenceWarning: Objective did not converge. You might want to increase the number of iterations. Duality gap: 0.33883638973520647, tolerance: 0.3138702982731555\n",
      "  model = cd_fast.enet_coordinate_descent_gram(\n",
      "C:\\Users\\Kian\\AppData\\Local\\Programs\\Python\\Python311\\Lib\\site-packages\\sklearn\\linear_model\\_coordinate_descent.py:628: ConvergenceWarning: Objective did not converge. You might want to increase the number of iterations, check the scale of the features or consider increasing regularisation. Duality gap: 1.429e+01, tolerance: 3.923e-01\n",
      "  model = cd_fast.enet_coordinate_descent(\n",
      "C:\\Users\\Kian\\AppData\\Local\\Programs\\Python\\Python311\\Lib\\site-packages\\sklearn\\metrics\\_classification.py:1760: UndefinedMetricWarning: F-score is ill-defined and being set to 0.0 due to no true nor predicted samples. Use `zero_division` parameter to control this behavior.\n",
      "  _warn_prf(average, \"true nor predicted\", \"F-score is\", len(true_sum))\n",
      "C:\\Users\\Kian\\AppData\\Local\\Programs\\Python\\Python311\\Lib\\site-packages\\sklearn\\metrics\\_classification.py:1471: UndefinedMetricWarning: Recall is ill-defined and being set to 0.0 due to no true samples. Use `zero_division` parameter to control this behavior.\n",
      "  _warn_prf(average, modifier, msg_start, len(result))\n",
      "C:\\Users\\Kian\\AppData\\Local\\Programs\\Python\\Python311\\Lib\\site-packages\\sklearn\\metrics\\_classification.py:1471: UndefinedMetricWarning: Precision is ill-defined and being set to 0.0 due to no predicted samples. Use `zero_division` parameter to control this behavior.\n",
      "  _warn_prf(average, modifier, msg_start, len(result))\n"
     ]
    },
    {
     "name": "stdout",
     "output_type": "stream",
     "text": [
      "\n",
      "            ts acc: 1.0\n",
      "            ts f1: 0.0 \n",
      "            ts sensitivity: 0.0 \n",
      "            ts specificity: 0.0\n",
      "    \n",
      "### 13 subject compelete.\n",
      "        test group: ['sub-017']        \n",
      "    \n"
     ]
    },
    {
     "name": "stderr",
     "output_type": "stream",
     "text": [
      "C:\\Users\\Kian\\AppData\\Local\\Programs\\Python\\Python311\\Lib\\site-packages\\sklearn\\linear_model\\_coordinate_descent.py:614: ConvergenceWarning: Objective did not converge. You might want to increase the number of iterations. Duality gap: 0.42845079187873125, tolerance: 0.3149704502814258\n",
      "  model = cd_fast.enet_coordinate_descent_gram(\n",
      "C:\\Users\\Kian\\AppData\\Local\\Programs\\Python\\Python311\\Lib\\site-packages\\sklearn\\linear_model\\_coordinate_descent.py:614: ConvergenceWarning: Objective did not converge. You might want to increase the number of iterations. Duality gap: 0.3326840298304887, tolerance: 0.31489643527204475\n",
      "  model = cd_fast.enet_coordinate_descent_gram(\n",
      "C:\\Users\\Kian\\AppData\\Local\\Programs\\Python\\Python311\\Lib\\site-packages\\sklearn\\linear_model\\_coordinate_descent.py:628: ConvergenceWarning: Objective did not converge. You might want to increase the number of iterations, check the scale of the features or consider increasing regularisation. Duality gap: 1.274e+01, tolerance: 3.936e-01\n",
      "  model = cd_fast.enet_coordinate_descent(\n",
      "C:\\Users\\Kian\\AppData\\Local\\Programs\\Python\\Python311\\Lib\\site-packages\\sklearn\\metrics\\_classification.py:1471: UndefinedMetricWarning: Recall is ill-defined and being set to 0.0 due to no true samples. Use `zero_division` parameter to control this behavior.\n",
      "  _warn_prf(average, modifier, msg_start, len(result))\n"
     ]
    },
    {
     "name": "stdout",
     "output_type": "stream",
     "text": [
      "\n",
      "            ts acc: 0.9809523809523809\n",
      "            ts f1: 0.0 \n",
      "            ts sensitivity: 0.0 \n",
      "            ts specificity: 0.0\n",
      "    \n",
      "### 14 subject compelete.\n",
      "        test group: ['sub-018']        \n",
      "    \n"
     ]
    },
    {
     "name": "stderr",
     "output_type": "stream",
     "text": [
      "C:\\Users\\Kian\\AppData\\Local\\Programs\\Python\\Python311\\Lib\\site-packages\\sklearn\\linear_model\\_coordinate_descent.py:614: ConvergenceWarning: Objective did not converge. You might want to increase the number of iterations. Duality gap: 0.31703842194315257, tolerance: 0.3150489719333907\n",
      "  model = cd_fast.enet_coordinate_descent_gram(\n",
      "C:\\Users\\Kian\\AppData\\Local\\Programs\\Python\\Python311\\Lib\\site-packages\\sklearn\\linear_model\\_coordinate_descent.py:614: ConvergenceWarning: Objective did not converge. You might want to increase the number of iterations. Duality gap: 0.6766387566462981, tolerance: 0.3150489719333907\n",
      "  model = cd_fast.enet_coordinate_descent_gram(\n",
      "C:\\Users\\Kian\\AppData\\Local\\Programs\\Python\\Python311\\Lib\\site-packages\\sklearn\\linear_model\\_coordinate_descent.py:614: ConvergenceWarning: Objective did not converge. You might want to increase the number of iterations. Duality gap: 0.7941161515409476, tolerance: 0.3150489719333907\n",
      "  model = cd_fast.enet_coordinate_descent_gram(\n",
      "C:\\Users\\Kian\\AppData\\Local\\Programs\\Python\\Python311\\Lib\\site-packages\\sklearn\\linear_model\\_coordinate_descent.py:614: ConvergenceWarning: Objective did not converge. You might want to increase the number of iterations. Duality gap: 0.8088211906285778, tolerance: 0.3150489719333907\n",
      "  model = cd_fast.enet_coordinate_descent_gram(\n",
      "C:\\Users\\Kian\\AppData\\Local\\Programs\\Python\\Python311\\Lib\\site-packages\\sklearn\\linear_model\\_coordinate_descent.py:614: ConvergenceWarning: Objective did not converge. You might want to increase the number of iterations. Duality gap: 0.39534790452944435, tolerance: 0.3148648581033538\n",
      "  model = cd_fast.enet_coordinate_descent_gram(\n",
      "C:\\Users\\Kian\\AppData\\Local\\Programs\\Python\\Python311\\Lib\\site-packages\\sklearn\\linear_model\\_coordinate_descent.py:614: ConvergenceWarning: Objective did not converge. You might want to increase the number of iterations. Duality gap: 0.6082043139858797, tolerance: 0.3148648581033538\n",
      "  model = cd_fast.enet_coordinate_descent_gram(\n",
      "C:\\Users\\Kian\\AppData\\Local\\Programs\\Python\\Python311\\Lib\\site-packages\\sklearn\\linear_model\\_coordinate_descent.py:614: ConvergenceWarning: Objective did not converge. You might want to increase the number of iterations. Duality gap: 0.7534818185072254, tolerance: 0.3148648581033538\n",
      "  model = cd_fast.enet_coordinate_descent_gram(\n",
      "C:\\Users\\Kian\\AppData\\Local\\Programs\\Python\\Python311\\Lib\\site-packages\\sklearn\\linear_model\\_coordinate_descent.py:614: ConvergenceWarning: Objective did not converge. You might want to increase the number of iterations. Duality gap: 0.32275833400171905, tolerance: 0.3148400437807833\n",
      "  model = cd_fast.enet_coordinate_descent_gram(\n",
      "C:\\Users\\Kian\\AppData\\Local\\Programs\\Python\\Python311\\Lib\\site-packages\\sklearn\\linear_model\\_coordinate_descent.py:614: ConvergenceWarning: Objective did not converge. You might want to increase the number of iterations. Duality gap: 0.35227079904052516, tolerance: 0.3145435897435897\n",
      "  model = cd_fast.enet_coordinate_descent_gram(\n",
      "C:\\Users\\Kian\\AppData\\Local\\Programs\\Python\\Python311\\Lib\\site-packages\\sklearn\\linear_model\\_coordinate_descent.py:614: ConvergenceWarning: Objective did not converge. You might want to increase the number of iterations. Duality gap: 0.6321942545419006, tolerance: 0.3145435897435897\n",
      "  model = cd_fast.enet_coordinate_descent_gram(\n",
      "C:\\Users\\Kian\\AppData\\Local\\Programs\\Python\\Python311\\Lib\\site-packages\\sklearn\\linear_model\\_coordinate_descent.py:628: ConvergenceWarning: Objective did not converge. You might want to increase the number of iterations, check the scale of the features or consider increasing regularisation. Duality gap: 6.936e+00, tolerance: 3.936e-01\n",
      "  model = cd_fast.enet_coordinate_descent(\n",
      "C:\\Users\\Kian\\AppData\\Local\\Programs\\Python\\Python311\\Lib\\site-packages\\sklearn\\metrics\\_classification.py:1471: UndefinedMetricWarning: Recall is ill-defined and being set to 0.0 due to no true samples. Use `zero_division` parameter to control this behavior.\n",
      "  _warn_prf(average, modifier, msg_start, len(result))\n"
     ]
    },
    {
     "name": "stdout",
     "output_type": "stream",
     "text": [
      "\n",
      "            ts acc: 0.9049881235154394\n",
      "            ts f1: 0.0 \n",
      "            ts sensitivity: 0.0 \n",
      "            ts specificity: 0.0\n",
      "    \n",
      "### 15 subject compelete.\n",
      "        test group: ['sub-021']        \n",
      "    \n"
     ]
    },
    {
     "name": "stderr",
     "output_type": "stream",
     "text": [
      "C:\\Users\\Kian\\AppData\\Local\\Programs\\Python\\Python311\\Lib\\site-packages\\sklearn\\linear_model\\_coordinate_descent.py:614: ConvergenceWarning: Objective did not converge. You might want to increase the number of iterations. Duality gap: 0.34130133569124155, tolerance: 0.31437277642818007\n",
      "  model = cd_fast.enet_coordinate_descent_gram(\n",
      "C:\\Users\\Kian\\AppData\\Local\\Programs\\Python\\Python311\\Lib\\site-packages\\sklearn\\linear_model\\_coordinate_descent.py:614: ConvergenceWarning: Objective did not converge. You might want to increase the number of iterations. Duality gap: 0.4268462710804215, tolerance: 0.31437277642818007\n",
      "  model = cd_fast.enet_coordinate_descent_gram(\n",
      "C:\\Users\\Kian\\AppData\\Local\\Programs\\Python\\Python311\\Lib\\site-packages\\sklearn\\linear_model\\_coordinate_descent.py:614: ConvergenceWarning: Objective did not converge. You might want to increase the number of iterations. Duality gap: 0.3159507349823798, tolerance: 0.313889898910744\n",
      "  model = cd_fast.enet_coordinate_descent_gram(\n",
      "C:\\Users\\Kian\\AppData\\Local\\Programs\\Python\\Python311\\Lib\\site-packages\\sklearn\\linear_model\\_coordinate_descent.py:614: ConvergenceWarning: Objective did not converge. You might want to increase the number of iterations. Duality gap: 0.6364831823491386, tolerance: 0.313889898910744\n",
      "  model = cd_fast.enet_coordinate_descent_gram(\n",
      "C:\\Users\\Kian\\AppData\\Local\\Programs\\Python\\Python311\\Lib\\site-packages\\sklearn\\metrics\\_classification.py:1471: UndefinedMetricWarning: Recall is ill-defined and being set to 0.0 due to no true samples. Use `zero_division` parameter to control this behavior.\n",
      "  _warn_prf(average, modifier, msg_start, len(result))\n"
     ]
    },
    {
     "name": "stdout",
     "output_type": "stream",
     "text": [
      "\n",
      "            ts acc: 0.9389978213507625\n",
      "            ts f1: 0.0 \n",
      "            ts sensitivity: 0.0 \n",
      "            ts specificity: 0.0\n",
      "    \n",
      "### 16 subject compelete.\n",
      "        test group: ['sub-023']        \n",
      "    \n"
     ]
    },
    {
     "name": "stderr",
     "output_type": "stream",
     "text": [
      "C:\\Users\\Kian\\AppData\\Local\\Programs\\Python\\Python311\\Lib\\site-packages\\sklearn\\linear_model\\_coordinate_descent.py:614: ConvergenceWarning: Objective did not converge. You might want to increase the number of iterations. Duality gap: 0.3177079311385569, tolerance: 0.3150404376709648\n",
      "  model = cd_fast.enet_coordinate_descent_gram(\n",
      "C:\\Users\\Kian\\AppData\\Local\\Programs\\Python\\Python311\\Lib\\site-packages\\sklearn\\linear_model\\_coordinate_descent.py:628: ConvergenceWarning: Objective did not converge. You might want to increase the number of iterations, check the scale of the features or consider increasing regularisation. Duality gap: 1.171e+00, tolerance: 3.937e-01\n",
      "  model = cd_fast.enet_coordinate_descent(\n",
      "C:\\Users\\Kian\\AppData\\Local\\Programs\\Python\\Python311\\Lib\\site-packages\\sklearn\\metrics\\_classification.py:1471: UndefinedMetricWarning: Recall is ill-defined and being set to 0.0 due to no true samples. Use `zero_division` parameter to control this behavior.\n",
      "  _warn_prf(average, modifier, msg_start, len(result))\n"
     ]
    },
    {
     "name": "stdout",
     "output_type": "stream",
     "text": [
      "\n",
      "            ts acc: 0.7259615384615384\n",
      "            ts f1: 0.0 \n",
      "            ts sensitivity: 0.0 \n",
      "            ts specificity: 0.0\n",
      "    \n",
      "### 17 subject compelete.\n",
      "        test group: ['sub-024']        \n",
      "    \n"
     ]
    },
    {
     "name": "stderr",
     "output_type": "stream",
     "text": [
      "C:\\Users\\Kian\\AppData\\Local\\Programs\\Python\\Python311\\Lib\\site-packages\\sklearn\\linear_model\\_coordinate_descent.py:614: ConvergenceWarning: Objective did not converge. You might want to increase the number of iterations. Duality gap: 0.32870413735804505, tolerance: 0.3156534424951267\n",
      "  model = cd_fast.enet_coordinate_descent_gram(\n",
      "C:\\Users\\Kian\\AppData\\Local\\Programs\\Python\\Python311\\Lib\\site-packages\\sklearn\\linear_model\\_coordinate_descent.py:614: ConvergenceWarning: Objective did not converge. You might want to increase the number of iterations. Duality gap: 0.7825378582838312, tolerance: 0.3156534424951267\n",
      "  model = cd_fast.enet_coordinate_descent_gram(\n",
      "C:\\Users\\Kian\\AppData\\Local\\Programs\\Python\\Python311\\Lib\\site-packages\\sklearn\\linear_model\\_coordinate_descent.py:614: ConvergenceWarning: Objective did not converge. You might want to increase the number of iterations. Duality gap: 0.8631527669629122, tolerance: 0.3156534424951267\n",
      "  model = cd_fast.enet_coordinate_descent_gram(\n",
      "C:\\Users\\Kian\\AppData\\Local\\Programs\\Python\\Python311\\Lib\\site-packages\\sklearn\\linear_model\\_coordinate_descent.py:614: ConvergenceWarning: Objective did not converge. You might want to increase the number of iterations. Duality gap: 0.3926631046451803, tolerance: 0.31555332553606247\n",
      "  model = cd_fast.enet_coordinate_descent_gram(\n",
      "C:\\Users\\Kian\\AppData\\Local\\Programs\\Python\\Python311\\Lib\\site-packages\\sklearn\\linear_model\\_coordinate_descent.py:614: ConvergenceWarning: Objective did not converge. You might want to increase the number of iterations. Duality gap: 0.6462264320202848, tolerance: 0.31555332553606247\n",
      "  model = cd_fast.enet_coordinate_descent_gram(\n",
      "C:\\Users\\Kian\\AppData\\Local\\Programs\\Python\\Python311\\Lib\\site-packages\\sklearn\\linear_model\\_coordinate_descent.py:614: ConvergenceWarning: Objective did not converge. You might want to increase the number of iterations. Duality gap: 0.33354029750898917, tolerance: 0.31553460938718225\n",
      "  model = cd_fast.enet_coordinate_descent_gram(\n",
      "C:\\Users\\Kian\\AppData\\Local\\Programs\\Python\\Python311\\Lib\\site-packages\\sklearn\\linear_model\\_coordinate_descent.py:614: ConvergenceWarning: Objective did not converge. You might want to increase the number of iterations. Duality gap: 0.3191721762113957, tolerance: 0.31553460938718225\n",
      "  model = cd_fast.enet_coordinate_descent_gram(\n",
      "C:\\Users\\Kian\\AppData\\Local\\Programs\\Python\\Python311\\Lib\\site-packages\\sklearn\\linear_model\\_coordinate_descent.py:614: ConvergenceWarning: Objective did not converge. You might want to increase the number of iterations. Duality gap: 0.3682617496367584, tolerance: 0.3151355683767346\n",
      "  model = cd_fast.enet_coordinate_descent_gram(\n",
      "C:\\Users\\Kian\\AppData\\Local\\Programs\\Python\\Python311\\Lib\\site-packages\\sklearn\\linear_model\\_coordinate_descent.py:628: ConvergenceWarning: Objective did not converge. You might want to increase the number of iterations, check the scale of the features or consider increasing regularisation. Duality gap: 2.376e+01, tolerance: 3.944e-01\n",
      "  model = cd_fast.enet_coordinate_descent(\n",
      "C:\\Users\\Kian\\AppData\\Local\\Programs\\Python\\Python311\\Lib\\site-packages\\sklearn\\metrics\\_classification.py:1471: UndefinedMetricWarning: Recall is ill-defined and being set to 0.0 due to no true samples. Use `zero_division` parameter to control this behavior.\n",
      "  _warn_prf(average, modifier, msg_start, len(result))\n"
     ]
    },
    {
     "name": "stdout",
     "output_type": "stream",
     "text": [
      "\n",
      "            ts acc: 0.9894179894179894\n",
      "            ts f1: 0.0 \n",
      "            ts sensitivity: 0.0 \n",
      "            ts specificity: 0.0\n",
      "    \n",
      "### 18 subject compelete.\n",
      "        test group: ['sub-026']        \n",
      "    \n"
     ]
    },
    {
     "name": "stderr",
     "output_type": "stream",
     "text": [
      "C:\\Users\\Kian\\AppData\\Local\\Programs\\Python\\Python311\\Lib\\site-packages\\sklearn\\linear_model\\_coordinate_descent.py:614: ConvergenceWarning: Objective did not converge. You might want to increase the number of iterations. Duality gap: 1.0226106839786553, tolerance: 0.314539415772574\n",
      "  model = cd_fast.enet_coordinate_descent_gram(\n",
      "C:\\Users\\Kian\\AppData\\Local\\Programs\\Python\\Python311\\Lib\\site-packages\\sklearn\\linear_model\\_coordinate_descent.py:614: ConvergenceWarning: Objective did not converge. You might want to increase the number of iterations. Duality gap: 0.8649320891845491, tolerance: 0.314539415772574\n",
      "  model = cd_fast.enet_coordinate_descent_gram(\n",
      "C:\\Users\\Kian\\AppData\\Local\\Programs\\Python\\Python311\\Lib\\site-packages\\sklearn\\linear_model\\_coordinate_descent.py:614: ConvergenceWarning: Objective did not converge. You might want to increase the number of iterations. Duality gap: 0.6952477734619151, tolerance: 0.314539415772574\n",
      "  model = cd_fast.enet_coordinate_descent_gram(\n",
      "C:\\Users\\Kian\\AppData\\Local\\Programs\\Python\\Python311\\Lib\\site-packages\\sklearn\\linear_model\\_coordinate_descent.py:614: ConvergenceWarning: Objective did not converge. You might want to increase the number of iterations. Duality gap: 0.35760343138372264, tolerance: 0.3144612451057163\n",
      "  model = cd_fast.enet_coordinate_descent_gram(\n",
      "C:\\Users\\Kian\\AppData\\Local\\Programs\\Python\\Python311\\Lib\\site-packages\\sklearn\\linear_model\\_coordinate_descent.py:614: ConvergenceWarning: Objective did not converge. You might want to increase the number of iterations. Duality gap: 0.3645213073045852, tolerance: 0.3144612451057163\n",
      "  model = cd_fast.enet_coordinate_descent_gram(\n",
      "C:\\Users\\Kian\\AppData\\Local\\Programs\\Python\\Python311\\Lib\\site-packages\\sklearn\\linear_model\\_coordinate_descent.py:614: ConvergenceWarning: Objective did not converge. You might want to increase the number of iterations. Duality gap: 0.4066491888042947, tolerance: 0.3144612451057163\n",
      "  model = cd_fast.enet_coordinate_descent_gram(\n",
      "C:\\Users\\Kian\\AppData\\Local\\Programs\\Python\\Python311\\Lib\\site-packages\\sklearn\\linear_model\\_coordinate_descent.py:614: ConvergenceWarning: Objective did not converge. You might want to increase the number of iterations. Duality gap: 1.0634287698740081, tolerance: 0.3144612451057163\n",
      "  model = cd_fast.enet_coordinate_descent_gram(\n",
      "C:\\Users\\Kian\\AppData\\Local\\Programs\\Python\\Python311\\Lib\\site-packages\\sklearn\\linear_model\\_coordinate_descent.py:614: ConvergenceWarning: Objective did not converge. You might want to increase the number of iterations. Duality gap: 0.41091899851426206, tolerance: 0.3145344479248233\n",
      "  model = cd_fast.enet_coordinate_descent_gram(\n",
      "C:\\Users\\Kian\\AppData\\Local\\Programs\\Python\\Python311\\Lib\\site-packages\\sklearn\\linear_model\\_coordinate_descent.py:614: ConvergenceWarning: Objective did not converge. You might want to increase the number of iterations. Duality gap: 0.3299084238508385, tolerance: 0.3145344479248233\n",
      "  model = cd_fast.enet_coordinate_descent_gram(\n",
      "C:\\Users\\Kian\\AppData\\Local\\Programs\\Python\\Python311\\Lib\\site-packages\\sklearn\\linear_model\\_coordinate_descent.py:628: ConvergenceWarning: Objective did not converge. You might want to increase the number of iterations, check the scale of the features or consider increasing regularisation. Duality gap: 4.437e-01, tolerance: 3.930e-01\n",
      "  model = cd_fast.enet_coordinate_descent(\n",
      "C:\\Users\\Kian\\AppData\\Local\\Programs\\Python\\Python311\\Lib\\site-packages\\sklearn\\metrics\\_classification.py:1471: UndefinedMetricWarning: Recall is ill-defined and being set to 0.0 due to no true samples. Use `zero_division` parameter to control this behavior.\n",
      "  _warn_prf(average, modifier, msg_start, len(result))\n"
     ]
    },
    {
     "name": "stdout",
     "output_type": "stream",
     "text": [
      "\n",
      "            ts acc: 0.9754464285714286\n",
      "            ts f1: 0.0 \n",
      "            ts sensitivity: 0.0 \n",
      "            ts specificity: 0.0\n",
      "    \n",
      "### 19 subject compelete.\n",
      "        test group: ['sub-027']        \n",
      "    \n"
     ]
    },
    {
     "name": "stderr",
     "output_type": "stream",
     "text": [
      "C:\\Users\\Kian\\AppData\\Local\\Programs\\Python\\Python311\\Lib\\site-packages\\sklearn\\linear_model\\_coordinate_descent.py:614: ConvergenceWarning: Objective did not converge. You might want to increase the number of iterations. Duality gap: 0.418544451139951, tolerance: 0.31512271448663903\n",
      "  model = cd_fast.enet_coordinate_descent_gram(\n",
      "C:\\Users\\Kian\\AppData\\Local\\Programs\\Python\\Python311\\Lib\\site-packages\\sklearn\\linear_model\\_coordinate_descent.py:614: ConvergenceWarning: Objective did not converge. You might want to increase the number of iterations. Duality gap: 0.3191587951475867, tolerance: 0.31512271448663903\n",
      "  model = cd_fast.enet_coordinate_descent_gram(\n",
      "C:\\Users\\Kian\\AppData\\Local\\Programs\\Python\\Python311\\Lib\\site-packages\\sklearn\\linear_model\\_coordinate_descent.py:614: ConvergenceWarning: Objective did not converge. You might want to increase the number of iterations. Duality gap: 0.3530468394885702, tolerance: 0.31512271448663903\n",
      "  model = cd_fast.enet_coordinate_descent_gram(\n",
      "C:\\Users\\Kian\\AppData\\Local\\Programs\\Python\\Python311\\Lib\\site-packages\\sklearn\\linear_model\\_coordinate_descent.py:614: ConvergenceWarning: Objective did not converge. You might want to increase the number of iterations. Duality gap: 0.42843259527376176, tolerance: 0.31512271448663903\n",
      "  model = cd_fast.enet_coordinate_descent_gram(\n",
      "C:\\Users\\Kian\\AppData\\Local\\Programs\\Python\\Python311\\Lib\\site-packages\\sklearn\\linear_model\\_coordinate_descent.py:614: ConvergenceWarning: Objective did not converge. You might want to increase the number of iterations. Duality gap: 0.6949103837775965, tolerance: 0.31512271448663903\n",
      "  model = cd_fast.enet_coordinate_descent_gram(\n",
      "C:\\Users\\Kian\\AppData\\Local\\Programs\\Python\\Python311\\Lib\\site-packages\\sklearn\\linear_model\\_coordinate_descent.py:614: ConvergenceWarning: Objective did not converge. You might want to increase the number of iterations. Duality gap: 0.8498030097864557, tolerance: 0.31512271448663903\n",
      "  model = cd_fast.enet_coordinate_descent_gram(\n",
      "C:\\Users\\Kian\\AppData\\Local\\Programs\\Python\\Python311\\Lib\\site-packages\\sklearn\\linear_model\\_coordinate_descent.py:614: ConvergenceWarning: Objective did not converge. You might want to increase the number of iterations. Duality gap: 1.2396656627367975, tolerance: 0.31512271448663903\n",
      "  model = cd_fast.enet_coordinate_descent_gram(\n",
      "C:\\Users\\Kian\\AppData\\Local\\Programs\\Python\\Python311\\Lib\\site-packages\\sklearn\\linear_model\\_coordinate_descent.py:614: ConvergenceWarning: Objective did not converge. You might want to increase the number of iterations. Duality gap: 1.3840073506794397, tolerance: 0.31512271448663903\n",
      "  model = cd_fast.enet_coordinate_descent_gram(\n",
      "C:\\Users\\Kian\\AppData\\Local\\Programs\\Python\\Python311\\Lib\\site-packages\\sklearn\\linear_model\\_coordinate_descent.py:614: ConvergenceWarning: Objective did not converge. You might want to increase the number of iterations. Duality gap: 0.3659591437437939, tolerance: 0.3150487341772152\n",
      "  model = cd_fast.enet_coordinate_descent_gram(\n",
      "C:\\Users\\Kian\\AppData\\Local\\Programs\\Python\\Python311\\Lib\\site-packages\\sklearn\\linear_model\\_coordinate_descent.py:614: ConvergenceWarning: Objective did not converge. You might want to increase the number of iterations. Duality gap: 0.7307230348183111, tolerance: 0.3150487341772152\n",
      "  model = cd_fast.enet_coordinate_descent_gram(\n",
      "C:\\Users\\Kian\\AppData\\Local\\Programs\\Python\\Python311\\Lib\\site-packages\\sklearn\\linear_model\\_coordinate_descent.py:614: ConvergenceWarning: Objective did not converge. You might want to increase the number of iterations. Duality gap: 0.7388153098495422, tolerance: 0.3150487341772152\n",
      "  model = cd_fast.enet_coordinate_descent_gram(\n",
      "C:\\Users\\Kian\\AppData\\Local\\Programs\\Python\\Python311\\Lib\\site-packages\\sklearn\\linear_model\\_coordinate_descent.py:614: ConvergenceWarning: Objective did not converge. You might want to increase the number of iterations. Duality gap: 0.3799059005705203, tolerance: 0.3149991014220976\n",
      "  model = cd_fast.enet_coordinate_descent_gram(\n",
      "C:\\Users\\Kian\\AppData\\Local\\Programs\\Python\\Python311\\Lib\\site-packages\\sklearn\\linear_model\\_coordinate_descent.py:614: ConvergenceWarning: Objective did not converge. You might want to increase the number of iterations. Duality gap: 0.4369270583993057, tolerance: 0.3149991014220976\n",
      "  model = cd_fast.enet_coordinate_descent_gram(\n",
      "C:\\Users\\Kian\\AppData\\Local\\Programs\\Python\\Python311\\Lib\\site-packages\\sklearn\\linear_model\\_coordinate_descent.py:614: ConvergenceWarning: Objective did not converge. You might want to increase the number of iterations. Duality gap: 0.37467210877298385, tolerance: 0.3149991014220976\n",
      "  model = cd_fast.enet_coordinate_descent_gram(\n",
      "C:\\Users\\Kian\\AppData\\Local\\Programs\\Python\\Python311\\Lib\\site-packages\\sklearn\\linear_model\\_coordinate_descent.py:614: ConvergenceWarning: Objective did not converge. You might want to increase the number of iterations. Duality gap: 0.33263829542670464, tolerance: 0.3146249238221734\n",
      "  model = cd_fast.enet_coordinate_descent_gram(\n",
      "C:\\Users\\Kian\\AppData\\Local\\Programs\\Python\\Python311\\Lib\\site-packages\\sklearn\\linear_model\\_coordinate_descent.py:614: ConvergenceWarning: Objective did not converge. You might want to increase the number of iterations. Duality gap: 0.33465686729709887, tolerance: 0.3146249238221734\n",
      "  model = cd_fast.enet_coordinate_descent_gram(\n",
      "C:\\Users\\Kian\\AppData\\Local\\Programs\\Python\\Python311\\Lib\\site-packages\\sklearn\\linear_model\\_coordinate_descent.py:614: ConvergenceWarning: Objective did not converge. You might want to increase the number of iterations. Duality gap: 0.31606110243455987, tolerance: 0.3146249238221734\n",
      "  model = cd_fast.enet_coordinate_descent_gram(\n",
      "C:\\Users\\Kian\\AppData\\Local\\Programs\\Python\\Python311\\Lib\\site-packages\\sklearn\\linear_model\\_coordinate_descent.py:614: ConvergenceWarning: Objective did not converge. You might want to increase the number of iterations. Duality gap: 0.7272125735780719, tolerance: 0.3146249238221734\n",
      "  model = cd_fast.enet_coordinate_descent_gram(\n",
      "C:\\Users\\Kian\\AppData\\Local\\Programs\\Python\\Python311\\Lib\\site-packages\\sklearn\\linear_model\\_coordinate_descent.py:614: ConvergenceWarning: Objective did not converge. You might want to increase the number of iterations. Duality gap: 0.8839775944074972, tolerance: 0.3146249238221734\n",
      "  model = cd_fast.enet_coordinate_descent_gram(\n",
      "C:\\Users\\Kian\\AppData\\Local\\Programs\\Python\\Python311\\Lib\\site-packages\\sklearn\\linear_model\\_coordinate_descent.py:628: ConvergenceWarning: Objective did not converge. You might want to increase the number of iterations, check the scale of the features or consider increasing regularisation. Duality gap: 1.074e+00, tolerance: 3.937e-01\n",
      "  model = cd_fast.enet_coordinate_descent(\n",
      "C:\\Users\\Kian\\AppData\\Local\\Programs\\Python\\Python311\\Lib\\site-packages\\sklearn\\metrics\\_classification.py:1471: UndefinedMetricWarning: Recall is ill-defined and being set to 0.0 due to no true samples. Use `zero_division` parameter to control this behavior.\n",
      "  _warn_prf(average, modifier, msg_start, len(result))\n"
     ]
    },
    {
     "name": "stdout",
     "output_type": "stream",
     "text": [
      "\n",
      "            ts acc: 0.9975728155339806\n",
      "            ts f1: 0.0 \n",
      "            ts sensitivity: 0.0 \n",
      "            ts specificity: 0.0\n",
      "    \n",
      "### 20 subject compelete.\n",
      "        test group: ['sub-029']        \n",
      "    \n"
     ]
    },
    {
     "name": "stderr",
     "output_type": "stream",
     "text": [
      "C:\\Users\\Kian\\AppData\\Local\\Programs\\Python\\Python311\\Lib\\site-packages\\sklearn\\linear_model\\_coordinate_descent.py:614: ConvergenceWarning: Objective did not converge. You might want to increase the number of iterations. Duality gap: 0.3572772448496835, tolerance: 0.315649057191834\n",
      "  model = cd_fast.enet_coordinate_descent_gram(\n",
      "C:\\Users\\Kian\\AppData\\Local\\Programs\\Python\\Python311\\Lib\\site-packages\\sklearn\\linear_model\\_coordinate_descent.py:628: ConvergenceWarning: Objective did not converge. You might want to increase the number of iterations, check the scale of the features or consider increasing regularisation. Duality gap: 6.246e+00, tolerance: 3.946e-01\n",
      "  model = cd_fast.enet_coordinate_descent(\n",
      "C:\\Users\\Kian\\AppData\\Local\\Programs\\Python\\Python311\\Lib\\site-packages\\sklearn\\metrics\\_classification.py:1471: UndefinedMetricWarning: Recall is ill-defined and being set to 0.0 due to no true samples. Use `zero_division` parameter to control this behavior.\n",
      "  _warn_prf(average, modifier, msg_start, len(result))\n"
     ]
    },
    {
     "name": "stdout",
     "output_type": "stream",
     "text": [
      "\n",
      "            ts acc: 0.997275204359673\n",
      "            ts f1: 0.0 \n",
      "            ts sensitivity: 0.0 \n",
      "            ts specificity: 0.0\n",
      "    \n",
      "### 21 subject compelete.\n",
      "        test group: ['sub-030']        \n",
      "    \n"
     ]
    },
    {
     "name": "stderr",
     "output_type": "stream",
     "text": [
      "C:\\Users\\Kian\\AppData\\Local\\Programs\\Python\\Python311\\Lib\\site-packages\\sklearn\\linear_model\\_coordinate_descent.py:614: ConvergenceWarning: Objective did not converge. You might want to increase the number of iterations. Duality gap: 0.3763334709890387, tolerance: 0.31717561013403583\n",
      "  model = cd_fast.enet_coordinate_descent_gram(\n",
      "C:\\Users\\Kian\\AppData\\Local\\Programs\\Python\\Python311\\Lib\\site-packages\\sklearn\\linear_model\\_coordinate_descent.py:614: ConvergenceWarning: Objective did not converge. You might want to increase the number of iterations. Duality gap: 0.45900108726937106, tolerance: 0.31717561013403583\n",
      "  model = cd_fast.enet_coordinate_descent_gram(\n",
      "C:\\Users\\Kian\\AppData\\Local\\Programs\\Python\\Python311\\Lib\\site-packages\\sklearn\\linear_model\\_coordinate_descent.py:614: ConvergenceWarning: Objective did not converge. You might want to increase the number of iterations. Duality gap: 0.4787214277801013, tolerance: 0.31717561013403583\n",
      "  model = cd_fast.enet_coordinate_descent_gram(\n",
      "C:\\Users\\Kian\\AppData\\Local\\Programs\\Python\\Python311\\Lib\\site-packages\\sklearn\\linear_model\\_coordinate_descent.py:614: ConvergenceWarning: Objective did not converge. You might want to increase the number of iterations. Duality gap: 0.4668500605596364, tolerance: 0.31717561013403583\n",
      "  model = cd_fast.enet_coordinate_descent_gram(\n",
      "C:\\Users\\Kian\\AppData\\Local\\Programs\\Python\\Python311\\Lib\\site-packages\\sklearn\\linear_model\\_coordinate_descent.py:614: ConvergenceWarning: Objective did not converge. You might want to increase the number of iterations. Duality gap: 0.45150096614361246, tolerance: 0.31717561013403583\n",
      "  model = cd_fast.enet_coordinate_descent_gram(\n",
      "C:\\Users\\Kian\\AppData\\Local\\Programs\\Python\\Python311\\Lib\\site-packages\\sklearn\\linear_model\\_coordinate_descent.py:614: ConvergenceWarning: Objective did not converge. You might want to increase the number of iterations. Duality gap: 0.4885469994471805, tolerance: 0.31717561013403583\n",
      "  model = cd_fast.enet_coordinate_descent_gram(\n",
      "C:\\Users\\Kian\\AppData\\Local\\Programs\\Python\\Python311\\Lib\\site-packages\\sklearn\\linear_model\\_coordinate_descent.py:614: ConvergenceWarning: Objective did not converge. You might want to increase the number of iterations. Duality gap: 0.5173954272436276, tolerance: 0.31717561013403583\n",
      "  model = cd_fast.enet_coordinate_descent_gram(\n",
      "C:\\Users\\Kian\\AppData\\Local\\Programs\\Python\\Python311\\Lib\\site-packages\\sklearn\\linear_model\\_coordinate_descent.py:614: ConvergenceWarning: Objective did not converge. You might want to increase the number of iterations. Duality gap: 0.5094969986018896, tolerance: 0.31717561013403583\n",
      "  model = cd_fast.enet_coordinate_descent_gram(\n",
      "C:\\Users\\Kian\\AppData\\Local\\Programs\\Python\\Python311\\Lib\\site-packages\\sklearn\\linear_model\\_coordinate_descent.py:614: ConvergenceWarning: Objective did not converge. You might want to increase the number of iterations. Duality gap: 0.49946813359065345, tolerance: 0.31717561013403583\n",
      "  model = cd_fast.enet_coordinate_descent_gram(\n",
      "C:\\Users\\Kian\\AppData\\Local\\Programs\\Python\\Python311\\Lib\\site-packages\\sklearn\\linear_model\\_coordinate_descent.py:614: ConvergenceWarning: Objective did not converge. You might want to increase the number of iterations. Duality gap: 0.426748263124864, tolerance: 0.31717561013403583\n",
      "  model = cd_fast.enet_coordinate_descent_gram(\n",
      "C:\\Users\\Kian\\AppData\\Local\\Programs\\Python\\Python311\\Lib\\site-packages\\sklearn\\linear_model\\_coordinate_descent.py:614: ConvergenceWarning: Objective did not converge. You might want to increase the number of iterations. Duality gap: 0.897286625766128, tolerance: 0.31717561013403583\n",
      "  model = cd_fast.enet_coordinate_descent_gram(\n",
      "C:\\Users\\Kian\\AppData\\Local\\Programs\\Python\\Python311\\Lib\\site-packages\\sklearn\\linear_model\\_coordinate_descent.py:614: ConvergenceWarning: Objective did not converge. You might want to increase the number of iterations. Duality gap: 1.5856595584625666, tolerance: 0.31717561013403583\n",
      "  model = cd_fast.enet_coordinate_descent_gram(\n",
      "C:\\Users\\Kian\\AppData\\Local\\Programs\\Python\\Python311\\Lib\\site-packages\\sklearn\\linear_model\\_coordinate_descent.py:614: ConvergenceWarning: Objective did not converge. You might want to increase the number of iterations. Duality gap: 0.4087104599104805, tolerance: 0.31718865731773405\n",
      "  model = cd_fast.enet_coordinate_descent_gram(\n",
      "C:\\Users\\Kian\\AppData\\Local\\Programs\\Python\\Python311\\Lib\\site-packages\\sklearn\\linear_model\\_coordinate_descent.py:614: ConvergenceWarning: Objective did not converge. You might want to increase the number of iterations. Duality gap: 0.6576649617668409, tolerance: 0.31718865731773405\n",
      "  model = cd_fast.enet_coordinate_descent_gram(\n",
      "C:\\Users\\Kian\\AppData\\Local\\Programs\\Python\\Python311\\Lib\\site-packages\\sklearn\\linear_model\\_coordinate_descent.py:614: ConvergenceWarning: Objective did not converge. You might want to increase the number of iterations. Duality gap: 0.7580575488254908, tolerance: 0.31718865731773405\n",
      "  model = cd_fast.enet_coordinate_descent_gram(\n",
      "C:\\Users\\Kian\\AppData\\Local\\Programs\\Python\\Python311\\Lib\\site-packages\\sklearn\\linear_model\\_coordinate_descent.py:614: ConvergenceWarning: Objective did not converge. You might want to increase the number of iterations. Duality gap: 0.7280010034453426, tolerance: 0.31718865731773405\n",
      "  model = cd_fast.enet_coordinate_descent_gram(\n",
      "C:\\Users\\Kian\\AppData\\Local\\Programs\\Python\\Python311\\Lib\\site-packages\\sklearn\\linear_model\\_coordinate_descent.py:614: ConvergenceWarning: Objective did not converge. You might want to increase the number of iterations. Duality gap: 0.7257565500053715, tolerance: 0.31718865731773405\n",
      "  model = cd_fast.enet_coordinate_descent_gram(\n",
      "C:\\Users\\Kian\\AppData\\Local\\Programs\\Python\\Python311\\Lib\\site-packages\\sklearn\\linear_model\\_coordinate_descent.py:614: ConvergenceWarning: Objective did not converge. You might want to increase the number of iterations. Duality gap: 0.7099156248614236, tolerance: 0.31718865731773405\n",
      "  model = cd_fast.enet_coordinate_descent_gram(\n",
      "C:\\Users\\Kian\\AppData\\Local\\Programs\\Python\\Python311\\Lib\\site-packages\\sklearn\\linear_model\\_coordinate_descent.py:614: ConvergenceWarning: Objective did not converge. You might want to increase the number of iterations. Duality gap: 0.47685727411635526, tolerance: 0.31718865731773405\n",
      "  model = cd_fast.enet_coordinate_descent_gram(\n",
      "C:\\Users\\Kian\\AppData\\Local\\Programs\\Python\\Python311\\Lib\\site-packages\\sklearn\\linear_model\\_coordinate_descent.py:614: ConvergenceWarning: Objective did not converge. You might want to increase the number of iterations. Duality gap: 0.6616009037848016, tolerance: 0.31718865731773405\n",
      "  model = cd_fast.enet_coordinate_descent_gram(\n",
      "C:\\Users\\Kian\\AppData\\Local\\Programs\\Python\\Python311\\Lib\\site-packages\\sklearn\\linear_model\\_coordinate_descent.py:614: ConvergenceWarning: Objective did not converge. You might want to increase the number of iterations. Duality gap: 0.6696417442406073, tolerance: 0.31718865731773405\n",
      "  model = cd_fast.enet_coordinate_descent_gram(\n",
      "C:\\Users\\Kian\\AppData\\Local\\Programs\\Python\\Python311\\Lib\\site-packages\\sklearn\\linear_model\\_coordinate_descent.py:614: ConvergenceWarning: Objective did not converge. You might want to increase the number of iterations. Duality gap: 0.6419997898590282, tolerance: 0.31718865731773405\n",
      "  model = cd_fast.enet_coordinate_descent_gram(\n",
      "C:\\Users\\Kian\\AppData\\Local\\Programs\\Python\\Python311\\Lib\\site-packages\\sklearn\\linear_model\\_coordinate_descent.py:614: ConvergenceWarning: Objective did not converge. You might want to increase the number of iterations. Duality gap: 0.6358863054376798, tolerance: 0.31718865731773405\n",
      "  model = cd_fast.enet_coordinate_descent_gram(\n",
      "C:\\Users\\Kian\\AppData\\Local\\Programs\\Python\\Python311\\Lib\\site-packages\\sklearn\\linear_model\\_coordinate_descent.py:614: ConvergenceWarning: Objective did not converge. You might want to increase the number of iterations. Duality gap: 0.6021310511948741, tolerance: 0.31718865731773405\n",
      "  model = cd_fast.enet_coordinate_descent_gram(\n",
      "C:\\Users\\Kian\\AppData\\Local\\Programs\\Python\\Python311\\Lib\\site-packages\\sklearn\\linear_model\\_coordinate_descent.py:614: ConvergenceWarning: Objective did not converge. You might want to increase the number of iterations. Duality gap: 0.4550898232544114, tolerance: 0.31718865731773405\n",
      "  model = cd_fast.enet_coordinate_descent_gram(\n",
      "C:\\Users\\Kian\\AppData\\Local\\Programs\\Python\\Python311\\Lib\\site-packages\\sklearn\\linear_model\\_coordinate_descent.py:614: ConvergenceWarning: Objective did not converge. You might want to increase the number of iterations. Duality gap: 0.7922213467163601, tolerance: 0.31718865731773405\n",
      "  model = cd_fast.enet_coordinate_descent_gram(\n",
      "C:\\Users\\Kian\\AppData\\Local\\Programs\\Python\\Python311\\Lib\\site-packages\\sklearn\\linear_model\\_coordinate_descent.py:614: ConvergenceWarning: Objective did not converge. You might want to increase the number of iterations. Duality gap: 0.3817247243227939, tolerance: 0.3170310684124902\n",
      "  model = cd_fast.enet_coordinate_descent_gram(\n",
      "C:\\Users\\Kian\\AppData\\Local\\Programs\\Python\\Python311\\Lib\\site-packages\\sklearn\\linear_model\\_coordinate_descent.py:614: ConvergenceWarning: Objective did not converge. You might want to increase the number of iterations. Duality gap: 0.4750180639098289, tolerance: 0.3170310684124902\n",
      "  model = cd_fast.enet_coordinate_descent_gram(\n",
      "C:\\Users\\Kian\\AppData\\Local\\Programs\\Python\\Python311\\Lib\\site-packages\\sklearn\\linear_model\\_coordinate_descent.py:614: ConvergenceWarning: Objective did not converge. You might want to increase the number of iterations. Duality gap: 0.5272787979095028, tolerance: 0.3170310684124902\n",
      "  model = cd_fast.enet_coordinate_descent_gram(\n",
      "C:\\Users\\Kian\\AppData\\Local\\Programs\\Python\\Python311\\Lib\\site-packages\\sklearn\\linear_model\\_coordinate_descent.py:614: ConvergenceWarning: Objective did not converge. You might want to increase the number of iterations. Duality gap: 0.6594904374956059, tolerance: 0.3170310684124902\n",
      "  model = cd_fast.enet_coordinate_descent_gram(\n",
      "C:\\Users\\Kian\\AppData\\Local\\Programs\\Python\\Python311\\Lib\\site-packages\\sklearn\\linear_model\\_coordinate_descent.py:614: ConvergenceWarning: Objective did not converge. You might want to increase the number of iterations. Duality gap: 0.6786665670592811, tolerance: 0.3170310684124902\n",
      "  model = cd_fast.enet_coordinate_descent_gram(\n",
      "C:\\Users\\Kian\\AppData\\Local\\Programs\\Python\\Python311\\Lib\\site-packages\\sklearn\\linear_model\\_coordinate_descent.py:614: ConvergenceWarning: Objective did not converge. You might want to increase the number of iterations. Duality gap: 0.689357091183183, tolerance: 0.3170310684124902\n",
      "  model = cd_fast.enet_coordinate_descent_gram(\n",
      "C:\\Users\\Kian\\AppData\\Local\\Programs\\Python\\Python311\\Lib\\site-packages\\sklearn\\linear_model\\_coordinate_descent.py:614: ConvergenceWarning: Objective did not converge. You might want to increase the number of iterations. Duality gap: 0.6761360763027824, tolerance: 0.3170310684124902\n",
      "  model = cd_fast.enet_coordinate_descent_gram(\n",
      "C:\\Users\\Kian\\AppData\\Local\\Programs\\Python\\Python311\\Lib\\site-packages\\sklearn\\linear_model\\_coordinate_descent.py:614: ConvergenceWarning: Objective did not converge. You might want to increase the number of iterations. Duality gap: 0.6568858071887007, tolerance: 0.3170310684124902\n",
      "  model = cd_fast.enet_coordinate_descent_gram(\n",
      "C:\\Users\\Kian\\AppData\\Local\\Programs\\Python\\Python311\\Lib\\site-packages\\sklearn\\linear_model\\_coordinate_descent.py:614: ConvergenceWarning: Objective did not converge. You might want to increase the number of iterations. Duality gap: 0.47336256807943755, tolerance: 0.3170310684124902\n",
      "  model = cd_fast.enet_coordinate_descent_gram(\n",
      "C:\\Users\\Kian\\AppData\\Local\\Programs\\Python\\Python311\\Lib\\site-packages\\sklearn\\linear_model\\_coordinate_descent.py:614: ConvergenceWarning: Objective did not converge. You might want to increase the number of iterations. Duality gap: 0.4947396061445488, tolerance: 0.3170310684124902\n",
      "  model = cd_fast.enet_coordinate_descent_gram(\n",
      "C:\\Users\\Kian\\AppData\\Local\\Programs\\Python\\Python311\\Lib\\site-packages\\sklearn\\linear_model\\_coordinate_descent.py:614: ConvergenceWarning: Objective did not converge. You might want to increase the number of iterations. Duality gap: 0.49222336923480725, tolerance: 0.3170310684124902\n",
      "  model = cd_fast.enet_coordinate_descent_gram(\n",
      "C:\\Users\\Kian\\AppData\\Local\\Programs\\Python\\Python311\\Lib\\site-packages\\sklearn\\linear_model\\_coordinate_descent.py:614: ConvergenceWarning: Objective did not converge. You might want to increase the number of iterations. Duality gap: 0.46196772493954086, tolerance: 0.3170310684124902\n",
      "  model = cd_fast.enet_coordinate_descent_gram(\n",
      "C:\\Users\\Kian\\AppData\\Local\\Programs\\Python\\Python311\\Lib\\site-packages\\sklearn\\linear_model\\_coordinate_descent.py:614: ConvergenceWarning: Objective did not converge. You might want to increase the number of iterations. Duality gap: 0.3181468603977464, tolerance: 0.31726661501510844\n",
      "  model = cd_fast.enet_coordinate_descent_gram(\n",
      "C:\\Users\\Kian\\AppData\\Local\\Programs\\Python\\Python311\\Lib\\site-packages\\sklearn\\linear_model\\_coordinate_descent.py:614: ConvergenceWarning: Objective did not converge. You might want to increase the number of iterations. Duality gap: 0.3656024085792069, tolerance: 0.31726661501510844\n",
      "  model = cd_fast.enet_coordinate_descent_gram(\n",
      "C:\\Users\\Kian\\AppData\\Local\\Programs\\Python\\Python311\\Lib\\site-packages\\sklearn\\linear_model\\_coordinate_descent.py:614: ConvergenceWarning: Objective did not converge. You might want to increase the number of iterations. Duality gap: 0.3676532678184685, tolerance: 0.31726661501510844\n",
      "  model = cd_fast.enet_coordinate_descent_gram(\n",
      "C:\\Users\\Kian\\AppData\\Local\\Programs\\Python\\Python311\\Lib\\site-packages\\sklearn\\linear_model\\_coordinate_descent.py:614: ConvergenceWarning: Objective did not converge. You might want to increase the number of iterations. Duality gap: 0.3667768432230787, tolerance: 0.31726661501510844\n",
      "  model = cd_fast.enet_coordinate_descent_gram(\n",
      "C:\\Users\\Kian\\AppData\\Local\\Programs\\Python\\Python311\\Lib\\site-packages\\sklearn\\linear_model\\_coordinate_descent.py:614: ConvergenceWarning: Objective did not converge. You might want to increase the number of iterations. Duality gap: 0.3896520670400605, tolerance: 0.31726661501510844\n",
      "  model = cd_fast.enet_coordinate_descent_gram(\n",
      "C:\\Users\\Kian\\AppData\\Local\\Programs\\Python\\Python311\\Lib\\site-packages\\sklearn\\linear_model\\_coordinate_descent.py:614: ConvergenceWarning: Objective did not converge. You might want to increase the number of iterations. Duality gap: 0.3868889142088392, tolerance: 0.31726661501510844\n",
      "  model = cd_fast.enet_coordinate_descent_gram(\n",
      "C:\\Users\\Kian\\AppData\\Local\\Programs\\Python\\Python311\\Lib\\site-packages\\sklearn\\linear_model\\_coordinate_descent.py:614: ConvergenceWarning: Objective did not converge. You might want to increase the number of iterations. Duality gap: 0.3798212658693956, tolerance: 0.31726661501510844\n",
      "  model = cd_fast.enet_coordinate_descent_gram(\n",
      "C:\\Users\\Kian\\AppData\\Local\\Programs\\Python\\Python311\\Lib\\site-packages\\sklearn\\linear_model\\_coordinate_descent.py:614: ConvergenceWarning: Objective did not converge. You might want to increase the number of iterations. Duality gap: 0.3644217867142743, tolerance: 0.31726661501510844\n",
      "  model = cd_fast.enet_coordinate_descent_gram(\n",
      "C:\\Users\\Kian\\AppData\\Local\\Programs\\Python\\Python311\\Lib\\site-packages\\sklearn\\linear_model\\_coordinate_descent.py:614: ConvergenceWarning: Objective did not converge. You might want to increase the number of iterations. Duality gap: 0.3870190025463671, tolerance: 0.31726661501510844\n",
      "  model = cd_fast.enet_coordinate_descent_gram(\n",
      "C:\\Users\\Kian\\AppData\\Local\\Programs\\Python\\Python311\\Lib\\site-packages\\sklearn\\linear_model\\_coordinate_descent.py:614: ConvergenceWarning: Objective did not converge. You might want to increase the number of iterations. Duality gap: 0.3550120442446314, tolerance: 0.31660479547567416\n",
      "  model = cd_fast.enet_coordinate_descent_gram(\n",
      "C:\\Users\\Kian\\AppData\\Local\\Programs\\Python\\Python311\\Lib\\site-packages\\sklearn\\linear_model\\_coordinate_descent.py:614: ConvergenceWarning: Objective did not converge. You might want to increase the number of iterations. Duality gap: 0.4091612753413756, tolerance: 0.31660479547567416\n",
      "  model = cd_fast.enet_coordinate_descent_gram(\n",
      "C:\\Users\\Kian\\AppData\\Local\\Programs\\Python\\Python311\\Lib\\site-packages\\sklearn\\linear_model\\_coordinate_descent.py:614: ConvergenceWarning: Objective did not converge. You might want to increase the number of iterations. Duality gap: 0.6345450955129763, tolerance: 0.31660479547567416\n",
      "  model = cd_fast.enet_coordinate_descent_gram(\n",
      "C:\\Users\\Kian\\AppData\\Local\\Programs\\Python\\Python311\\Lib\\site-packages\\sklearn\\linear_model\\_coordinate_descent.py:614: ConvergenceWarning: Objective did not converge. You might want to increase the number of iterations. Duality gap: 0.662676651758602, tolerance: 0.31660479547567416\n",
      "  model = cd_fast.enet_coordinate_descent_gram(\n",
      "C:\\Users\\Kian\\AppData\\Local\\Programs\\Python\\Python311\\Lib\\site-packages\\sklearn\\linear_model\\_coordinate_descent.py:614: ConvergenceWarning: Objective did not converge. You might want to increase the number of iterations. Duality gap: 0.6565845083321165, tolerance: 0.31660479547567416\n",
      "  model = cd_fast.enet_coordinate_descent_gram(\n",
      "C:\\Users\\Kian\\AppData\\Local\\Programs\\Python\\Python311\\Lib\\site-packages\\sklearn\\linear_model\\_coordinate_descent.py:614: ConvergenceWarning: Objective did not converge. You might want to increase the number of iterations. Duality gap: 0.6505230807820226, tolerance: 0.31660479547567416\n",
      "  model = cd_fast.enet_coordinate_descent_gram(\n",
      "C:\\Users\\Kian\\AppData\\Local\\Programs\\Python\\Python311\\Lib\\site-packages\\sklearn\\linear_model\\_coordinate_descent.py:628: ConvergenceWarning: Objective did not converge. You might want to increase the number of iterations, check the scale of the features or consider increasing regularisation. Duality gap: 1.123e+01, tolerance: 3.963e-01\n",
      "  model = cd_fast.enet_coordinate_descent(\n",
      "C:\\Users\\Kian\\AppData\\Local\\Programs\\Python\\Python311\\Lib\\site-packages\\sklearn\\metrics\\_classification.py:1471: UndefinedMetricWarning: Recall is ill-defined and being set to 0.0 due to no true samples. Use `zero_division` parameter to control this behavior.\n",
      "  _warn_prf(average, modifier, msg_start, len(result))\n"
     ]
    },
    {
     "name": "stdout",
     "output_type": "stream",
     "text": [
      "\n",
      "            ts acc: 0.9855072463768116\n",
      "            ts f1: 0.0 \n",
      "            ts sensitivity: 0.0 \n",
      "            ts specificity: 0.0\n",
      "    \n",
      "### 22 subject compelete.\n",
      "        test group: ['sub-033']        \n",
      "    \n"
     ]
    },
    {
     "name": "stderr",
     "output_type": "stream",
     "text": [
      "C:\\Users\\Kian\\AppData\\Local\\Programs\\Python\\Python311\\Lib\\site-packages\\sklearn\\linear_model\\_coordinate_descent.py:614: ConvergenceWarning: Objective did not converge. You might want to increase the number of iterations. Duality gap: 0.4086678245798794, tolerance: 0.31611201058612937\n",
      "  model = cd_fast.enet_coordinate_descent_gram(\n",
      "C:\\Users\\Kian\\AppData\\Local\\Programs\\Python\\Python311\\Lib\\site-packages\\sklearn\\linear_model\\_coordinate_descent.py:614: ConvergenceWarning: Objective did not converge. You might want to increase the number of iterations. Duality gap: 0.4144224444041811, tolerance: 0.31593470849225463\n",
      "  model = cd_fast.enet_coordinate_descent_gram(\n",
      "C:\\Users\\Kian\\AppData\\Local\\Programs\\Python\\Python311\\Lib\\site-packages\\sklearn\\linear_model\\_coordinate_descent.py:614: ConvergenceWarning: Objective did not converge. You might want to increase the number of iterations. Duality gap: 0.4969605183071053, tolerance: 0.31593470849225463\n",
      "  model = cd_fast.enet_coordinate_descent_gram(\n",
      "C:\\Users\\Kian\\AppData\\Local\\Programs\\Python\\Python311\\Lib\\site-packages\\sklearn\\linear_model\\_coordinate_descent.py:614: ConvergenceWarning: Objective did not converge. You might want to increase the number of iterations. Duality gap: 0.33798916757132247, tolerance: 0.31593470849225463\n",
      "  model = cd_fast.enet_coordinate_descent_gram(\n",
      "C:\\Users\\Kian\\AppData\\Local\\Programs\\Python\\Python311\\Lib\\site-packages\\sklearn\\linear_model\\_coordinate_descent.py:628: ConvergenceWarning: Objective did not converge. You might want to increase the number of iterations, check the scale of the features or consider increasing regularisation. Duality gap: 2.139e+01, tolerance: 3.949e-01\n",
      "  model = cd_fast.enet_coordinate_descent(\n",
      "C:\\Users\\Kian\\AppData\\Local\\Programs\\Python\\Python311\\Lib\\site-packages\\sklearn\\metrics\\_classification.py:1471: UndefinedMetricWarning: Recall is ill-defined and being set to 0.0 due to no true samples. Use `zero_division` parameter to control this behavior.\n",
      "  _warn_prf(average, modifier, msg_start, len(result))\n"
     ]
    },
    {
     "name": "stdout",
     "output_type": "stream",
     "text": [
      "\n",
      "            ts acc: 0.9629629629629629\n",
      "            ts f1: 0.0 \n",
      "            ts sensitivity: 0.0 \n",
      "            ts specificity: 0.0\n",
      "    \n",
      "### 23 subject compelete.\n",
      "        test group: ['sub-034']        \n",
      "    \n"
     ]
    },
    {
     "name": "stderr",
     "output_type": "stream",
     "text": [
      "C:\\Users\\Kian\\AppData\\Local\\Programs\\Python\\Python311\\Lib\\site-packages\\sklearn\\linear_model\\_coordinate_descent.py:614: ConvergenceWarning: Objective did not converge. You might want to increase the number of iterations. Duality gap: 0.4025706379973144, tolerance: 0.3140332626952364\n",
      "  model = cd_fast.enet_coordinate_descent_gram(\n",
      "C:\\Users\\Kian\\AppData\\Local\\Programs\\Python\\Python311\\Lib\\site-packages\\sklearn\\linear_model\\_coordinate_descent.py:614: ConvergenceWarning: Objective did not converge. You might want to increase the number of iterations. Duality gap: 0.4832733452406046, tolerance: 0.3139137273369437\n",
      "  model = cd_fast.enet_coordinate_descent_gram(\n",
      "C:\\Users\\Kian\\AppData\\Local\\Programs\\Python\\Python311\\Lib\\site-packages\\sklearn\\linear_model\\_coordinate_descent.py:614: ConvergenceWarning: Objective did not converge. You might want to increase the number of iterations. Duality gap: 0.31617768900741794, tolerance: 0.31399307016167005\n",
      "  model = cd_fast.enet_coordinate_descent_gram(\n",
      "C:\\Users\\Kian\\AppData\\Local\\Programs\\Python\\Python311\\Lib\\site-packages\\sklearn\\linear_model\\_coordinate_descent.py:628: ConvergenceWarning: Objective did not converge. You might want to increase the number of iterations, check the scale of the features or consider increasing regularisation. Duality gap: 9.940e-01, tolerance: 3.924e-01\n",
      "  model = cd_fast.enet_coordinate_descent(\n",
      "C:\\Users\\Kian\\AppData\\Local\\Programs\\Python\\Python311\\Lib\\site-packages\\sklearn\\metrics\\_classification.py:1471: UndefinedMetricWarning: Recall is ill-defined and being set to 0.0 due to no true samples. Use `zero_division` parameter to control this behavior.\n",
      "  _warn_prf(average, modifier, msg_start, len(result))\n"
     ]
    },
    {
     "name": "stdout",
     "output_type": "stream",
     "text": [
      "\n",
      "            ts acc: 0.8178053830227743\n",
      "            ts f1: 0.0 \n",
      "            ts sensitivity: 0.0 \n",
      "            ts specificity: 0.0\n",
      "    \n",
      "### 24 subject compelete.\n",
      "        test group: ['sub-037']        \n",
      "    \n"
     ]
    },
    {
     "name": "stderr",
     "output_type": "stream",
     "text": [
      "C:\\Users\\Kian\\AppData\\Local\\Programs\\Python\\Python311\\Lib\\site-packages\\sklearn\\linear_model\\_coordinate_descent.py:614: ConvergenceWarning: Objective did not converge. You might want to increase the number of iterations. Duality gap: 0.5843369154285938, tolerance: 0.31062877984084875\n",
      "  model = cd_fast.enet_coordinate_descent_gram(\n",
      "C:\\Users\\Kian\\AppData\\Local\\Programs\\Python\\Python311\\Lib\\site-packages\\sklearn\\linear_model\\_coordinate_descent.py:614: ConvergenceWarning: Objective did not converge. You might want to increase the number of iterations. Duality gap: 0.650701671240995, tolerance: 0.31062877984084875\n",
      "  model = cd_fast.enet_coordinate_descent_gram(\n",
      "C:\\Users\\Kian\\AppData\\Local\\Programs\\Python\\Python311\\Lib\\site-packages\\sklearn\\linear_model\\_coordinate_descent.py:614: ConvergenceWarning: Objective did not converge. You might want to increase the number of iterations. Duality gap: 0.5917662557908443, tolerance: 0.31013135189952373\n",
      "  model = cd_fast.enet_coordinate_descent_gram(\n",
      "C:\\Users\\Kian\\AppData\\Local\\Programs\\Python\\Python311\\Lib\\site-packages\\sklearn\\linear_model\\_coordinate_descent.py:614: ConvergenceWarning: Objective did not converge. You might want to increase the number of iterations. Duality gap: 0.5562919480078108, tolerance: 0.31013135189952373\n",
      "  model = cd_fast.enet_coordinate_descent_gram(\n",
      "C:\\Users\\Kian\\AppData\\Local\\Programs\\Python\\Python311\\Lib\\site-packages\\sklearn\\linear_model\\_coordinate_descent.py:628: ConvergenceWarning: Objective did not converge. You might want to increase the number of iterations, check the scale of the features or consider increasing regularisation. Duality gap: 1.167e+01, tolerance: 3.884e-01\n",
      "  model = cd_fast.enet_coordinate_descent(\n"
     ]
    },
    {
     "name": "stdout",
     "output_type": "stream",
     "text": [
      "\n",
      "            ts acc: 0.7803617571059431\n",
      "            ts f1: 0.876632801161103 \n",
      "            ts sensitivity: 0.7803617571059431 \n",
      "            ts specificity: 1.0\n",
      "    \n",
      "### 25 subject compelete.\n",
      "        test group: ['sub-038']        \n",
      "    \n"
     ]
    },
    {
     "name": "stderr",
     "output_type": "stream",
     "text": [
      "C:\\Users\\Kian\\AppData\\Local\\Programs\\Python\\Python311\\Lib\\site-packages\\sklearn\\linear_model\\_coordinate_descent.py:614: ConvergenceWarning: Objective did not converge. You might want to increase the number of iterations. Duality gap: 0.32202409898513906, tolerance: 0.3094258299404954\n",
      "  model = cd_fast.enet_coordinate_descent_gram(\n",
      "C:\\Users\\Kian\\AppData\\Local\\Programs\\Python\\Python311\\Lib\\site-packages\\sklearn\\linear_model\\_coordinate_descent.py:614: ConvergenceWarning: Objective did not converge. You might want to increase the number of iterations. Duality gap: 0.3523226836889535, tolerance: 0.3094258299404954\n",
      "  model = cd_fast.enet_coordinate_descent_gram(\n",
      "C:\\Users\\Kian\\AppData\\Local\\Programs\\Python\\Python311\\Lib\\site-packages\\sklearn\\linear_model\\_coordinate_descent.py:614: ConvergenceWarning: Objective did not converge. You might want to increase the number of iterations. Duality gap: 0.35967134735801665, tolerance: 0.3094258299404954\n",
      "  model = cd_fast.enet_coordinate_descent_gram(\n",
      "C:\\Users\\Kian\\AppData\\Local\\Programs\\Python\\Python311\\Lib\\site-packages\\sklearn\\linear_model\\_coordinate_descent.py:614: ConvergenceWarning: Objective did not converge. You might want to increase the number of iterations. Duality gap: 0.3523643779633403, tolerance: 0.3094258299404954\n",
      "  model = cd_fast.enet_coordinate_descent_gram(\n",
      "C:\\Users\\Kian\\AppData\\Local\\Programs\\Python\\Python311\\Lib\\site-packages\\sklearn\\linear_model\\_coordinate_descent.py:614: ConvergenceWarning: Objective did not converge. You might want to increase the number of iterations. Duality gap: 0.324850213964055, tolerance: 0.3094258299404954\n",
      "  model = cd_fast.enet_coordinate_descent_gram(\n",
      "C:\\Users\\Kian\\AppData\\Local\\Programs\\Python\\Python311\\Lib\\site-packages\\sklearn\\linear_model\\_coordinate_descent.py:614: ConvergenceWarning: Objective did not converge. You might want to increase the number of iterations. Duality gap: 0.4987947838940272, tolerance: 0.3087083848743445\n",
      "  model = cd_fast.enet_coordinate_descent_gram(\n",
      "C:\\Users\\Kian\\AppData\\Local\\Programs\\Python\\Python311\\Lib\\site-packages\\sklearn\\linear_model\\_coordinate_descent.py:628: ConvergenceWarning: Objective did not converge. You might want to increase the number of iterations, check the scale of the features or consider increasing regularisation. Duality gap: 1.875e+01, tolerance: 3.864e-01\n",
      "  model = cd_fast.enet_coordinate_descent(\n"
     ]
    },
    {
     "name": "stdout",
     "output_type": "stream",
     "text": [
      "\n",
      "            ts acc: 0.6554054054054054\n",
      "            ts f1: 0.7918367346938776 \n",
      "            ts sensitivity: 0.6554054054054054 \n",
      "            ts specificity: 1.0\n",
      "    \n",
      "### 26 subject compelete.\n",
      "        test group: ['sub-042']        \n",
      "    \n"
     ]
    },
    {
     "name": "stderr",
     "output_type": "stream",
     "text": [
      "C:\\Users\\Kian\\AppData\\Local\\Programs\\Python\\Python311\\Lib\\site-packages\\sklearn\\linear_model\\_coordinate_descent.py:614: ConvergenceWarning: Objective did not converge. You might want to increase the number of iterations. Duality gap: 0.3302676171388157, tolerance: 0.30845586158192106\n",
      "  model = cd_fast.enet_coordinate_descent_gram(\n",
      "C:\\Users\\Kian\\AppData\\Local\\Programs\\Python\\Python311\\Lib\\site-packages\\sklearn\\linear_model\\_coordinate_descent.py:614: ConvergenceWarning: Objective did not converge. You might want to increase the number of iterations. Duality gap: 0.3317035175525689, tolerance: 0.30845586158192106\n",
      "  model = cd_fast.enet_coordinate_descent_gram(\n"
     ]
    },
    {
     "name": "stdout",
     "output_type": "stream",
     "text": [
      "\n",
      "            ts acc: 0.9145833333333333\n",
      "            ts f1: 0.955386289445049 \n",
      "            ts sensitivity: 0.9145833333333333 \n",
      "            ts specificity: 1.0\n",
      "    \n",
      "### 27 subject compelete.\n",
      "        test group: ['sub-043']        \n",
      "    \n"
     ]
    },
    {
     "name": "stderr",
     "output_type": "stream",
     "text": [
      "C:\\Users\\Kian\\AppData\\Local\\Programs\\Python\\Python311\\Lib\\site-packages\\sklearn\\linear_model\\_coordinate_descent.py:614: ConvergenceWarning: Objective did not converge. You might want to increase the number of iterations. Duality gap: 0.39099049634887706, tolerance: 0.3102361490974448\n",
      "  model = cd_fast.enet_coordinate_descent_gram(\n",
      "C:\\Users\\Kian\\AppData\\Local\\Programs\\Python\\Python311\\Lib\\site-packages\\sklearn\\linear_model\\_coordinate_descent.py:614: ConvergenceWarning: Objective did not converge. You might want to increase the number of iterations. Duality gap: 0.7681850663736896, tolerance: 0.31011394858169944\n",
      "  model = cd_fast.enet_coordinate_descent_gram(\n",
      "C:\\Users\\Kian\\AppData\\Local\\Programs\\Python\\Python311\\Lib\\site-packages\\sklearn\\linear_model\\_coordinate_descent.py:614: ConvergenceWarning: Objective did not converge. You might want to increase the number of iterations. Duality gap: 0.5320245521359084, tolerance: 0.31011394858169944\n",
      "  model = cd_fast.enet_coordinate_descent_gram(\n",
      "C:\\Users\\Kian\\AppData\\Local\\Programs\\Python\\Python311\\Lib\\site-packages\\sklearn\\linear_model\\_coordinate_descent.py:614: ConvergenceWarning: Objective did not converge. You might want to increase the number of iterations. Duality gap: 0.5957023608332292, tolerance: 0.31011394858169944\n",
      "  model = cd_fast.enet_coordinate_descent_gram(\n",
      "C:\\Users\\Kian\\AppData\\Local\\Programs\\Python\\Python311\\Lib\\site-packages\\sklearn\\linear_model\\_coordinate_descent.py:614: ConvergenceWarning: Objective did not converge. You might want to increase the number of iterations. Duality gap: 0.6245522207034355, tolerance: 0.3093995702453505\n",
      "  model = cd_fast.enet_coordinate_descent_gram(\n",
      "C:\\Users\\Kian\\AppData\\Local\\Programs\\Python\\Python311\\Lib\\site-packages\\sklearn\\linear_model\\_coordinate_descent.py:614: ConvergenceWarning: Objective did not converge. You might want to increase the number of iterations. Duality gap: 0.6621577191879169, tolerance: 0.3093995702453505\n",
      "  model = cd_fast.enet_coordinate_descent_gram(\n",
      "C:\\Users\\Kian\\AppData\\Local\\Programs\\Python\\Python311\\Lib\\site-packages\\sklearn\\linear_model\\_coordinate_descent.py:614: ConvergenceWarning: Objective did not converge. You might want to increase the number of iterations. Duality gap: 0.6371403248701881, tolerance: 0.3093995702453505\n",
      "  model = cd_fast.enet_coordinate_descent_gram(\n",
      "C:\\Users\\Kian\\AppData\\Local\\Programs\\Python\\Python311\\Lib\\site-packages\\sklearn\\linear_model\\_coordinate_descent.py:628: ConvergenceWarning: Objective did not converge. You might want to increase the number of iterations, check the scale of the features or consider increasing regularisation. Duality gap: 1.021e+00, tolerance: 3.875e-01\n",
      "  model = cd_fast.enet_coordinate_descent(\n"
     ]
    },
    {
     "name": "stdout",
     "output_type": "stream",
     "text": [
      "\n",
      "            ts acc: 0.12106537530266344\n",
      "            ts f1: 0.21598272138228944 \n",
      "            ts sensitivity: 0.12106537530266344 \n",
      "            ts specificity: 1.0\n",
      "    \n",
      "### 28 subject compelete.\n",
      "        test group: ['sub-046']        \n",
      "    \n"
     ]
    },
    {
     "name": "stderr",
     "output_type": "stream",
     "text": [
      "C:\\Users\\Kian\\AppData\\Local\\Programs\\Python\\Python311\\Lib\\site-packages\\sklearn\\linear_model\\_coordinate_descent.py:614: ConvergenceWarning: Objective did not converge. You might want to increase the number of iterations. Duality gap: 0.32699186585136886, tolerance: 0.3111298097910821\n",
      "  model = cd_fast.enet_coordinate_descent_gram(\n",
      "C:\\Users\\Kian\\AppData\\Local\\Programs\\Python\\Python311\\Lib\\site-packages\\sklearn\\linear_model\\_coordinate_descent.py:614: ConvergenceWarning: Objective did not converge. You might want to increase the number of iterations. Duality gap: 0.591279410822608, tolerance: 0.3111298097910821\n",
      "  model = cd_fast.enet_coordinate_descent_gram(\n",
      "C:\\Users\\Kian\\AppData\\Local\\Programs\\Python\\Python311\\Lib\\site-packages\\sklearn\\linear_model\\_coordinate_descent.py:614: ConvergenceWarning: Objective did not converge. You might want to increase the number of iterations. Duality gap: 1.765674930351679, tolerance: 0.3111298097910821\n",
      "  model = cd_fast.enet_coordinate_descent_gram(\n",
      "C:\\Users\\Kian\\AppData\\Local\\Programs\\Python\\Python311\\Lib\\site-packages\\sklearn\\linear_model\\_coordinate_descent.py:614: ConvergenceWarning: Objective did not converge. You might want to increase the number of iterations. Duality gap: 0.4264689264837216, tolerance: 0.31128465076395356\n",
      "  model = cd_fast.enet_coordinate_descent_gram(\n",
      "C:\\Users\\Kian\\AppData\\Local\\Programs\\Python\\Python311\\Lib\\site-packages\\sklearn\\linear_model\\_coordinate_descent.py:614: ConvergenceWarning: Objective did not converge. You might want to increase the number of iterations. Duality gap: 0.3559653245683876, tolerance: 0.3110085048331774\n",
      "  model = cd_fast.enet_coordinate_descent_gram(\n",
      "C:\\Users\\Kian\\AppData\\Local\\Programs\\Python\\Python311\\Lib\\site-packages\\sklearn\\linear_model\\_coordinate_descent.py:614: ConvergenceWarning: Objective did not converge. You might want to increase the number of iterations. Duality gap: 0.41394785998136285, tolerance: 0.3110085048331774\n",
      "  model = cd_fast.enet_coordinate_descent_gram(\n",
      "C:\\Users\\Kian\\AppData\\Local\\Programs\\Python\\Python311\\Lib\\site-packages\\sklearn\\linear_model\\_coordinate_descent.py:614: ConvergenceWarning: Objective did not converge. You might want to increase the number of iterations. Duality gap: 0.32623561649825206, tolerance: 0.3110085048331774\n",
      "  model = cd_fast.enet_coordinate_descent_gram(\n",
      "C:\\Users\\Kian\\AppData\\Local\\Programs\\Python\\Python311\\Lib\\site-packages\\sklearn\\linear_model\\_coordinate_descent.py:614: ConvergenceWarning: Objective did not converge. You might want to increase the number of iterations. Duality gap: 0.31418711098081076, tolerance: 0.3110085048331774\n",
      "  model = cd_fast.enet_coordinate_descent_gram(\n",
      "C:\\Users\\Kian\\AppData\\Local\\Programs\\Python\\Python311\\Lib\\site-packages\\sklearn\\linear_model\\_coordinate_descent.py:614: ConvergenceWarning: Objective did not converge. You might want to increase the number of iterations. Duality gap: 0.335569037157029, tolerance: 0.3112331774243841\n",
      "  model = cd_fast.enet_coordinate_descent_gram(\n",
      "C:\\Users\\Kian\\AppData\\Local\\Programs\\Python\\Python311\\Lib\\site-packages\\sklearn\\linear_model\\_coordinate_descent.py:614: ConvergenceWarning: Objective did not converge. You might want to increase the number of iterations. Duality gap: 0.5161072964390314, tolerance: 0.3112331774243841\n",
      "  model = cd_fast.enet_coordinate_descent_gram(\n",
      "C:\\Users\\Kian\\AppData\\Local\\Programs\\Python\\Python311\\Lib\\site-packages\\sklearn\\linear_model\\_coordinate_descent.py:614: ConvergenceWarning: Objective did not converge. You might want to increase the number of iterations. Duality gap: 0.46326801016766694, tolerance: 0.3112331774243841\n",
      "  model = cd_fast.enet_coordinate_descent_gram(\n",
      "C:\\Users\\Kian\\AppData\\Local\\Programs\\Python\\Python311\\Lib\\site-packages\\sklearn\\linear_model\\_coordinate_descent.py:628: ConvergenceWarning: Objective did not converge. You might want to increase the number of iterations, check the scale of the features or consider increasing regularisation. Duality gap: 4.525e+00, tolerance: 3.888e-01\n",
      "  model = cd_fast.enet_coordinate_descent(\n"
     ]
    },
    {
     "name": "stdout",
     "output_type": "stream",
     "text": [
      "\n",
      "            ts acc: 0.7413333333333333\n",
      "            ts f1: 0.8514548238897396 \n",
      "            ts sensitivity: 0.7413333333333333 \n",
      "            ts specificity: 1.0\n",
      "    \n",
      "### 29 subject compelete.\n",
      "        test group: ['sub-047']        \n",
      "    \n"
     ]
    },
    {
     "name": "stderr",
     "output_type": "stream",
     "text": [
      "C:\\Users\\Kian\\AppData\\Local\\Programs\\Python\\Python311\\Lib\\site-packages\\sklearn\\linear_model\\_coordinate_descent.py:614: ConvergenceWarning: Objective did not converge. You might want to increase the number of iterations. Duality gap: 0.4014167037596508, tolerance: 0.31040699672028726\n",
      "  model = cd_fast.enet_coordinate_descent_gram(\n",
      "C:\\Users\\Kian\\AppData\\Local\\Programs\\Python\\Python311\\Lib\\site-packages\\sklearn\\linear_model\\_coordinate_descent.py:614: ConvergenceWarning: Objective did not converge. You might want to increase the number of iterations. Duality gap: 0.34172817215562645, tolerance: 0.31040699672028726\n",
      "  model = cd_fast.enet_coordinate_descent_gram(\n",
      "C:\\Users\\Kian\\AppData\\Local\\Programs\\Python\\Python311\\Lib\\site-packages\\sklearn\\linear_model\\_coordinate_descent.py:614: ConvergenceWarning: Objective did not converge. You might want to increase the number of iterations. Duality gap: 0.3374510531468786, tolerance: 0.31040699672028726\n",
      "  model = cd_fast.enet_coordinate_descent_gram(\n",
      "C:\\Users\\Kian\\AppData\\Local\\Programs\\Python\\Python311\\Lib\\site-packages\\sklearn\\linear_model\\_coordinate_descent.py:614: ConvergenceWarning: Objective did not converge. You might want to increase the number of iterations. Duality gap: 0.42214634856145494, tolerance: 0.3103720755895669\n",
      "  model = cd_fast.enet_coordinate_descent_gram(\n",
      "C:\\Users\\Kian\\AppData\\Local\\Programs\\Python\\Python311\\Lib\\site-packages\\sklearn\\linear_model\\_coordinate_descent.py:614: ConvergenceWarning: Objective did not converge. You might want to increase the number of iterations. Duality gap: 0.3506928540020908, tolerance: 0.3103720755895669\n",
      "  model = cd_fast.enet_coordinate_descent_gram(\n",
      "C:\\Users\\Kian\\AppData\\Local\\Programs\\Python\\Python311\\Lib\\site-packages\\sklearn\\linear_model\\_coordinate_descent.py:614: ConvergenceWarning: Objective did not converge. You might want to increase the number of iterations. Duality gap: 0.3532206066888648, tolerance: 0.3103720755895669\n",
      "  model = cd_fast.enet_coordinate_descent_gram(\n",
      "C:\\Users\\Kian\\AppData\\Local\\Programs\\Python\\Python311\\Lib\\site-packages\\sklearn\\linear_model\\_coordinate_descent.py:614: ConvergenceWarning: Objective did not converge. You might want to increase the number of iterations. Duality gap: 0.36400557005435985, tolerance: 0.3103895439637669\n",
      "  model = cd_fast.enet_coordinate_descent_gram(\n",
      "C:\\Users\\Kian\\AppData\\Local\\Programs\\Python\\Python311\\Lib\\site-packages\\sklearn\\linear_model\\_coordinate_descent.py:614: ConvergenceWarning: Objective did not converge. You might want to increase the number of iterations. Duality gap: 0.31911919421668244, tolerance: 0.3104937143749507\n",
      "  model = cd_fast.enet_coordinate_descent_gram(\n",
      "C:\\Users\\Kian\\AppData\\Local\\Programs\\Python\\Python311\\Lib\\site-packages\\sklearn\\linear_model\\_coordinate_descent.py:614: ConvergenceWarning: Objective did not converge. You might want to increase the number of iterations. Duality gap: 0.33451198070656574, tolerance: 0.3104937143749507\n",
      "  model = cd_fast.enet_coordinate_descent_gram(\n",
      "C:\\Users\\Kian\\AppData\\Local\\Programs\\Python\\Python311\\Lib\\site-packages\\sklearn\\linear_model\\_coordinate_descent.py:614: ConvergenceWarning: Objective did not converge. You might want to increase the number of iterations. Duality gap: 0.44137318146772486, tolerance: 0.30987553681580393\n",
      "  model = cd_fast.enet_coordinate_descent_gram(\n",
      "C:\\Users\\Kian\\AppData\\Local\\Programs\\Python\\Python311\\Lib\\site-packages\\sklearn\\linear_model\\_coordinate_descent.py:614: ConvergenceWarning: Objective did not converge. You might want to increase the number of iterations. Duality gap: 0.5901232478581733, tolerance: 0.30987553681580393\n",
      "  model = cd_fast.enet_coordinate_descent_gram(\n",
      "C:\\Users\\Kian\\AppData\\Local\\Programs\\Python\\Python311\\Lib\\site-packages\\sklearn\\linear_model\\_coordinate_descent.py:628: ConvergenceWarning: Objective did not converge. You might want to increase the number of iterations, check the scale of the features or consider increasing regularisation. Duality gap: 1.605e+01, tolerance: 3.879e-01\n",
      "  model = cd_fast.enet_coordinate_descent(\n"
     ]
    },
    {
     "name": "stdout",
     "output_type": "stream",
     "text": [
      "\n",
      "            ts acc: 0.7587064676616916\n",
      "            ts f1: 0.8628005657708627 \n",
      "            ts sensitivity: 0.7587064676616916 \n",
      "            ts specificity: 1.0\n",
      "    \n",
      "### 30 subject compelete.\n",
      "        test group: ['sub-048']        \n",
      "    \n"
     ]
    },
    {
     "name": "stderr",
     "output_type": "stream",
     "text": [
      "C:\\Users\\Kian\\AppData\\Local\\Programs\\Python\\Python311\\Lib\\site-packages\\sklearn\\linear_model\\_coordinate_descent.py:614: ConvergenceWarning: Objective did not converge. You might want to increase the number of iterations. Duality gap: 0.3156015170900446, tolerance: 0.3080556820859186\n",
      "  model = cd_fast.enet_coordinate_descent_gram(\n",
      "C:\\Users\\Kian\\AppData\\Local\\Programs\\Python\\Python311\\Lib\\site-packages\\sklearn\\linear_model\\_coordinate_descent.py:614: ConvergenceWarning: Objective did not converge. You might want to increase the number of iterations. Duality gap: 0.309220396855153, tolerance: 0.3080556820859186\n",
      "  model = cd_fast.enet_coordinate_descent_gram(\n",
      "C:\\Users\\Kian\\AppData\\Local\\Programs\\Python\\Python311\\Lib\\site-packages\\sklearn\\linear_model\\_coordinate_descent.py:614: ConvergenceWarning: Objective did not converge. You might want to increase the number of iterations. Duality gap: 0.4843565019482412, tolerance: 0.30787528469331693\n",
      "  model = cd_fast.enet_coordinate_descent_gram(\n",
      "C:\\Users\\Kian\\AppData\\Local\\Programs\\Python\\Python311\\Lib\\site-packages\\sklearn\\linear_model\\_coordinate_descent.py:614: ConvergenceWarning: Objective did not converge. You might want to increase the number of iterations. Duality gap: 0.5739430178132352, tolerance: 0.30776478718391703\n",
      "  model = cd_fast.enet_coordinate_descent_gram(\n",
      "C:\\Users\\Kian\\AppData\\Local\\Programs\\Python\\Python311\\Lib\\site-packages\\sklearn\\linear_model\\_coordinate_descent.py:614: ConvergenceWarning: Objective did not converge. You might want to increase the number of iterations. Duality gap: 1.277973142299743, tolerance: 0.30776478718391703\n",
      "  model = cd_fast.enet_coordinate_descent_gram(\n",
      "C:\\Users\\Kian\\AppData\\Local\\Programs\\Python\\Python311\\Lib\\site-packages\\sklearn\\linear_model\\_coordinate_descent.py:614: ConvergenceWarning: Objective did not converge. You might want to increase the number of iterations. Duality gap: 0.4018318381934023, tolerance: 0.30776478718391703\n",
      "  model = cd_fast.enet_coordinate_descent_gram(\n",
      "C:\\Users\\Kian\\AppData\\Local\\Programs\\Python\\Python311\\Lib\\site-packages\\sklearn\\linear_model\\_coordinate_descent.py:614: ConvergenceWarning: Objective did not converge. You might want to increase the number of iterations. Duality gap: 0.3301176856446091, tolerance: 0.3080725066750427\n",
      "  model = cd_fast.enet_coordinate_descent_gram(\n",
      "C:\\Users\\Kian\\AppData\\Local\\Programs\\Python\\Python311\\Lib\\site-packages\\sklearn\\linear_model\\_coordinate_descent.py:614: ConvergenceWarning: Objective did not converge. You might want to increase the number of iterations. Duality gap: 0.6764407039133857, tolerance: 0.3080725066750427\n",
      "  model = cd_fast.enet_coordinate_descent_gram(\n",
      "C:\\Users\\Kian\\AppData\\Local\\Programs\\Python\\Python311\\Lib\\site-packages\\sklearn\\linear_model\\_coordinate_descent.py:614: ConvergenceWarning: Objective did not converge. You might want to increase the number of iterations. Duality gap: 0.8431085550305397, tolerance: 0.3080725066750427\n",
      "  model = cd_fast.enet_coordinate_descent_gram(\n",
      "C:\\Users\\Kian\\AppData\\Local\\Programs\\Python\\Python311\\Lib\\site-packages\\sklearn\\linear_model\\_coordinate_descent.py:614: ConvergenceWarning: Objective did not converge. You might want to increase the number of iterations. Duality gap: 0.8757710318004683, tolerance: 0.3080725066750427\n",
      "  model = cd_fast.enet_coordinate_descent_gram(\n",
      "C:\\Users\\Kian\\AppData\\Local\\Programs\\Python\\Python311\\Lib\\site-packages\\sklearn\\linear_model\\_coordinate_descent.py:614: ConvergenceWarning: Objective did not converge. You might want to increase the number of iterations. Duality gap: 1.076806415092733, tolerance: 0.3080725066750427\n",
      "  model = cd_fast.enet_coordinate_descent_gram(\n",
      "C:\\Users\\Kian\\AppData\\Local\\Programs\\Python\\Python311\\Lib\\site-packages\\sklearn\\linear_model\\_coordinate_descent.py:614: ConvergenceWarning: Objective did not converge. You might want to increase the number of iterations. Duality gap: 1.362917617687799, tolerance: 0.3080725066750427\n",
      "  model = cd_fast.enet_coordinate_descent_gram(\n",
      "C:\\Users\\Kian\\AppData\\Local\\Programs\\Python\\Python311\\Lib\\site-packages\\sklearn\\linear_model\\_coordinate_descent.py:614: ConvergenceWarning: Objective did not converge. You might want to increase the number of iterations. Duality gap: 1.8222978621608945, tolerance: 0.3080725066750427\n",
      "  model = cd_fast.enet_coordinate_descent_gram(\n",
      "C:\\Users\\Kian\\AppData\\Local\\Programs\\Python\\Python311\\Lib\\site-packages\\sklearn\\linear_model\\_coordinate_descent.py:614: ConvergenceWarning: Objective did not converge. You might want to increase the number of iterations. Duality gap: 2.302731438362798, tolerance: 0.3080725066750427\n",
      "  model = cd_fast.enet_coordinate_descent_gram(\n",
      "C:\\Users\\Kian\\AppData\\Local\\Programs\\Python\\Python311\\Lib\\site-packages\\sklearn\\linear_model\\_coordinate_descent.py:628: ConvergenceWarning: Objective did not converge. You might want to increase the number of iterations, check the scale of the features or consider increasing regularisation. Duality gap: 8.225e-01, tolerance: 3.847e-01\n",
      "  model = cd_fast.enet_coordinate_descent(\n"
     ]
    },
    {
     "name": "stdout",
     "output_type": "stream",
     "text": [
      "\n",
      "            ts acc: 0.7484787018255578\n",
      "            ts f1: 0.8561484918793504 \n",
      "            ts sensitivity: 0.7484787018255578 \n",
      "            ts specificity: 1.0\n",
      "    \n",
      "### 31 subject compelete.\n",
      "        test group: ['sub-049']        \n",
      "    \n"
     ]
    },
    {
     "name": "stderr",
     "output_type": "stream",
     "text": [
      "C:\\Users\\Kian\\AppData\\Local\\Programs\\Python\\Python311\\Lib\\site-packages\\sklearn\\linear_model\\_coordinate_descent.py:614: ConvergenceWarning: Objective did not converge. You might want to increase the number of iterations. Duality gap: 0.9642362449205848, tolerance: 0.3107862359550556\n",
      "  model = cd_fast.enet_coordinate_descent_gram(\n",
      "C:\\Users\\Kian\\AppData\\Local\\Programs\\Python\\Python311\\Lib\\site-packages\\sklearn\\linear_model\\_coordinate_descent.py:614: ConvergenceWarning: Objective did not converge. You might want to increase the number of iterations. Duality gap: 0.3295586041228944, tolerance: 0.3107862359550556\n",
      "  model = cd_fast.enet_coordinate_descent_gram(\n",
      "C:\\Users\\Kian\\AppData\\Local\\Programs\\Python\\Python311\\Lib\\site-packages\\sklearn\\linear_model\\_coordinate_descent.py:614: ConvergenceWarning: Objective did not converge. You might want to increase the number of iterations. Duality gap: 0.4338200705744839, tolerance: 0.3107862359550556\n",
      "  model = cd_fast.enet_coordinate_descent_gram(\n",
      "C:\\Users\\Kian\\AppData\\Local\\Programs\\Python\\Python311\\Lib\\site-packages\\sklearn\\linear_model\\_coordinate_descent.py:614: ConvergenceWarning: Objective did not converge. You might want to increase the number of iterations. Duality gap: 0.4657883868724184, tolerance: 0.3107862359550556\n",
      "  model = cd_fast.enet_coordinate_descent_gram(\n",
      "C:\\Users\\Kian\\AppData\\Local\\Programs\\Python\\Python311\\Lib\\site-packages\\sklearn\\linear_model\\_coordinate_descent.py:614: ConvergenceWarning: Objective did not converge. You might want to increase the number of iterations. Duality gap: 0.5300336137379418, tolerance: 0.3107862359550556\n",
      "  model = cd_fast.enet_coordinate_descent_gram(\n",
      "C:\\Users\\Kian\\AppData\\Local\\Programs\\Python\\Python311\\Lib\\site-packages\\sklearn\\linear_model\\_coordinate_descent.py:614: ConvergenceWarning: Objective did not converge. You might want to increase the number of iterations. Duality gap: 0.7279494121692096, tolerance: 0.3107862359550556\n",
      "  model = cd_fast.enet_coordinate_descent_gram(\n",
      "C:\\Users\\Kian\\AppData\\Local\\Programs\\Python\\Python311\\Lib\\site-packages\\sklearn\\linear_model\\_coordinate_descent.py:614: ConvergenceWarning: Objective did not converge. You might want to increase the number of iterations. Duality gap: 0.3621187015041869, tolerance: 0.3107862359550556\n",
      "  model = cd_fast.enet_coordinate_descent_gram(\n",
      "C:\\Users\\Kian\\AppData\\Local\\Programs\\Python\\Python311\\Lib\\site-packages\\sklearn\\linear_model\\_coordinate_descent.py:614: ConvergenceWarning: Objective did not converge. You might want to increase the number of iterations. Duality gap: 0.38579764787937165, tolerance: 0.31088977139736285\n",
      "  model = cd_fast.enet_coordinate_descent_gram(\n",
      "C:\\Users\\Kian\\AppData\\Local\\Programs\\Python\\Python311\\Lib\\site-packages\\sklearn\\linear_model\\_coordinate_descent.py:614: ConvergenceWarning: Objective did not converge. You might want to increase the number of iterations. Duality gap: 0.6173364073538323, tolerance: 0.31088977139736285\n",
      "  model = cd_fast.enet_coordinate_descent_gram(\n",
      "C:\\Users\\Kian\\AppData\\Local\\Programs\\Python\\Python311\\Lib\\site-packages\\sklearn\\linear_model\\_coordinate_descent.py:614: ConvergenceWarning: Objective did not converge. You might want to increase the number of iterations. Duality gap: 0.33682402372460274, tolerance: 0.3107512678473905\n",
      "  model = cd_fast.enet_coordinate_descent_gram(\n",
      "C:\\Users\\Kian\\AppData\\Local\\Programs\\Python\\Python311\\Lib\\site-packages\\sklearn\\linear_model\\_coordinate_descent.py:614: ConvergenceWarning: Objective did not converge. You might want to increase the number of iterations. Duality gap: 0.33281039179905747, tolerance: 0.3107512678473905\n",
      "  model = cd_fast.enet_coordinate_descent_gram(\n",
      "C:\\Users\\Kian\\AppData\\Local\\Programs\\Python\\Python311\\Lib\\site-packages\\sklearn\\linear_model\\_coordinate_descent.py:614: ConvergenceWarning: Objective did not converge. You might want to increase the number of iterations. Duality gap: 0.3895019272586069, tolerance: 0.3107512678473905\n",
      "  model = cd_fast.enet_coordinate_descent_gram(\n",
      "C:\\Users\\Kian\\AppData\\Local\\Programs\\Python\\Python311\\Lib\\site-packages\\sklearn\\linear_model\\_coordinate_descent.py:614: ConvergenceWarning: Objective did not converge. You might want to increase the number of iterations. Duality gap: 0.4383129597865718, tolerance: 0.3100976983693532\n",
      "  model = cd_fast.enet_coordinate_descent_gram(\n",
      "C:\\Users\\Kian\\AppData\\Local\\Programs\\Python\\Python311\\Lib\\site-packages\\sklearn\\linear_model\\_coordinate_descent.py:628: ConvergenceWarning: Objective did not converge. You might want to increase the number of iterations, check the scale of the features or consider increasing regularisation. Duality gap: 3.873e+00, tolerance: 3.883e-01\n",
      "  model = cd_fast.enet_coordinate_descent(\n"
     ]
    },
    {
     "name": "stdout",
     "output_type": "stream",
     "text": [
      "\n",
      "            ts acc: 0.9434447300771208\n",
      "            ts f1: 0.9708994708994708 \n",
      "            ts sensitivity: 0.9434447300771208 \n",
      "            ts specificity: 1.0\n",
      "    \n",
      "### 32 subject compelete.\n",
      "        test group: ['sub-050']        \n",
      "    \n"
     ]
    },
    {
     "name": "stderr",
     "output_type": "stream",
     "text": [
      "C:\\Users\\Kian\\AppData\\Local\\Programs\\Python\\Python311\\Lib\\site-packages\\sklearn\\linear_model\\_coordinate_descent.py:614: ConvergenceWarning: Objective did not converge. You might want to increase the number of iterations. Duality gap: 0.3903397416427197, tolerance: 0.3102340259334479\n",
      "  model = cd_fast.enet_coordinate_descent_gram(\n",
      "C:\\Users\\Kian\\AppData\\Local\\Programs\\Python\\Python311\\Lib\\site-packages\\sklearn\\linear_model\\_coordinate_descent.py:614: ConvergenceWarning: Objective did not converge. You might want to increase the number of iterations. Duality gap: 0.592870312265859, tolerance: 0.3101989689111074\n",
      "  model = cd_fast.enet_coordinate_descent_gram(\n",
      "C:\\Users\\Kian\\AppData\\Local\\Programs\\Python\\Python311\\Lib\\site-packages\\sklearn\\linear_model\\_coordinate_descent.py:614: ConvergenceWarning: Objective did not converge. You might want to increase the number of iterations. Duality gap: 0.7893375686212494, tolerance: 0.3101989689111074\n",
      "  model = cd_fast.enet_coordinate_descent_gram(\n",
      "C:\\Users\\Kian\\AppData\\Local\\Programs\\Python\\Python311\\Lib\\site-packages\\sklearn\\linear_model\\_coordinate_descent.py:614: ConvergenceWarning: Objective did not converge. You might want to increase the number of iterations. Duality gap: 0.3595576361583426, tolerance: 0.3101989689111074\n",
      "  model = cd_fast.enet_coordinate_descent_gram(\n",
      "C:\\Users\\Kian\\AppData\\Local\\Programs\\Python\\Python311\\Lib\\site-packages\\sklearn\\linear_model\\_coordinate_descent.py:614: ConvergenceWarning: Objective did not converge. You might want to increase the number of iterations. Duality gap: 0.37092042652693635, tolerance: 0.3103558697180351\n",
      "  model = cd_fast.enet_coordinate_descent_gram(\n",
      "C:\\Users\\Kian\\AppData\\Local\\Programs\\Python\\Python311\\Lib\\site-packages\\sklearn\\linear_model\\_coordinate_descent.py:614: ConvergenceWarning: Objective did not converge. You might want to increase the number of iterations. Duality gap: 0.5371221738660097, tolerance: 0.3103558697180351\n",
      "  model = cd_fast.enet_coordinate_descent_gram(\n",
      "C:\\Users\\Kian\\AppData\\Local\\Programs\\Python\\Python311\\Lib\\site-packages\\sklearn\\linear_model\\_coordinate_descent.py:614: ConvergenceWarning: Objective did not converge. You might want to increase the number of iterations. Duality gap: 0.9515943447472637, tolerance: 0.3103558697180351\n",
      "  model = cd_fast.enet_coordinate_descent_gram(\n",
      "C:\\Users\\Kian\\AppData\\Local\\Programs\\Python\\Python311\\Lib\\site-packages\\sklearn\\linear_model\\_coordinate_descent.py:614: ConvergenceWarning: Objective did not converge. You might want to increase the number of iterations. Duality gap: 0.7357754015092723, tolerance: 0.3103558697180351\n",
      "  model = cd_fast.enet_coordinate_descent_gram(\n",
      "C:\\Users\\Kian\\AppData\\Local\\Programs\\Python\\Python311\\Lib\\site-packages\\sklearn\\linear_model\\_coordinate_descent.py:628: ConvergenceWarning: Objective did not converge. You might want to increase the number of iterations, check the scale of the features or consider increasing regularisation. Duality gap: 1.521e+01, tolerance: 3.877e-01\n",
      "  model = cd_fast.enet_coordinate_descent(\n"
     ]
    },
    {
     "name": "stdout",
     "output_type": "stream",
     "text": [
      "\n",
      "            ts acc: 0.5700245700245701\n",
      "            ts f1: 0.7261345852895149 \n",
      "            ts sensitivity: 0.5700245700245701 \n",
      "            ts specificity: 1.0\n",
      "    \n",
      "### 33 subject compelete.\n",
      "        test group: ['sub-051']        \n",
      "    \n"
     ]
    },
    {
     "name": "stderr",
     "output_type": "stream",
     "text": [
      "C:\\Users\\Kian\\AppData\\Local\\Programs\\Python\\Python311\\Lib\\site-packages\\sklearn\\linear_model\\_coordinate_descent.py:614: ConvergenceWarning: Objective did not converge. You might want to increase the number of iterations. Duality gap: 0.6316048205767402, tolerance: 0.3112159884627383\n",
      "  model = cd_fast.enet_coordinate_descent_gram(\n",
      "C:\\Users\\Kian\\AppData\\Local\\Programs\\Python\\Python311\\Lib\\site-packages\\sklearn\\linear_model\\_coordinate_descent.py:614: ConvergenceWarning: Objective did not converge. You might want to increase the number of iterations. Duality gap: 0.3716129953086238, tolerance: 0.3112159884627383\n",
      "  model = cd_fast.enet_coordinate_descent_gram(\n",
      "C:\\Users\\Kian\\AppData\\Local\\Programs\\Python\\Python311\\Lib\\site-packages\\sklearn\\linear_model\\_coordinate_descent.py:628: ConvergenceWarning: Objective did not converge. You might want to increase the number of iterations, check the scale of the features or consider increasing regularisation. Duality gap: 2.693e+01, tolerance: 3.888e-01\n",
      "  model = cd_fast.enet_coordinate_descent(\n"
     ]
    },
    {
     "name": "stdout",
     "output_type": "stream",
     "text": [
      "\n",
      "            ts acc: 0.424\n",
      "            ts f1: 0.5955056179775281 \n",
      "            ts sensitivity: 0.424 \n",
      "            ts specificity: 1.0\n",
      "    \n",
      "### 34 subject compelete.\n",
      "        test group: ['sub-052']        \n",
      "    \n"
     ]
    },
    {
     "name": "stderr",
     "output_type": "stream",
     "text": [
      "C:\\Users\\Kian\\AppData\\Local\\Programs\\Python\\Python311\\Lib\\site-packages\\sklearn\\linear_model\\_coordinate_descent.py:614: ConvergenceWarning: Objective did not converge. You might want to increase the number of iterations. Duality gap: 0.35345776267877227, tolerance: 0.3111129512670562\n",
      "  model = cd_fast.enet_coordinate_descent_gram(\n",
      "C:\\Users\\Kian\\AppData\\Local\\Programs\\Python\\Python311\\Lib\\site-packages\\sklearn\\linear_model\\_coordinate_descent.py:614: ConvergenceWarning: Objective did not converge. You might want to increase the number of iterations. Duality gap: 0.37840812272497715, tolerance: 0.3111129512670562\n",
      "  model = cd_fast.enet_coordinate_descent_gram(\n",
      "C:\\Users\\Kian\\AppData\\Local\\Programs\\Python\\Python311\\Lib\\site-packages\\sklearn\\linear_model\\_coordinate_descent.py:614: ConvergenceWarning: Objective did not converge. You might want to increase the number of iterations. Duality gap: 0.45659494218034524, tolerance: 0.310992\n",
      "  model = cd_fast.enet_coordinate_descent_gram(\n",
      "C:\\Users\\Kian\\AppData\\Local\\Programs\\Python\\Python311\\Lib\\site-packages\\sklearn\\linear_model\\_coordinate_descent.py:614: ConvergenceWarning: Objective did not converge. You might want to increase the number of iterations. Duality gap: 0.40461050802082354, tolerance: 0.3111129512670562\n",
      "  model = cd_fast.enet_coordinate_descent_gram(\n",
      "C:\\Users\\Kian\\AppData\\Local\\Programs\\Python\\Python311\\Lib\\site-packages\\sklearn\\linear_model\\_coordinate_descent.py:614: ConvergenceWarning: Objective did not converge. You might want to increase the number of iterations. Duality gap: 0.6969579005181004, tolerance: 0.31035789473684205\n",
      "  model = cd_fast.enet_coordinate_descent_gram(\n",
      "C:\\Users\\Kian\\AppData\\Local\\Programs\\Python\\Python311\\Lib\\site-packages\\sklearn\\linear_model\\_coordinate_descent.py:628: ConvergenceWarning: Objective did not converge. You might want to increase the number of iterations, check the scale of the features or consider increasing regularisation. Duality gap: 9.142e+00, tolerance: 3.887e-01\n",
      "  model = cd_fast.enet_coordinate_descent(\n"
     ]
    },
    {
     "name": "stdout",
     "output_type": "stream",
     "text": [
      "\n",
      "            ts acc: 0.5408970976253298\n",
      "            ts f1: 0.7020547945205479 \n",
      "            ts sensitivity: 0.5408970976253298 \n",
      "            ts specificity: 1.0\n",
      "    \n",
      "### 35 subject compelete.\n",
      "        test group: ['sub-053']        \n",
      "    \n"
     ]
    },
    {
     "name": "stderr",
     "output_type": "stream",
     "text": [
      "C:\\Users\\Kian\\AppData\\Local\\Programs\\Python\\Python311\\Lib\\site-packages\\sklearn\\linear_model\\_coordinate_descent.py:614: ConvergenceWarning: Objective did not converge. You might want to increase the number of iterations. Duality gap: 0.3253093928765338, tolerance: 0.31076863540610083\n",
      "  model = cd_fast.enet_coordinate_descent_gram(\n",
      "C:\\Users\\Kian\\AppData\\Local\\Programs\\Python\\Python311\\Lib\\site-packages\\sklearn\\linear_model\\_coordinate_descent.py:628: ConvergenceWarning: Objective did not converge. You might want to increase the number of iterations, check the scale of the features or consider increasing regularisation. Duality gap: 4.071e+00, tolerance: 3.883e-01\n",
      "  model = cd_fast.enet_coordinate_descent(\n"
     ]
    },
    {
     "name": "stdout",
     "output_type": "stream",
     "text": [
      "\n",
      "            ts acc: 0.8637532133676092\n",
      "            ts f1: 0.9268965517241379 \n",
      "            ts sensitivity: 0.8637532133676092 \n",
      "            ts specificity: 1.0\n",
      "    \n",
      "### 36 subject compelete.\n",
      "        test group: ['sub-054']        \n",
      "    \n"
     ]
    },
    {
     "name": "stderr",
     "output_type": "stream",
     "text": [
      "C:\\Users\\Kian\\AppData\\Local\\Programs\\Python\\Python311\\Lib\\site-packages\\sklearn\\linear_model\\_coordinate_descent.py:614: ConvergenceWarning: Objective did not converge. You might want to increase the number of iterations. Duality gap: 0.3118274909486445, tolerance: 0.3094578819851508\n",
      "  model = cd_fast.enet_coordinate_descent_gram(\n",
      "C:\\Users\\Kian\\AppData\\Local\\Programs\\Python\\Python311\\Lib\\site-packages\\sklearn\\linear_model\\_coordinate_descent.py:614: ConvergenceWarning: Objective did not converge. You might want to increase the number of iterations. Duality gap: 0.3334695685682618, tolerance: 0.3094578819851508\n",
      "  model = cd_fast.enet_coordinate_descent_gram(\n",
      "C:\\Users\\Kian\\AppData\\Local\\Programs\\Python\\Python311\\Lib\\site-packages\\sklearn\\linear_model\\_coordinate_descent.py:628: ConvergenceWarning: Objective did not converge. You might want to increase the number of iterations, check the scale of the features or consider increasing regularisation. Duality gap: 1.479e+01, tolerance: 3.874e-01\n",
      "  model = cd_fast.enet_coordinate_descent(\n"
     ]
    },
    {
     "name": "stdout",
     "output_type": "stream",
     "text": [
      "\n",
      "            ts acc: 0.8633093525179856\n",
      "            ts f1: 0.9266409266409266 \n",
      "            ts sensitivity: 0.8633093525179856 \n",
      "            ts specificity: 1.0\n",
      "    \n",
      "### 37 subject compelete.\n",
      "        test group: ['sub-055']        \n",
      "    \n"
     ]
    },
    {
     "name": "stderr",
     "output_type": "stream",
     "text": [
      "C:\\Users\\Kian\\AppData\\Local\\Programs\\Python\\Python311\\Lib\\site-packages\\sklearn\\linear_model\\_coordinate_descent.py:614: ConvergenceWarning: Objective did not converge. You might want to increase the number of iterations. Duality gap: 0.5816007984033149, tolerance: 0.3104947746621888\n",
      "  model = cd_fast.enet_coordinate_descent_gram(\n",
      "C:\\Users\\Kian\\AppData\\Local\\Programs\\Python\\Python311\\Lib\\site-packages\\sklearn\\linear_model\\_coordinate_descent.py:614: ConvergenceWarning: Objective did not converge. You might want to increase the number of iterations. Duality gap: 0.6368008616339011, tolerance: 0.3104947746621888\n",
      "  model = cd_fast.enet_coordinate_descent_gram(\n",
      "C:\\Users\\Kian\\AppData\\Local\\Programs\\Python\\Python311\\Lib\\site-packages\\sklearn\\linear_model\\_coordinate_descent.py:614: ConvergenceWarning: Objective did not converge. You might want to increase the number of iterations. Duality gap: 0.6093252095042772, tolerance: 0.3104947746621888\n",
      "  model = cd_fast.enet_coordinate_descent_gram(\n",
      "C:\\Users\\Kian\\AppData\\Local\\Programs\\Python\\Python311\\Lib\\site-packages\\sklearn\\linear_model\\_coordinate_descent.py:614: ConvergenceWarning: Objective did not converge. You might want to increase the number of iterations. Duality gap: 0.6102150911231092, tolerance: 0.3104947746621888\n",
      "  model = cd_fast.enet_coordinate_descent_gram(\n",
      "C:\\Users\\Kian\\AppData\\Local\\Programs\\Python\\Python311\\Lib\\site-packages\\sklearn\\linear_model\\_coordinate_descent.py:614: ConvergenceWarning: Objective did not converge. You might want to increase the number of iterations. Duality gap: 0.9720638470002996, tolerance: 0.3104947746621888\n",
      "  model = cd_fast.enet_coordinate_descent_gram(\n",
      "C:\\Users\\Kian\\AppData\\Local\\Programs\\Python\\Python311\\Lib\\site-packages\\sklearn\\linear_model\\_coordinate_descent.py:614: ConvergenceWarning: Objective did not converge. You might want to increase the number of iterations. Duality gap: 0.4908320162601285, tolerance: 0.3104947746621888\n",
      "  model = cd_fast.enet_coordinate_descent_gram(\n",
      "C:\\Users\\Kian\\AppData\\Local\\Programs\\Python\\Python311\\Lib\\site-packages\\sklearn\\linear_model\\_coordinate_descent.py:614: ConvergenceWarning: Objective did not converge. You might want to increase the number of iterations. Duality gap: 0.32538773748774474, tolerance: 0.3104947746621888\n",
      "  model = cd_fast.enet_coordinate_descent_gram(\n",
      "C:\\Users\\Kian\\AppData\\Local\\Programs\\Python\\Python311\\Lib\\site-packages\\sklearn\\linear_model\\_coordinate_descent.py:614: ConvergenceWarning: Objective did not converge. You might want to increase the number of iterations. Duality gap: 0.37000591804689975, tolerance: 0.3104947746621888\n",
      "  model = cd_fast.enet_coordinate_descent_gram(\n",
      "C:\\Users\\Kian\\AppData\\Local\\Programs\\Python\\Python311\\Lib\\site-packages\\sklearn\\linear_model\\_coordinate_descent.py:614: ConvergenceWarning: Objective did not converge. You might want to increase the number of iterations. Duality gap: 0.5574288547290962, tolerance: 0.3104947746621888\n",
      "  model = cd_fast.enet_coordinate_descent_gram(\n",
      "C:\\Users\\Kian\\AppData\\Local\\Programs\\Python\\Python311\\Lib\\site-packages\\sklearn\\linear_model\\_coordinate_descent.py:614: ConvergenceWarning: Objective did not converge. You might want to increase the number of iterations. Duality gap: 0.4214156064094823, tolerance: 0.31026854643443\n",
      "  model = cd_fast.enet_coordinate_descent_gram(\n",
      "C:\\Users\\Kian\\AppData\\Local\\Programs\\Python\\Python311\\Lib\\site-packages\\sklearn\\linear_model\\_coordinate_descent.py:614: ConvergenceWarning: Objective did not converge. You might want to increase the number of iterations. Duality gap: 0.6828126074135525, tolerance: 0.31026854643443\n",
      "  model = cd_fast.enet_coordinate_descent_gram(\n",
      "C:\\Users\\Kian\\AppData\\Local\\Programs\\Python\\Python311\\Lib\\site-packages\\sklearn\\linear_model\\_coordinate_descent.py:614: ConvergenceWarning: Objective did not converge. You might want to increase the number of iterations. Duality gap: 0.7065558875672195, tolerance: 0.31026854643443\n",
      "  model = cd_fast.enet_coordinate_descent_gram(\n",
      "C:\\Users\\Kian\\AppData\\Local\\Programs\\Python\\Python311\\Lib\\site-packages\\sklearn\\linear_model\\_coordinate_descent.py:614: ConvergenceWarning: Objective did not converge. You might want to increase the number of iterations. Duality gap: 0.6788760110107432, tolerance: 0.31026854643443\n",
      "  model = cd_fast.enet_coordinate_descent_gram(\n",
      "C:\\Users\\Kian\\AppData\\Local\\Programs\\Python\\Python311\\Lib\\site-packages\\sklearn\\linear_model\\_coordinate_descent.py:614: ConvergenceWarning: Objective did not converge. You might want to increase the number of iterations. Duality gap: 0.6383644219176858, tolerance: 0.31026854643443\n",
      "  model = cd_fast.enet_coordinate_descent_gram(\n",
      "C:\\Users\\Kian\\AppData\\Local\\Programs\\Python\\Python311\\Lib\\site-packages\\sklearn\\linear_model\\_coordinate_descent.py:614: ConvergenceWarning: Objective did not converge. You might want to increase the number of iterations. Duality gap: 0.8476099961146701, tolerance: 0.31026854643443\n",
      "  model = cd_fast.enet_coordinate_descent_gram(\n",
      "C:\\Users\\Kian\\AppData\\Local\\Programs\\Python\\Python311\\Lib\\site-packages\\sklearn\\linear_model\\_coordinate_descent.py:614: ConvergenceWarning: Objective did not converge. You might want to increase the number of iterations. Duality gap: 0.6014683356345358, tolerance: 0.31026854643443\n",
      "  model = cd_fast.enet_coordinate_descent_gram(\n",
      "C:\\Users\\Kian\\AppData\\Local\\Programs\\Python\\Python311\\Lib\\site-packages\\sklearn\\linear_model\\_coordinate_descent.py:614: ConvergenceWarning: Objective did not converge. You might want to increase the number of iterations. Duality gap: 0.4210396074640812, tolerance: 0.31026854643443\n",
      "  model = cd_fast.enet_coordinate_descent_gram(\n",
      "C:\\Users\\Kian\\AppData\\Local\\Programs\\Python\\Python311\\Lib\\site-packages\\sklearn\\linear_model\\_coordinate_descent.py:614: ConvergenceWarning: Objective did not converge. You might want to increase the number of iterations. Duality gap: 0.38340414581603, tolerance: 0.3101456377411542\n",
      "  model = cd_fast.enet_coordinate_descent_gram(\n",
      "C:\\Users\\Kian\\AppData\\Local\\Programs\\Python\\Python311\\Lib\\site-packages\\sklearn\\linear_model\\_coordinate_descent.py:614: ConvergenceWarning: Objective did not converge. You might want to increase the number of iterations. Duality gap: 0.4781172264492852, tolerance: 0.3101456377411542\n",
      "  model = cd_fast.enet_coordinate_descent_gram(\n",
      "C:\\Users\\Kian\\AppData\\Local\\Programs\\Python\\Python311\\Lib\\site-packages\\sklearn\\linear_model\\_coordinate_descent.py:614: ConvergenceWarning: Objective did not converge. You might want to increase the number of iterations. Duality gap: 0.5178928077509681, tolerance: 0.3101456377411542\n",
      "  model = cd_fast.enet_coordinate_descent_gram(\n",
      "C:\\Users\\Kian\\AppData\\Local\\Programs\\Python\\Python311\\Lib\\site-packages\\sklearn\\linear_model\\_coordinate_descent.py:614: ConvergenceWarning: Objective did not converge. You might want to increase the number of iterations. Duality gap: 0.5861829996397319, tolerance: 0.3101456377411542\n",
      "  model = cd_fast.enet_coordinate_descent_gram(\n",
      "C:\\Users\\Kian\\AppData\\Local\\Programs\\Python\\Python311\\Lib\\site-packages\\sklearn\\linear_model\\_coordinate_descent.py:614: ConvergenceWarning: Objective did not converge. You might want to increase the number of iterations. Duality gap: 0.5841829665748719, tolerance: 0.3101456377411542\n",
      "  model = cd_fast.enet_coordinate_descent_gram(\n",
      "C:\\Users\\Kian\\AppData\\Local\\Programs\\Python\\Python311\\Lib\\site-packages\\sklearn\\linear_model\\_coordinate_descent.py:614: ConvergenceWarning: Objective did not converge. You might want to increase the number of iterations. Duality gap: 1.0261787094441388, tolerance: 0.3101456377411542\n",
      "  model = cd_fast.enet_coordinate_descent_gram(\n",
      "C:\\Users\\Kian\\AppData\\Local\\Programs\\Python\\Python311\\Lib\\site-packages\\sklearn\\linear_model\\_coordinate_descent.py:614: ConvergenceWarning: Objective did not converge. You might want to increase the number of iterations. Duality gap: 1.08921375607747, tolerance: 0.3101456377411542\n",
      "  model = cd_fast.enet_coordinate_descent_gram(\n",
      "C:\\Users\\Kian\\AppData\\Local\\Programs\\Python\\Python311\\Lib\\site-packages\\sklearn\\linear_model\\_coordinate_descent.py:614: ConvergenceWarning: Objective did not converge. You might want to increase the number of iterations. Duality gap: 0.5173734219094968, tolerance: 0.31042544716082215\n",
      "  model = cd_fast.enet_coordinate_descent_gram(\n",
      "C:\\Users\\Kian\\AppData\\Local\\Programs\\Python\\Python311\\Lib\\site-packages\\sklearn\\linear_model\\_coordinate_descent.py:614: ConvergenceWarning: Objective did not converge. You might want to increase the number of iterations. Duality gap: 0.5385632295030973, tolerance: 0.31042544716082215\n",
      "  model = cd_fast.enet_coordinate_descent_gram(\n",
      "C:\\Users\\Kian\\AppData\\Local\\Programs\\Python\\Python311\\Lib\\site-packages\\sklearn\\linear_model\\_coordinate_descent.py:614: ConvergenceWarning: Objective did not converge. You might want to increase the number of iterations. Duality gap: 0.5403826128308538, tolerance: 0.31042544716082215\n",
      "  model = cd_fast.enet_coordinate_descent_gram(\n",
      "C:\\Users\\Kian\\AppData\\Local\\Programs\\Python\\Python311\\Lib\\site-packages\\sklearn\\linear_model\\_coordinate_descent.py:614: ConvergenceWarning: Objective did not converge. You might want to increase the number of iterations. Duality gap: 0.5348327656597576, tolerance: 0.31042544716082215\n",
      "  model = cd_fast.enet_coordinate_descent_gram(\n",
      "C:\\Users\\Kian\\AppData\\Local\\Programs\\Python\\Python311\\Lib\\site-packages\\sklearn\\linear_model\\_coordinate_descent.py:614: ConvergenceWarning: Objective did not converge. You might want to increase the number of iterations. Duality gap: 0.5266233876136539, tolerance: 0.31042544716082215\n",
      "  model = cd_fast.enet_coordinate_descent_gram(\n",
      "C:\\Users\\Kian\\AppData\\Local\\Programs\\Python\\Python311\\Lib\\site-packages\\sklearn\\linear_model\\_coordinate_descent.py:614: ConvergenceWarning: Objective did not converge. You might want to increase the number of iterations. Duality gap: 0.6672078606643481, tolerance: 0.31042544716082215\n",
      "  model = cd_fast.enet_coordinate_descent_gram(\n",
      "C:\\Users\\Kian\\AppData\\Local\\Programs\\Python\\Python311\\Lib\\site-packages\\sklearn\\linear_model\\_coordinate_descent.py:614: ConvergenceWarning: Objective did not converge. You might want to increase the number of iterations. Duality gap: 0.7793649844159063, tolerance: 0.31042544716082215\n",
      "  model = cd_fast.enet_coordinate_descent_gram(\n",
      "C:\\Users\\Kian\\AppData\\Local\\Programs\\Python\\Python311\\Lib\\site-packages\\sklearn\\linear_model\\_coordinate_descent.py:614: ConvergenceWarning: Objective did not converge. You might want to increase the number of iterations. Duality gap: 0.5380173352887141, tolerance: 0.31042544716082215\n",
      "  model = cd_fast.enet_coordinate_descent_gram(\n",
      "C:\\Users\\Kian\\AppData\\Local\\Programs\\Python\\Python311\\Lib\\site-packages\\sklearn\\linear_model\\_coordinate_descent.py:614: ConvergenceWarning: Objective did not converge. You might want to increase the number of iterations. Duality gap: 0.4871154926727286, tolerance: 0.3096450718525457\n",
      "  model = cd_fast.enet_coordinate_descent_gram(\n",
      "C:\\Users\\Kian\\AppData\\Local\\Programs\\Python\\Python311\\Lib\\site-packages\\sklearn\\linear_model\\_coordinate_descent.py:614: ConvergenceWarning: Objective did not converge. You might want to increase the number of iterations. Duality gap: 0.5177476449587175, tolerance: 0.3096450718525457\n",
      "  model = cd_fast.enet_coordinate_descent_gram(\n",
      "C:\\Users\\Kian\\AppData\\Local\\Programs\\Python\\Python311\\Lib\\site-packages\\sklearn\\linear_model\\_coordinate_descent.py:614: ConvergenceWarning: Objective did not converge. You might want to increase the number of iterations. Duality gap: 0.5397764178012494, tolerance: 0.3096450718525457\n",
      "  model = cd_fast.enet_coordinate_descent_gram(\n",
      "C:\\Users\\Kian\\AppData\\Local\\Programs\\Python\\Python311\\Lib\\site-packages\\sklearn\\linear_model\\_coordinate_descent.py:614: ConvergenceWarning: Objective did not converge. You might want to increase the number of iterations. Duality gap: 0.5396868530735901, tolerance: 0.3096450718525457\n",
      "  model = cd_fast.enet_coordinate_descent_gram(\n",
      "C:\\Users\\Kian\\AppData\\Local\\Programs\\Python\\Python311\\Lib\\site-packages\\sklearn\\linear_model\\_coordinate_descent.py:614: ConvergenceWarning: Objective did not converge. You might want to increase the number of iterations. Duality gap: 0.543623224006069, tolerance: 0.3096450718525457\n",
      "  model = cd_fast.enet_coordinate_descent_gram(\n",
      "C:\\Users\\Kian\\AppData\\Local\\Programs\\Python\\Python311\\Lib\\site-packages\\sklearn\\linear_model\\_coordinate_descent.py:614: ConvergenceWarning: Objective did not converge. You might want to increase the number of iterations. Duality gap: 0.5374276898869539, tolerance: 0.3096450718525457\n",
      "  model = cd_fast.enet_coordinate_descent_gram(\n",
      "C:\\Users\\Kian\\AppData\\Local\\Programs\\Python\\Python311\\Lib\\site-packages\\sklearn\\linear_model\\_coordinate_descent.py:614: ConvergenceWarning: Objective did not converge. You might want to increase the number of iterations. Duality gap: 1.0777557198944123, tolerance: 0.3096450718525457\n",
      "  model = cd_fast.enet_coordinate_descent_gram(\n",
      "C:\\Users\\Kian\\AppData\\Local\\Programs\\Python\\Python311\\Lib\\site-packages\\sklearn\\linear_model\\_coordinate_descent.py:628: ConvergenceWarning: Objective did not converge. You might want to increase the number of iterations, check the scale of the features or consider increasing regularisation. Duality gap: 3.209e+00, tolerance: 3.877e-01\n",
      "  model = cd_fast.enet_coordinate_descent(\n"
     ]
    },
    {
     "name": "stdout",
     "output_type": "stream",
     "text": [
      "\n",
      "            ts acc: 0.7463054187192119\n",
      "            ts f1: 0.8547249647390692 \n",
      "            ts sensitivity: 0.7463054187192119 \n",
      "            ts specificity: 1.0\n",
      "    \n",
      "### 38 subject compelete.\n",
      "        test group: ['sub-057']        \n",
      "    \n"
     ]
    },
    {
     "name": "stderr",
     "output_type": "stream",
     "text": [
      "C:\\Users\\Kian\\AppData\\Local\\Programs\\Python\\Python311\\Lib\\site-packages\\sklearn\\linear_model\\_coordinate_descent.py:614: ConvergenceWarning: Objective did not converge. You might want to increase the number of iterations. Duality gap: 0.34649555731789405, tolerance: 0.3106490554254487\n",
      "  model = cd_fast.enet_coordinate_descent_gram(\n",
      "C:\\Users\\Kian\\AppData\\Local\\Programs\\Python\\Python311\\Lib\\site-packages\\sklearn\\linear_model\\_coordinate_descent.py:614: ConvergenceWarning: Objective did not converge. You might want to increase the number of iterations. Duality gap: 0.4291188136930941, tolerance: 0.3106490554254487\n",
      "  model = cd_fast.enet_coordinate_descent_gram(\n",
      "C:\\Users\\Kian\\AppData\\Local\\Programs\\Python\\Python311\\Lib\\site-packages\\sklearn\\linear_model\\_coordinate_descent.py:614: ConvergenceWarning: Objective did not converge. You might want to increase the number of iterations. Duality gap: 0.49694304978061155, tolerance: 0.3106490554254487\n",
      "  model = cd_fast.enet_coordinate_descent_gram(\n",
      "C:\\Users\\Kian\\AppData\\Local\\Programs\\Python\\Python311\\Lib\\site-packages\\sklearn\\linear_model\\_coordinate_descent.py:614: ConvergenceWarning: Objective did not converge. You might want to increase the number of iterations. Duality gap: 0.6913740980342027, tolerance: 0.3106490554254487\n",
      "  model = cd_fast.enet_coordinate_descent_gram(\n",
      "C:\\Users\\Kian\\AppData\\Local\\Programs\\Python\\Python311\\Lib\\site-packages\\sklearn\\linear_model\\_coordinate_descent.py:614: ConvergenceWarning: Objective did not converge. You might want to increase the number of iterations. Duality gap: 0.8805638931778503, tolerance: 0.3106490554254487\n",
      "  model = cd_fast.enet_coordinate_descent_gram(\n",
      "C:\\Users\\Kian\\AppData\\Local\\Programs\\Python\\Python311\\Lib\\site-packages\\sklearn\\linear_model\\_coordinate_descent.py:614: ConvergenceWarning: Objective did not converge. You might want to increase the number of iterations. Duality gap: 0.801309751521103, tolerance: 0.3106490554254487\n",
      "  model = cd_fast.enet_coordinate_descent_gram(\n",
      "C:\\Users\\Kian\\AppData\\Local\\Programs\\Python\\Python311\\Lib\\site-packages\\sklearn\\linear_model\\_coordinate_descent.py:614: ConvergenceWarning: Objective did not converge. You might want to increase the number of iterations. Duality gap: 0.7461148558647892, tolerance: 0.3106490554254487\n",
      "  model = cd_fast.enet_coordinate_descent_gram(\n",
      "C:\\Users\\Kian\\AppData\\Local\\Programs\\Python\\Python311\\Lib\\site-packages\\sklearn\\linear_model\\_coordinate_descent.py:614: ConvergenceWarning: Objective did not converge. You might want to increase the number of iterations. Duality gap: 0.7888723323492286, tolerance: 0.3106490554254487\n",
      "  model = cd_fast.enet_coordinate_descent_gram(\n",
      "C:\\Users\\Kian\\AppData\\Local\\Programs\\Python\\Python311\\Lib\\site-packages\\sklearn\\linear_model\\_coordinate_descent.py:614: ConvergenceWarning: Objective did not converge. You might want to increase the number of iterations. Duality gap: 0.8992740356434297, tolerance: 0.3106490554254487\n",
      "  model = cd_fast.enet_coordinate_descent_gram(\n",
      "C:\\Users\\Kian\\AppData\\Local\\Programs\\Python\\Python311\\Lib\\site-packages\\sklearn\\linear_model\\_coordinate_descent.py:614: ConvergenceWarning: Objective did not converge. You might want to increase the number of iterations. Duality gap: 0.3769939044500461, tolerance: 0.3104576502732243\n",
      "  model = cd_fast.enet_coordinate_descent_gram(\n",
      "C:\\Users\\Kian\\AppData\\Local\\Programs\\Python\\Python311\\Lib\\site-packages\\sklearn\\linear_model\\_coordinate_descent.py:614: ConvergenceWarning: Objective did not converge. You might want to increase the number of iterations. Duality gap: 0.4018982970767411, tolerance: 0.3104576502732243\n",
      "  model = cd_fast.enet_coordinate_descent_gram(\n",
      "C:\\Users\\Kian\\AppData\\Local\\Programs\\Python\\Python311\\Lib\\site-packages\\sklearn\\linear_model\\_coordinate_descent.py:614: ConvergenceWarning: Objective did not converge. You might want to increase the number of iterations. Duality gap: 0.354348849472899, tolerance: 0.3104576502732243\n",
      "  model = cd_fast.enet_coordinate_descent_gram(\n",
      "C:\\Users\\Kian\\AppData\\Local\\Programs\\Python\\Python311\\Lib\\site-packages\\sklearn\\linear_model\\_coordinate_descent.py:614: ConvergenceWarning: Objective did not converge. You might want to increase the number of iterations. Duality gap: 0.372731919759417, tolerance: 0.3104576502732243\n",
      "  model = cd_fast.enet_coordinate_descent_gram(\n",
      "C:\\Users\\Kian\\AppData\\Local\\Programs\\Python\\Python311\\Lib\\site-packages\\sklearn\\linear_model\\_coordinate_descent.py:614: ConvergenceWarning: Objective did not converge. You might want to increase the number of iterations. Duality gap: 0.6440826111993374, tolerance: 0.3104576502732243\n",
      "  model = cd_fast.enet_coordinate_descent_gram(\n",
      "C:\\Users\\Kian\\AppData\\Local\\Programs\\Python\\Python311\\Lib\\site-packages\\sklearn\\linear_model\\_coordinate_descent.py:614: ConvergenceWarning: Objective did not converge. You might want to increase the number of iterations. Duality gap: 0.3939571538051041, tolerance: 0.3104576502732243\n",
      "  model = cd_fast.enet_coordinate_descent_gram(\n",
      "C:\\Users\\Kian\\AppData\\Local\\Programs\\Python\\Python311\\Lib\\site-packages\\sklearn\\linear_model\\_coordinate_descent.py:614: ConvergenceWarning: Objective did not converge. You might want to increase the number of iterations. Duality gap: 0.4699148254587726, tolerance: 0.3104576502732243\n",
      "  model = cd_fast.enet_coordinate_descent_gram(\n",
      "C:\\Users\\Kian\\AppData\\Local\\Programs\\Python\\Python311\\Lib\\site-packages\\sklearn\\linear_model\\_coordinate_descent.py:628: ConvergenceWarning: Objective did not converge. You might want to increase the number of iterations, check the scale of the features or consider increasing regularisation. Duality gap: 7.030e+00, tolerance: 3.881e-01\n",
      "  model = cd_fast.enet_coordinate_descent(\n"
     ]
    },
    {
     "name": "stdout",
     "output_type": "stream",
     "text": [
      "\n",
      "            ts acc: 0.947103274559194\n",
      "            ts f1: 0.9728331177231566 \n",
      "            ts sensitivity: 0.947103274559194 \n",
      "            ts specificity: 1.0\n",
      "    \n",
      "### 39 subject compelete.\n",
      "        test group: ['sub-062']        \n",
      "    \n"
     ]
    },
    {
     "name": "stderr",
     "output_type": "stream",
     "text": [
      "C:\\Users\\Kian\\AppData\\Local\\Programs\\Python\\Python311\\Lib\\site-packages\\sklearn\\linear_model\\_coordinate_descent.py:628: ConvergenceWarning: Objective did not converge. You might want to increase the number of iterations, check the scale of the features or consider increasing regularisation. Duality gap: 6.608e+00, tolerance: 3.863e-01\n",
      "  model = cd_fast.enet_coordinate_descent(\n"
     ]
    },
    {
     "name": "stdout",
     "output_type": "stream",
     "text": [
      "\n",
      "            ts acc: 0.9419642857142857\n",
      "            ts f1: 0.9701149425287356 \n",
      "            ts sensitivity: 0.9419642857142857 \n",
      "            ts specificity: 1.0\n",
      "    \n",
      "### 40 subject compelete.\n",
      "        test group: ['sub-063']        \n",
      "    \n"
     ]
    },
    {
     "name": "stderr",
     "output_type": "stream",
     "text": [
      "C:\\Users\\Kian\\AppData\\Local\\Programs\\Python\\Python311\\Lib\\site-packages\\sklearn\\linear_model\\_coordinate_descent.py:614: ConvergenceWarning: Objective did not converge. You might want to increase the number of iterations. Duality gap: 0.44686422709332874, tolerance: 0.3106150542671977\n",
      "  model = cd_fast.enet_coordinate_descent_gram(\n",
      "C:\\Users\\Kian\\AppData\\Local\\Programs\\Python\\Python311\\Lib\\site-packages\\sklearn\\linear_model\\_coordinate_descent.py:614: ConvergenceWarning: Objective did not converge. You might want to increase the number of iterations. Duality gap: 0.8317928091846625, tolerance: 0.3106150542671977\n",
      "  model = cd_fast.enet_coordinate_descent_gram(\n",
      "C:\\Users\\Kian\\AppData\\Local\\Programs\\Python\\Python311\\Lib\\site-packages\\sklearn\\linear_model\\_coordinate_descent.py:614: ConvergenceWarning: Objective did not converge. You might want to increase the number of iterations. Duality gap: 0.31151828144402316, tolerance: 0.31052846099789133\n",
      "  model = cd_fast.enet_coordinate_descent_gram(\n",
      "C:\\Users\\Kian\\AppData\\Local\\Programs\\Python\\Python311\\Lib\\site-packages\\sklearn\\linear_model\\_coordinate_descent.py:614: ConvergenceWarning: Objective did not converge. You might want to increase the number of iterations. Duality gap: 0.4084576624950387, tolerance: 0.31052846099789133\n",
      "  model = cd_fast.enet_coordinate_descent_gram(\n",
      "C:\\Users\\Kian\\AppData\\Local\\Programs\\Python\\Python311\\Lib\\site-packages\\sklearn\\linear_model\\_coordinate_descent.py:614: ConvergenceWarning: Objective did not converge. You might want to increase the number of iterations. Duality gap: 0.9575643889397725, tolerance: 0.31052846099789133\n",
      "  model = cd_fast.enet_coordinate_descent_gram(\n",
      "C:\\Users\\Kian\\AppData\\Local\\Programs\\Python\\Python311\\Lib\\site-packages\\sklearn\\linear_model\\_coordinate_descent.py:614: ConvergenceWarning: Objective did not converge. You might want to increase the number of iterations. Duality gap: 0.3510390577457656, tolerance: 0.3101958460217069\n",
      "  model = cd_fast.enet_coordinate_descent_gram(\n",
      "C:\\Users\\Kian\\AppData\\Local\\Programs\\Python\\Python311\\Lib\\site-packages\\sklearn\\linear_model\\_coordinate_descent.py:614: ConvergenceWarning: Objective did not converge. You might want to increase the number of iterations. Duality gap: 0.47496375626587906, tolerance: 0.3101958460217069\n",
      "  model = cd_fast.enet_coordinate_descent_gram(\n",
      "C:\\Users\\Kian\\AppData\\Local\\Programs\\Python\\Python311\\Lib\\site-packages\\sklearn\\linear_model\\_coordinate_descent.py:614: ConvergenceWarning: Objective did not converge. You might want to increase the number of iterations. Duality gap: 0.5500077681433595, tolerance: 0.3101958460217069\n",
      "  model = cd_fast.enet_coordinate_descent_gram(\n",
      "C:\\Users\\Kian\\AppData\\Local\\Programs\\Python\\Python311\\Lib\\site-packages\\sklearn\\linear_model\\_coordinate_descent.py:614: ConvergenceWarning: Objective did not converge. You might want to increase the number of iterations. Duality gap: 0.5509663409161476, tolerance: 0.3101958460217069\n",
      "  model = cd_fast.enet_coordinate_descent_gram(\n",
      "C:\\Users\\Kian\\AppData\\Local\\Programs\\Python\\Python311\\Lib\\site-packages\\sklearn\\linear_model\\_coordinate_descent.py:614: ConvergenceWarning: Objective did not converge. You might want to increase the number of iterations. Duality gap: 0.5447350103056579, tolerance: 0.3101958460217069\n",
      "  model = cd_fast.enet_coordinate_descent_gram(\n",
      "C:\\Users\\Kian\\AppData\\Local\\Programs\\Python\\Python311\\Lib\\site-packages\\sklearn\\linear_model\\_coordinate_descent.py:614: ConvergenceWarning: Objective did not converge. You might want to increase the number of iterations. Duality gap: 0.32536650318161264, tolerance: 0.3105804638088546\n",
      "  model = cd_fast.enet_coordinate_descent_gram(\n",
      "C:\\Users\\Kian\\AppData\\Local\\Programs\\Python\\Python311\\Lib\\site-packages\\sklearn\\linear_model\\_coordinate_descent.py:614: ConvergenceWarning: Objective did not converge. You might want to increase the number of iterations. Duality gap: 0.6426688846017896, tolerance: 0.3105804638088546\n",
      "  model = cd_fast.enet_coordinate_descent_gram(\n",
      "C:\\Users\\Kian\\AppData\\Local\\Programs\\Python\\Python311\\Lib\\site-packages\\sklearn\\linear_model\\_coordinate_descent.py:614: ConvergenceWarning: Objective did not converge. You might want to increase the number of iterations. Duality gap: 0.7230176684124672, tolerance: 0.3105804638088546\n",
      "  model = cd_fast.enet_coordinate_descent_gram(\n",
      "C:\\Users\\Kian\\AppData\\Local\\Programs\\Python\\Python311\\Lib\\site-packages\\sklearn\\linear_model\\_coordinate_descent.py:614: ConvergenceWarning: Objective did not converge. You might want to increase the number of iterations. Duality gap: 0.7668593493242497, tolerance: 0.3105804638088546\n",
      "  model = cd_fast.enet_coordinate_descent_gram(\n",
      "C:\\Users\\Kian\\AppData\\Local\\Programs\\Python\\Python311\\Lib\\site-packages\\sklearn\\linear_model\\_coordinate_descent.py:614: ConvergenceWarning: Objective did not converge. You might want to increase the number of iterations. Duality gap: 0.8517612144355553, tolerance: 0.3105804638088546\n",
      "  model = cd_fast.enet_coordinate_descent_gram(\n",
      "C:\\Users\\Kian\\AppData\\Local\\Programs\\Python\\Python311\\Lib\\site-packages\\sklearn\\linear_model\\_coordinate_descent.py:614: ConvergenceWarning: Objective did not converge. You might want to increase the number of iterations. Duality gap: 0.8569226594829615, tolerance: 0.3105804638088546\n",
      "  model = cd_fast.enet_coordinate_descent_gram(\n",
      "C:\\Users\\Kian\\AppData\\Local\\Programs\\Python\\Python311\\Lib\\site-packages\\sklearn\\linear_model\\_coordinate_descent.py:628: ConvergenceWarning: Objective did not converge. You might want to increase the number of iterations, check the scale of the features or consider increasing regularisation. Duality gap: 5.275e+01, tolerance: 3.879e-01\n",
      "  model = cd_fast.enet_coordinate_descent(\n"
     ]
    },
    {
     "name": "stdout",
     "output_type": "stream",
     "text": [
      "\n",
      "            ts acc: 0.4014962593516209\n",
      "            ts f1: 0.5729537366548042 \n",
      "            ts sensitivity: 0.4014962593516209 \n",
      "            ts specificity: 1.0\n",
      "    \n",
      "CPU times: total: 1h 5min 53s\n",
      "Wall time: 55min 44s\n"
     ]
    }
   ],
   "source": [
    "%%time\n",
    "\n",
    "loso = LeaveOneGroupOut()\n",
    "feature_selection = True\n",
    "use_feature_scaler = False\n",
    "lasso_cv = LassoCV()\n",
    "\n",
    "result = {\n",
    "    \"tr_label\": [],\n",
    "    \"ts_label\": [],\n",
    "    \n",
    "    \"tr_predict\": [],\n",
    "    \"ts_predict\": [],\n",
    "    \n",
    "    \"loso_tr_label\": [],\n",
    "    \"loso_ts_label\": [],\n",
    "    \n",
    "    \"loso_tr_predict\": [],\n",
    "    \"loso_ts_predict\": [],\n",
    "    \n",
    "    \"loso_tr_accuracy\": [],\n",
    "    \"loso_ts_accuracy\": [],\n",
    "    \n",
    "    \"loso_tr_f1\": [],\n",
    "    \"loso_ts_f1\": [],\n",
    "    \n",
    "    \"loso_tr_sensitivity\": [],\n",
    "    \"loso_ts_sensitivity\": [],\n",
    "    \n",
    "    \"loso_tr_specificity\": [],\n",
    "    \"loso_ts_specificity\": []\n",
    "}\n",
    "\n",
    "\n",
    "for i, (tr_idx, ts_idx) in enumerate(loso.split(X=features, y=labels, groups=groups)):\n",
    "\n",
    "    print(f\"\"\"### {i} subject compelete.\n",
    "        test group: {np.unique(groups[ts_idx])}        \n",
    "    \"\"\")\n",
    "    \n",
    "    clf = RandomForestClassifier()\n",
    "    # clf = SVC()\n",
    "    # clf = lda()\n",
    "    \n",
    "    tr_data, tr_label = features[tr_idx], labels[tr_idx]\n",
    "    ts_data, ts_label = features[ts_idx], labels[ts_idx]\n",
    "\n",
    "    if use_feature_scaler:\n",
    "        scaler = StandardScaler()\n",
    "        tr_data = scaler.fit_transform(tr_data)\n",
    "        ts_data = scaler.transform(ts_data)\n",
    "    \n",
    "    if feature_selection:\n",
    "        sfm = SelectFromModel(lasso_cv)\n",
    "        tr_data = sfm.fit_transform(tr_data, tr_label)\n",
    "        ts_data = sfm.transform(ts_data)\n",
    "\n",
    "    clf.fit(tr_data, tr_label)\n",
    "\n",
    "    result[\"tr_label\"].extend(tr_label.tolist())\n",
    "    result[\"ts_label\"].extend(ts_label.tolist())\n",
    "    \n",
    "    result[\"tr_predict\"].extend(clf.predict(tr_data).tolist())\n",
    "    result[\"ts_predict\"].extend(clf.predict(ts_data).tolist())\n",
    "    \n",
    "    result[\"loso_tr_label\"].append(tr_label)\n",
    "    result[\"loso_ts_label\"].append(ts_label)\n",
    "    \n",
    "    result[\"loso_tr_predict\"].append(clf.predict(tr_data))\n",
    "    result[\"loso_ts_predict\"].append(clf.predict(ts_data))\n",
    "    \n",
    "    result[\"loso_tr_accuracy\"].append(accuracy_score(tr_label, clf.predict(tr_data)))\n",
    "    result[\"loso_ts_accuracy\"].append(accuracy_score(ts_label, clf.predict(ts_data)))\n",
    "\n",
    "    result[\"loso_tr_f1\"].append(f1_score(tr_label, clf.predict(tr_data)))\n",
    "    result[\"loso_ts_f1\"].append(f1_score(ts_label, clf.predict(ts_data)))\n",
    "    \n",
    "    result[\"loso_tr_sensitivity\"].append(recall_score(tr_label, clf.predict(tr_data)))\n",
    "    result[\"loso_ts_sensitivity\"].append(recall_score(ts_label, clf.predict(ts_data)))\n",
    "    \n",
    "    result[\"loso_tr_specificity\"].append(precision_score(tr_label, clf.predict(tr_data)))\n",
    "    result[\"loso_ts_specificity\"].append(precision_score(ts_label, clf.predict(ts_data)))\n",
    "\n",
    "    print(f\"\"\"\n",
    "            ts acc: {result[\"loso_ts_accuracy\"][-1]}\n",
    "            ts f1: {result[\"loso_ts_f1\"][-1]} \n",
    "            ts sensitivity: {result[\"loso_ts_sensitivity\"][-1]} \n",
    "            ts specificity: {result[\"loso_ts_specificity\"][-1]}\n",
    "    \"\"\")\n",
    "    \n",
    "    # break"
   ]
  },
  {
   "cell_type": "code",
   "execution_count": 47,
   "id": "16880ec9-20b0-4128-ab68-236ab0414054",
   "metadata": {},
   "outputs": [
    {
     "name": "stdout",
     "output_type": "stream",
     "text": [
      "\n",
      "clf: RandomForestClassifier()\n",
      "feature selection: True\n",
      "feature selection model: LassoCV()\n",
      "feature scaler: False\n",
      "ts acc average on loso: 0.7836652730451434\n",
      "ts acc: 0.7895795246800731 \n",
      "ts f1: 0.7415999401332036 \n",
      "ts sensitivity: 0.7076549557269352 \n",
      "ts specificity: 0.7789655714510297\n",
      "\n"
     ]
    }
   ],
   "source": [
    "print(f\"\"\"\n",
    "clf: {clf}\n",
    "feature selection: {feature_selection}\n",
    "feature selection model: {lasso_cv}\n",
    "feature scaler: {use_feature_scaler}\n",
    "ts acc average on loso: {np.mean(result[\"loso_ts_accuracy\"])}\n",
    "ts acc: {accuracy_score(result[\"ts_label\"], result[\"ts_predict\"])} \n",
    "ts f1: {f1_score(result[\"ts_label\"], result[\"ts_predict\"])} \n",
    "ts sensitivity: {recall_score(result[\"ts_label\"], result[\"ts_predict\"])} \n",
    "ts specificity: {precision_score(result[\"ts_label\"], result[\"ts_predict\"])}\n",
    "\"\"\")"
   ]
  },
  {
   "cell_type": "raw",
   "id": "279bb62e-cb89-475c-bb6f-c08e15b470ab",
   "metadata": {},
   "source": [
    "results:\n",
    "1.\n",
    "    clf: SVC()\n",
    "    feature selection: True\n",
    "    feature selection model: LassoCV()    \r",
    "    \n",
    "feature scaler: alsee    #\r\n",
    "ts acc average on loso: 0.78704478   7    6\r\n",
    "ts acc: 0.792382    5    6 \r\n",
    "ts f1: 0.7201     7    97 \r\n",
    "ts sensitivity: 0.6282    7    764 \r\n",
    "ts ity: specif0.8476116805260104\n",
    "\n",
    "\n",
    "2.\n",
    "    clf: RandomForestClassifier()\n",
    "    feature selection: False\n",
    "    feature scaler: False\n",
    "    #ts acc average on loso: 0.7842178408948985\n",
    "    ts acc: 0.7897014015843997 \n",
    "    ts f1: 0.7411296976970969 \n",
    "    ts sensitivity: 0.7055127106540988 \n",
    "    ts specificity: 0.7805340496128931\n",
    "\n",
    "3.\n",
    "    clf: RandomForestClassifier()\n",
    "    feature selection: True\n",
    "    feature selection model: LassoCV()\n",
    "    feature scaler: False\n",
    "    #ts acc average on loso: 0.7836652730451434\n",
    "    ts acc: 0.7895795246800731 \n",
    "    ts f1: 0.7415999401332036 \n",
    "    ts sensitivity: 0.7076549557269352 \n",
    "    ts specificity: 0.77896557145260104"
   ]
  },
  {
   "cell_type": "code",
   "execution_count": null,
   "id": "8cb73bf8-9181-4573-9dca-9eef0ff80237",
   "metadata": {},
   "outputs": [],
   "source": []
  },
  {
   "cell_type": "code",
   "execution_count": 56,
   "id": "ab811a51-7c5d-4fc8-88db-e0c92505b3a7",
   "metadata": {},
   "outputs": [
    {
     "data": {
      "text/plain": [
       "(16112,)"
      ]
     },
     "execution_count": 56,
     "metadata": {},
     "output_type": "execute_result"
    }
   ],
   "source": [
    "clf.predict(tr_data).shape"
   ]
  },
  {
   "cell_type": "code",
   "execution_count": 55,
   "id": "20ed7b21-ae15-4812-82fc-a31fb615ddb5",
   "metadata": {},
   "outputs": [
    {
     "name": "stderr",
     "output_type": "stream",
     "text": [
      "C:\\Users\\Kian\\AppData\\Local\\Programs\\Python\\Python311\\Lib\\site-packages\\sklearn\\metrics\\_classification.py:1471: UndefinedMetricWarning: Recall is ill-defined and being set to 0.0 due to no true samples. Use `zero_division` parameter to control this behavior.\n",
      "  _warn_prf(average, modifier, msg_start, len(result))\n"
     ]
    },
    {
     "data": {
      "text/plain": [
       "0.0"
      ]
     },
     "execution_count": 55,
     "metadata": {},
     "output_type": "execute_result"
    }
   ],
   "source": [
    "recall_score(ts_label, clf.predict(ts_data))"
   ]
  },
  {
   "cell_type": "code",
   "execution_count": 57,
   "id": "df8fc7ea-84bb-41e6-9c39-b0674c49d8ff",
   "metadata": {},
   "outputs": [
    {
     "data": {
      "text/plain": [
       "array([0, 0, 0, 0, 0, 0, 0, 0, 0, 0, 0, 0, 0, 0, 0, 0, 0, 0, 0, 0, 0, 0,\n",
       "       0, 0, 0, 0, 0, 0, 0, 0, 0, 0, 0, 0, 0, 0, 0, 0, 0, 0, 0, 0, 0, 0,\n",
       "       0, 0, 0, 0, 0, 0, 0, 0, 0, 0, 0, 0, 0, 0, 0, 0, 0, 0, 0, 0, 0, 0,\n",
       "       0, 0, 0, 0, 0, 0, 0, 0, 0, 0, 0, 0, 0, 0, 0, 0, 0, 0, 0, 0, 0, 0,\n",
       "       0, 0, 0, 0, 0, 0, 0, 0, 0, 0, 0, 0, 0, 0, 0, 0, 0, 0, 0, 0, 0, 0,\n",
       "       0, 0, 0, 0, 0, 0, 0, 0, 0, 0, 0, 0, 0, 0, 0, 0, 0, 0, 0, 0, 0, 0,\n",
       "       0, 0, 0, 0, 0, 0, 0, 0, 0, 0, 0, 0, 0, 0, 0, 0, 0, 0, 0, 0, 0, 0,\n",
       "       0, 0, 0, 0, 0, 0, 0, 0, 0, 0, 0, 0, 0, 0, 0, 0, 0, 0, 0, 0, 0, 0,\n",
       "       0, 0, 0, 0, 0, 0, 0, 0, 0, 0, 0, 0, 0, 0, 0, 0, 0, 0, 0, 0, 0, 0,\n",
       "       0, 0, 0, 0, 0, 0, 0, 0, 0, 0, 0, 0, 0, 0, 0, 0, 0, 0, 0, 0, 0, 0,\n",
       "       0, 0, 0, 0, 0, 0, 0, 0, 0, 0, 0, 0, 0, 0, 0, 0, 0, 0, 0, 0, 0, 0,\n",
       "       0, 0, 0, 0, 0, 0, 0, 0, 0, 0, 0, 0, 0, 0, 0, 0, 0, 0, 0, 0, 0, 0,\n",
       "       0, 0, 0, 0, 0, 0, 0, 0, 0, 0, 0, 0, 0, 0, 0, 0, 0, 0, 0, 0, 0, 0,\n",
       "       0, 0, 0, 0, 0, 0, 0, 0, 0, 0, 0, 0], dtype=int64)"
      ]
     },
     "execution_count": 57,
     "metadata": {},
     "output_type": "execute_result"
    }
   ],
   "source": [
    "ts_label"
   ]
  },
  {
   "cell_type": "code",
   "execution_count": null,
   "id": "45a41cc0-e921-476c-b5c9-4e97454835a1",
   "metadata": {},
   "outputs": [],
   "source": []
  },
  {
   "cell_type": "code",
   "execution_count": null,
   "id": "a1c76bee-af6b-4b65-922d-ddd0f2678616",
   "metadata": {},
   "outputs": [],
   "source": []
  }
 ],
 "metadata": {
  "kernelspec": {
   "display_name": "Python 3 (ipykernel)",
   "language": "python",
   "name": "python3"
  },
  "language_info": {
   "codemirror_mode": {
    "name": "ipython",
    "version": 3
   },
   "file_extension": ".py",
   "mimetype": "text/x-python",
   "name": "python",
   "nbconvert_exporter": "python",
   "pygments_lexer": "ipython3",
   "version": "3.11.4"
  }
 },
 "nbformat": 4,
 "nbformat_minor": 5
}
