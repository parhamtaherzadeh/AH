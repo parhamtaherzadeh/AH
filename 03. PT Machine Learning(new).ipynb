{
 "cells": [
  {
   "cell_type": "code",
   "execution_count": 3,
   "id": "df32140d-dad9-4e3f-9db3-30436c0ef2ab",
   "metadata": {},
   "outputs": [],
   "source": [
    "dt = joblib.load(\"/Applications/THESIS.joblib\")"
   ]
  },
  {
   "cell_type": "code",
   "execution_count": 4,
   "id": "c6f37de7-68b6-4466-8a9b-afd892d8d5be",
   "metadata": {},
   "outputs": [],
   "source": [
    "import pandas as pd\n",
    "import numpy as np\n",
    "import joblib\n",
    "\n",
    "from sklearn.ensemble import RandomForestClassifier\n",
    "from sklearn.svm import SVC\n",
    "from sklearn.discriminant_analysis import LinearDiscriminantAnalysis as lda\n",
    "from sklearn.model_selection import LeaveOneGroupOut\n",
    "from sklearn.feature_selection import SelectFromModel\n",
    "from sklearn.linear_model import LassoCV\n",
    "from sklearn.preprocessing import StandardScaler \n",
    "from sklearn.metrics import accuracy_score, f1_score, precision_score, recall_score"
   ]
  },
  {
   "cell_type": "code",
   "execution_count": 5,
   "id": "813d95eb-1749-42a9-a829-309d37eea426",
   "metadata": {},
   "outputs": [
    {
     "name": "stderr",
     "output_type": "stream",
     "text": [
      "/var/folders/2r/ng5l8yc97950rj3w9g5mq9h00000gn/T/ipykernel_14368/1446778592.py:2: SettingWithCopyWarning: \n",
      "A value is trying to be set on a copy of a slice from a DataFrame.\n",
      "Try using .loc[row_indexer,col_indexer] = value instead\n",
      "\n",
      "See the caveats in the documentation: https://pandas.pydata.org/pandas-docs/stable/user_guide/indexing.html#returning-a-view-versus-a-copy\n",
      "  filtered_df[\"numeric_label\"] = filtered_df.label.apply(lambda x: 0 if x=='A' else 1 if x=='C' else None)\n"
     ]
    }
   ],
   "source": [
    "filtered_df = dt[ dt.label.isin([\"A\", \"C\"]) ] \n",
    "filtered_df[\"numeric_label\"] = filtered_df.label.apply(lambda x: 0 if x=='A' else 1 if x=='C' else None)"
   ]
  },
  {
   "cell_type": "code",
   "execution_count": 6,
   "id": "af2aaa33-cefd-4116-9dad-805a6be1b44f",
   "metadata": {},
   "outputs": [],
   "source": [
    "filtered_df = filtered_df.sample(frac=1)"
   ]
  },
  {
   "cell_type": "code",
   "execution_count": 15,
   "id": "f236277a-0aaf-4b66-8d74-bed25fcac45a",
   "metadata": {},
   "outputs": [
    {
     "data": {
      "text/html": [
       "<div>\n",
       "<style scoped>\n",
       "    .dataframe tbody tr th:only-of-type {\n",
       "        vertical-align: middle;\n",
       "    }\n",
       "\n",
       "    .dataframe tbody tr th {\n",
       "        vertical-align: top;\n",
       "    }\n",
       "\n",
       "    .dataframe thead th {\n",
       "        text-align: right;\n",
       "    }\n",
       "</style>\n",
       "<table border=\"1\" class=\"dataframe\">\n",
       "  <thead>\n",
       "    <tr style=\"text-align: right;\">\n",
       "      <th></th>\n",
       "      <th>Fp1_Delta_rel</th>\n",
       "      <th>Fp1_Theta_rel</th>\n",
       "      <th>Fp1_Alpha_rel</th>\n",
       "      <th>Fp1_Sigma_rel</th>\n",
       "      <th>Fp1_Beta_rel</th>\n",
       "      <th>Fp1_Gamma_rel</th>\n",
       "      <th>Fp2_Delta_rel</th>\n",
       "      <th>Fp2_Theta_rel</th>\n",
       "      <th>Fp2_Alpha_rel</th>\n",
       "      <th>Fp2_Sigma_rel</th>\n",
       "      <th>...</th>\n",
       "      <th>Cz_Gamma_rel</th>\n",
       "      <th>Pz_Delta_rel</th>\n",
       "      <th>Pz_Theta_rel</th>\n",
       "      <th>Pz_Alpha_rel</th>\n",
       "      <th>Pz_Sigma_rel</th>\n",
       "      <th>Pz_Beta_rel</th>\n",
       "      <th>Pz_Gamma_rel</th>\n",
       "      <th>group</th>\n",
       "      <th>label</th>\n",
       "      <th>numeric_label</th>\n",
       "    </tr>\n",
       "  </thead>\n",
       "  <tbody>\n",
       "    <tr>\n",
       "      <th>16324</th>\n",
       "      <td>0.8111432963292834</td>\n",
       "      <td>0.10102170490832162</td>\n",
       "      <td>0.05738322754981963</td>\n",
       "      <td>0.006249743216333619</td>\n",
       "      <td>0.017778216091654354</td>\n",
       "      <td>0.006423811904587865</td>\n",
       "      <td>0.7667041997069062</td>\n",
       "      <td>0.1295894631803582</td>\n",
       "      <td>0.06057132835705215</td>\n",
       "      <td>0.009207467850438928</td>\n",
       "      <td>...</td>\n",
       "      <td>0.0027796006896347513</td>\n",
       "      <td>0.8519241627848544</td>\n",
       "      <td>0.07169821281663315</td>\n",
       "      <td>0.05733703285483038</td>\n",
       "      <td>0.006786858435248668</td>\n",
       "      <td>0.009032183029802764</td>\n",
       "      <td>0.0032215500786306715</td>\n",
       "      <td>sub-061</td>\n",
       "      <td>C</td>\n",
       "      <td>1</td>\n",
       "    </tr>\n",
       "    <tr>\n",
       "      <th>7338</th>\n",
       "      <td>0.8748613670064123</td>\n",
       "      <td>0.05093324883204172</td>\n",
       "      <td>0.02480754988618224</td>\n",
       "      <td>0.020119180453211708</td>\n",
       "      <td>0.025109360055419423</td>\n",
       "      <td>0.004169293766732759</td>\n",
       "      <td>0.8887790476282915</td>\n",
       "      <td>0.05028711791182438</td>\n",
       "      <td>0.018864641495070566</td>\n",
       "      <td>0.013544380720075447</td>\n",
       "      <td>...</td>\n",
       "      <td>0.0019417543170794373</td>\n",
       "      <td>0.8792164480048873</td>\n",
       "      <td>0.08369071441349829</td>\n",
       "      <td>0.013495385043217366</td>\n",
       "      <td>0.012003055711510346</td>\n",
       "      <td>0.00948093566336631</td>\n",
       "      <td>0.0021134611635203536</td>\n",
       "      <td>sub-018</td>\n",
       "      <td>A</td>\n",
       "      <td>0</td>\n",
       "    </tr>\n",
       "  </tbody>\n",
       "</table>\n",
       "<p>2 rows × 117 columns</p>\n",
       "</div>"
      ],
      "text/plain": [
       "            Fp1_Delta_rel        Fp1_Theta_rel        Fp1_Alpha_rel  \\\n",
       "16324  0.8111432963292834  0.10102170490832162  0.05738322754981963   \n",
       "7338   0.8748613670064123  0.05093324883204172  0.02480754988618224   \n",
       "\n",
       "              Fp1_Sigma_rel          Fp1_Beta_rel         Fp1_Gamma_rel  \\\n",
       "16324  0.006249743216333619  0.017778216091654354  0.006423811904587865   \n",
       "7338   0.020119180453211708  0.025109360055419423  0.004169293766732759   \n",
       "\n",
       "            Fp2_Delta_rel        Fp2_Theta_rel         Fp2_Alpha_rel  \\\n",
       "16324  0.7667041997069062   0.1295894631803582   0.06057132835705215   \n",
       "7338   0.8887790476282915  0.05028711791182438  0.018864641495070566   \n",
       "\n",
       "              Fp2_Sigma_rel  ...           Cz_Gamma_rel        Pz_Delta_rel  \\\n",
       "16324  0.009207467850438928  ...  0.0027796006896347513  0.8519241627848544   \n",
       "7338   0.013544380720075447  ...  0.0019417543170794373  0.8792164480048873   \n",
       "\n",
       "              Pz_Theta_rel          Pz_Alpha_rel          Pz_Sigma_rel  \\\n",
       "16324  0.07169821281663315   0.05733703285483038  0.006786858435248668   \n",
       "7338   0.08369071441349829  0.013495385043217366  0.012003055711510346   \n",
       "\n",
       "                Pz_Beta_rel           Pz_Gamma_rel    group label  \\\n",
       "16324  0.009032183029802764  0.0032215500786306715  sub-061     C   \n",
       "7338    0.00948093566336631  0.0021134611635203536  sub-018     A   \n",
       "\n",
       "      numeric_label  \n",
       "16324             1  \n",
       "7338              0  \n",
       "\n",
       "[2 rows x 117 columns]"
      ]
     },
     "execution_count": 15,
     "metadata": {},
     "output_type": "execute_result"
    }
   ],
   "source": [
    "filtered_df.head(2)"
   ]
  },
  {
   "cell_type": "code",
   "execution_count": 8,
   "id": "76d43f1b-d863-4382-8b28-b93272d8731f",
   "metadata": {},
   "outputs": [],
   "source": [
    "features = filtered_df.iloc[:, :-3].to_numpy()\n",
    "labels = filtered_df.numeric_label.to_numpy()\n",
    "groups = filtered_df.group.to_numpy()"
   ]
  },
  {
   "cell_type": "code",
   "execution_count": 9,
   "id": "ae4ec604-76d7-4914-9a26-f025c2e26efd",
   "metadata": {},
   "outputs": [
    {
     "data": {
      "text/plain": [
       "((26526, 114), (26526,), (26526,))"
      ]
     },
     "execution_count": 9,
     "metadata": {},
     "output_type": "execute_result"
    }
   ],
   "source": [
    "features.shape, labels.shape, groups.shape"
   ]
  },
  {
   "cell_type": "code",
   "execution_count": 10,
   "id": "c35a6682-9b5f-4e3b-8fb2-c418dcd5533a",
   "metadata": {},
   "outputs": [
    {
     "name": "stdout",
     "output_type": "stream",
     "text": [
      "### 0 subject compelete.\n",
      "        test group: ['sub-001']        \n",
      "    \n"
     ]
    },
    {
     "name": "stderr",
     "output_type": "stream",
     "text": [
      "/Library/Frameworks/Python.framework/Versions/3.11/lib/python3.11/site-packages/sklearn/metrics/_classification.py:1471: UndefinedMetricWarning: Recall is ill-defined and being set to 0.0 due to no true samples. Use `zero_division` parameter to control this behavior.\n",
      "  _warn_prf(average, modifier, msg_start, len(result))\n"
     ]
    },
    {
     "name": "stdout",
     "output_type": "stream",
     "text": [
      "\n",
      "            ts acc: 0.9630872483221476\n",
      "            ts f1: 0.0 \n",
      "            ts sensitivity: 0.0 \n",
      "            ts specificity: 0.0\n",
      "    \n",
      "### 1 subject compelete.\n",
      "        test group: ['sub-002']        \n",
      "    \n"
     ]
    },
    {
     "name": "stderr",
     "output_type": "stream",
     "text": [
      "/Library/Frameworks/Python.framework/Versions/3.11/lib/python3.11/site-packages/sklearn/metrics/_classification.py:1471: UndefinedMetricWarning: Recall is ill-defined and being set to 0.0 due to no true samples. Use `zero_division` parameter to control this behavior.\n",
      "  _warn_prf(average, modifier, msg_start, len(result))\n"
     ]
    },
    {
     "name": "stdout",
     "output_type": "stream",
     "text": [
      "\n",
      "            ts acc: 0.46329113924050636\n",
      "            ts f1: 0.0 \n",
      "            ts sensitivity: 0.0 \n",
      "            ts specificity: 0.0\n",
      "    \n",
      "### 2 subject compelete.\n",
      "        test group: ['sub-003']        \n",
      "    \n"
     ]
    },
    {
     "name": "stderr",
     "output_type": "stream",
     "text": [
      "/Library/Frameworks/Python.framework/Versions/3.11/lib/python3.11/site-packages/sklearn/metrics/_classification.py:1471: UndefinedMetricWarning: Recall is ill-defined and being set to 0.0 due to no true samples. Use `zero_division` parameter to control this behavior.\n",
      "  _warn_prf(average, modifier, msg_start, len(result))\n"
     ]
    },
    {
     "name": "stdout",
     "output_type": "stream",
     "text": [
      "\n",
      "            ts acc: 0.4342105263157895\n",
      "            ts f1: 0.0 \n",
      "            ts sensitivity: 0.0 \n",
      "            ts specificity: 0.0\n",
      "    \n",
      "### 3 subject compelete.\n",
      "        test group: ['sub-004']        \n",
      "    \n"
     ]
    },
    {
     "name": "stderr",
     "output_type": "stream",
     "text": [
      "/Library/Frameworks/Python.framework/Versions/3.11/lib/python3.11/site-packages/sklearn/metrics/_classification.py:1760: UndefinedMetricWarning: F-score is ill-defined and being set to 0.0 due to no true nor predicted samples. Use `zero_division` parameter to control this behavior.\n",
      "  _warn_prf(average, \"true nor predicted\", \"F-score is\", len(true_sum))\n",
      "/Library/Frameworks/Python.framework/Versions/3.11/lib/python3.11/site-packages/sklearn/metrics/_classification.py:1471: UndefinedMetricWarning: Recall is ill-defined and being set to 0.0 due to no true samples. Use `zero_division` parameter to control this behavior.\n",
      "  _warn_prf(average, modifier, msg_start, len(result))\n",
      "/Library/Frameworks/Python.framework/Versions/3.11/lib/python3.11/site-packages/sklearn/metrics/_classification.py:1471: UndefinedMetricWarning: Precision is ill-defined and being set to 0.0 due to no predicted samples. Use `zero_division` parameter to control this behavior.\n",
      "  _warn_prf(average, modifier, msg_start, len(result))\n"
     ]
    },
    {
     "name": "stdout",
     "output_type": "stream",
     "text": [
      "\n",
      "            ts acc: 1.0\n",
      "            ts f1: 0.0 \n",
      "            ts sensitivity: 0.0 \n",
      "            ts specificity: 0.0\n",
      "    \n",
      "### 4 subject compelete.\n",
      "        test group: ['sub-005']        \n",
      "    \n"
     ]
    },
    {
     "name": "stderr",
     "output_type": "stream",
     "text": [
      "/Library/Frameworks/Python.framework/Versions/3.11/lib/python3.11/site-packages/sklearn/metrics/_classification.py:1471: UndefinedMetricWarning: Recall is ill-defined and being set to 0.0 due to no true samples. Use `zero_division` parameter to control this behavior.\n",
      "  _warn_prf(average, modifier, msg_start, len(result))\n"
     ]
    },
    {
     "name": "stdout",
     "output_type": "stream",
     "text": [
      "\n",
      "            ts acc: 0.7531172069825436\n",
      "            ts f1: 0.0 \n",
      "            ts sensitivity: 0.0 \n",
      "            ts specificity: 0.0\n",
      "    \n",
      "### 5 subject compelete.\n",
      "        test group: ['sub-006']        \n",
      "    \n"
     ]
    },
    {
     "name": "stderr",
     "output_type": "stream",
     "text": [
      "/Library/Frameworks/Python.framework/Versions/3.11/lib/python3.11/site-packages/sklearn/metrics/_classification.py:1471: UndefinedMetricWarning: Recall is ill-defined and being set to 0.0 due to no true samples. Use `zero_division` parameter to control this behavior.\n",
      "  _warn_prf(average, modifier, msg_start, len(result))\n"
     ]
    },
    {
     "name": "stdout",
     "output_type": "stream",
     "text": [
      "\n",
      "            ts acc: 0.3111111111111111\n",
      "            ts f1: 0.0 \n",
      "            ts sensitivity: 0.0 \n",
      "            ts specificity: 0.0\n",
      "    \n",
      "### 6 subject compelete.\n",
      "        test group: ['sub-007']        \n",
      "    \n"
     ]
    },
    {
     "name": "stderr",
     "output_type": "stream",
     "text": [
      "/Library/Frameworks/Python.framework/Versions/3.11/lib/python3.11/site-packages/sklearn/metrics/_classification.py:1471: UndefinedMetricWarning: Recall is ill-defined and being set to 0.0 due to no true samples. Use `zero_division` parameter to control this behavior.\n",
      "  _warn_prf(average, modifier, msg_start, len(result))\n"
     ]
    },
    {
     "name": "stdout",
     "output_type": "stream",
     "text": [
      "\n",
      "            ts acc: 0.9790575916230366\n",
      "            ts f1: 0.0 \n",
      "            ts sensitivity: 0.0 \n",
      "            ts specificity: 0.0\n",
      "    \n",
      "### 7 subject compelete.\n",
      "        test group: ['sub-008']        \n",
      "    \n"
     ]
    },
    {
     "name": "stderr",
     "output_type": "stream",
     "text": [
      "/Library/Frameworks/Python.framework/Versions/3.11/lib/python3.11/site-packages/sklearn/metrics/_classification.py:1471: UndefinedMetricWarning: Recall is ill-defined and being set to 0.0 due to no true samples. Use `zero_division` parameter to control this behavior.\n",
      "  _warn_prf(average, modifier, msg_start, len(result))\n"
     ]
    },
    {
     "name": "stdout",
     "output_type": "stream",
     "text": [
      "\n",
      "            ts acc: 0.9316455696202531\n",
      "            ts f1: 0.0 \n",
      "            ts sensitivity: 0.0 \n",
      "            ts specificity: 0.0\n",
      "    \n",
      "### 8 subject compelete.\n",
      "        test group: ['sub-009']        \n",
      "    \n"
     ]
    },
    {
     "name": "stderr",
     "output_type": "stream",
     "text": [
      "/Library/Frameworks/Python.framework/Versions/3.11/lib/python3.11/site-packages/sklearn/metrics/_classification.py:1471: UndefinedMetricWarning: Recall is ill-defined and being set to 0.0 due to no true samples. Use `zero_division` parameter to control this behavior.\n",
      "  _warn_prf(average, modifier, msg_start, len(result))\n"
     ]
    },
    {
     "name": "stdout",
     "output_type": "stream",
     "text": [
      "\n",
      "            ts acc: 0.7475409836065574\n",
      "            ts f1: 0.0 \n",
      "            ts sensitivity: 0.0 \n",
      "            ts specificity: 0.0\n",
      "    \n",
      "### 9 subject compelete.\n",
      "        test group: ['sub-010']        \n",
      "    \n"
     ]
    },
    {
     "name": "stderr",
     "output_type": "stream",
     "text": [
      "/Library/Frameworks/Python.framework/Versions/3.11/lib/python3.11/site-packages/sklearn/metrics/_classification.py:1471: UndefinedMetricWarning: Recall is ill-defined and being set to 0.0 due to no true samples. Use `zero_division` parameter to control this behavior.\n",
      "  _warn_prf(average, modifier, msg_start, len(result))\n"
     ]
    },
    {
     "name": "stdout",
     "output_type": "stream",
     "text": [
      "\n",
      "            ts acc: 0.5383411580594679\n",
      "            ts f1: 0.0 \n",
      "            ts sensitivity: 0.0 \n",
      "            ts specificity: 0.0\n",
      "    \n",
      "### 10 subject compelete.\n",
      "        test group: ['sub-011']        \n",
      "    \n"
     ]
    },
    {
     "name": "stderr",
     "output_type": "stream",
     "text": [
      "/Library/Frameworks/Python.framework/Versions/3.11/lib/python3.11/site-packages/sklearn/metrics/_classification.py:1471: UndefinedMetricWarning: Recall is ill-defined and being set to 0.0 due to no true samples. Use `zero_division` parameter to control this behavior.\n",
      "  _warn_prf(average, modifier, msg_start, len(result))\n"
     ]
    },
    {
     "name": "stdout",
     "output_type": "stream",
     "text": [
      "\n",
      "            ts acc: 0.608355091383812\n",
      "            ts f1: 0.0 \n",
      "            ts sensitivity: 0.0 \n",
      "            ts specificity: 0.0\n",
      "    \n",
      "### 11 subject compelete.\n",
      "        test group: ['sub-012']        \n",
      "    \n"
     ]
    },
    {
     "name": "stderr",
     "output_type": "stream",
     "text": [
      "/Library/Frameworks/Python.framework/Versions/3.11/lib/python3.11/site-packages/sklearn/metrics/_classification.py:1471: UndefinedMetricWarning: Recall is ill-defined and being set to 0.0 due to no true samples. Use `zero_division` parameter to control this behavior.\n",
      "  _warn_prf(average, modifier, msg_start, len(result))\n"
     ]
    },
    {
     "name": "stdout",
     "output_type": "stream",
     "text": [
      "\n",
      "            ts acc: 0.6681818181818182\n",
      "            ts f1: 0.0 \n",
      "            ts sensitivity: 0.0 \n",
      "            ts specificity: 0.0\n",
      "    \n",
      "### 12 subject compelete.\n",
      "        test group: ['sub-013']        \n",
      "    \n"
     ]
    },
    {
     "name": "stderr",
     "output_type": "stream",
     "text": [
      "/Library/Frameworks/Python.framework/Versions/3.11/lib/python3.11/site-packages/sklearn/metrics/_classification.py:1471: UndefinedMetricWarning: Recall is ill-defined and being set to 0.0 due to no true samples. Use `zero_division` parameter to control this behavior.\n",
      "  _warn_prf(average, modifier, msg_start, len(result))\n"
     ]
    },
    {
     "name": "stdout",
     "output_type": "stream",
     "text": [
      "\n",
      "            ts acc: 0.9497607655502392\n",
      "            ts f1: 0.0 \n",
      "            ts sensitivity: 0.0 \n",
      "            ts specificity: 0.0\n",
      "    \n",
      "### 13 subject compelete.\n",
      "        test group: ['sub-014']        \n",
      "    \n"
     ]
    },
    {
     "name": "stderr",
     "output_type": "stream",
     "text": [
      "/Library/Frameworks/Python.framework/Versions/3.11/lib/python3.11/site-packages/sklearn/metrics/_classification.py:1471: UndefinedMetricWarning: Recall is ill-defined and being set to 0.0 due to no true samples. Use `zero_division` parameter to control this behavior.\n",
      "  _warn_prf(average, modifier, msg_start, len(result))\n"
     ]
    },
    {
     "name": "stdout",
     "output_type": "stream",
     "text": [
      "\n",
      "            ts acc: 0.9356223175965666\n",
      "            ts f1: 0.0 \n",
      "            ts sensitivity: 0.0 \n",
      "            ts specificity: 0.0\n",
      "    \n",
      "### 14 subject compelete.\n",
      "        test group: ['sub-015']        \n",
      "    \n"
     ]
    },
    {
     "name": "stderr",
     "output_type": "stream",
     "text": [
      "/Library/Frameworks/Python.framework/Versions/3.11/lib/python3.11/site-packages/sklearn/metrics/_classification.py:1471: UndefinedMetricWarning: Recall is ill-defined and being set to 0.0 due to no true samples. Use `zero_division` parameter to control this behavior.\n",
      "  _warn_prf(average, modifier, msg_start, len(result))\n"
     ]
    },
    {
     "name": "stdout",
     "output_type": "stream",
     "text": [
      "\n",
      "            ts acc: 0.5256124721603563\n",
      "            ts f1: 0.0 \n",
      "            ts sensitivity: 0.0 \n",
      "            ts specificity: 0.0\n",
      "    \n",
      "### 15 subject compelete.\n",
      "        test group: ['sub-016']        \n",
      "    \n"
     ]
    },
    {
     "name": "stderr",
     "output_type": "stream",
     "text": [
      "/Library/Frameworks/Python.framework/Versions/3.11/lib/python3.11/site-packages/sklearn/metrics/_classification.py:1471: UndefinedMetricWarning: Recall is ill-defined and being set to 0.0 due to no true samples. Use `zero_division` parameter to control this behavior.\n",
      "  _warn_prf(average, modifier, msg_start, len(result))\n"
     ]
    },
    {
     "name": "stdout",
     "output_type": "stream",
     "text": [
      "\n",
      "            ts acc: 0.979381443298969\n",
      "            ts f1: 0.0 \n",
      "            ts sensitivity: 0.0 \n",
      "            ts specificity: 0.0\n",
      "    \n",
      "### 16 subject compelete.\n",
      "        test group: ['sub-017']        \n",
      "    \n"
     ]
    },
    {
     "name": "stderr",
     "output_type": "stream",
     "text": [
      "/Library/Frameworks/Python.framework/Versions/3.11/lib/python3.11/site-packages/sklearn/metrics/_classification.py:1471: UndefinedMetricWarning: Recall is ill-defined and being set to 0.0 due to no true samples. Use `zero_division` parameter to control this behavior.\n",
      "  _warn_prf(average, modifier, msg_start, len(result))\n"
     ]
    },
    {
     "name": "stdout",
     "output_type": "stream",
     "text": [
      "\n",
      "            ts acc: 0.9809523809523809\n",
      "            ts f1: 0.0 \n",
      "            ts sensitivity: 0.0 \n",
      "            ts specificity: 0.0\n",
      "    \n",
      "### 17 subject compelete.\n",
      "        test group: ['sub-018']        \n",
      "    \n"
     ]
    },
    {
     "name": "stderr",
     "output_type": "stream",
     "text": [
      "/Library/Frameworks/Python.framework/Versions/3.11/lib/python3.11/site-packages/sklearn/metrics/_classification.py:1471: UndefinedMetricWarning: Recall is ill-defined and being set to 0.0 due to no true samples. Use `zero_division` parameter to control this behavior.\n",
      "  _warn_prf(average, modifier, msg_start, len(result))\n"
     ]
    },
    {
     "name": "stdout",
     "output_type": "stream",
     "text": [
      "\n",
      "            ts acc: 0.9596199524940617\n",
      "            ts f1: 0.0 \n",
      "            ts sensitivity: 0.0 \n",
      "            ts specificity: 0.0\n",
      "    \n",
      "### 18 subject compelete.\n",
      "        test group: ['sub-019']        \n",
      "    \n"
     ]
    },
    {
     "name": "stderr",
     "output_type": "stream",
     "text": [
      "/Library/Frameworks/Python.framework/Versions/3.11/lib/python3.11/site-packages/sklearn/metrics/_classification.py:1471: UndefinedMetricWarning: Recall is ill-defined and being set to 0.0 due to no true samples. Use `zero_division` parameter to control this behavior.\n",
      "  _warn_prf(average, modifier, msg_start, len(result))\n"
     ]
    },
    {
     "name": "stdout",
     "output_type": "stream",
     "text": [
      "\n",
      "            ts acc: 0.9104803493449781\n",
      "            ts f1: 0.0 \n",
      "            ts sensitivity: 0.0 \n",
      "            ts specificity: 0.0\n",
      "    \n",
      "### 19 subject compelete.\n",
      "        test group: ['sub-020']        \n",
      "    \n"
     ]
    },
    {
     "name": "stderr",
     "output_type": "stream",
     "text": [
      "/Library/Frameworks/Python.framework/Versions/3.11/lib/python3.11/site-packages/sklearn/metrics/_classification.py:1471: UndefinedMetricWarning: Recall is ill-defined and being set to 0.0 due to no true samples. Use `zero_division` parameter to control this behavior.\n",
      "  _warn_prf(average, modifier, msg_start, len(result))\n"
     ]
    },
    {
     "name": "stdout",
     "output_type": "stream",
     "text": [
      "\n",
      "            ts acc: 0.9515011547344111\n",
      "            ts f1: 0.0 \n",
      "            ts sensitivity: 0.0 \n",
      "            ts specificity: 0.0\n",
      "    \n",
      "### 20 subject compelete.\n",
      "        test group: ['sub-021']        \n",
      "    \n"
     ]
    },
    {
     "name": "stderr",
     "output_type": "stream",
     "text": [
      "/Library/Frameworks/Python.framework/Versions/3.11/lib/python3.11/site-packages/sklearn/metrics/_classification.py:1471: UndefinedMetricWarning: Recall is ill-defined and being set to 0.0 due to no true samples. Use `zero_division` parameter to control this behavior.\n",
      "  _warn_prf(average, modifier, msg_start, len(result))\n"
     ]
    },
    {
     "name": "stdout",
     "output_type": "stream",
     "text": [
      "\n",
      "            ts acc: 0.5860566448801743\n",
      "            ts f1: 0.0 \n",
      "            ts sensitivity: 0.0 \n",
      "            ts specificity: 0.0\n",
      "    \n",
      "### 21 subject compelete.\n",
      "        test group: ['sub-022']        \n",
      "    \n"
     ]
    },
    {
     "name": "stderr",
     "output_type": "stream",
     "text": [
      "/Library/Frameworks/Python.framework/Versions/3.11/lib/python3.11/site-packages/sklearn/metrics/_classification.py:1471: UndefinedMetricWarning: Recall is ill-defined and being set to 0.0 due to no true samples. Use `zero_division` parameter to control this behavior.\n",
      "  _warn_prf(average, modifier, msg_start, len(result))\n"
     ]
    },
    {
     "name": "stdout",
     "output_type": "stream",
     "text": [
      "\n",
      "            ts acc: 0.8973105134474327\n",
      "            ts f1: 0.0 \n",
      "            ts sensitivity: 0.0 \n",
      "            ts specificity: 0.0\n",
      "    \n",
      "### 22 subject compelete.\n",
      "        test group: ['sub-023']        \n",
      "    \n"
     ]
    },
    {
     "name": "stderr",
     "output_type": "stream",
     "text": [
      "/Library/Frameworks/Python.framework/Versions/3.11/lib/python3.11/site-packages/sklearn/metrics/_classification.py:1471: UndefinedMetricWarning: Recall is ill-defined and being set to 0.0 due to no true samples. Use `zero_division` parameter to control this behavior.\n",
      "  _warn_prf(average, modifier, msg_start, len(result))\n"
     ]
    },
    {
     "name": "stdout",
     "output_type": "stream",
     "text": [
      "\n",
      "            ts acc: 0.7139423076923077\n",
      "            ts f1: 0.0 \n",
      "            ts sensitivity: 0.0 \n",
      "            ts specificity: 0.0\n",
      "    \n",
      "### 23 subject compelete.\n",
      "        test group: ['sub-024']        \n",
      "    \n"
     ]
    },
    {
     "name": "stderr",
     "output_type": "stream",
     "text": [
      "/Library/Frameworks/Python.framework/Versions/3.11/lib/python3.11/site-packages/sklearn/metrics/_classification.py:1471: UndefinedMetricWarning: Recall is ill-defined and being set to 0.0 due to no true samples. Use `zero_division` parameter to control this behavior.\n",
      "  _warn_prf(average, modifier, msg_start, len(result))\n"
     ]
    },
    {
     "name": "stdout",
     "output_type": "stream",
     "text": [
      "\n",
      "            ts acc: 0.9894179894179894\n",
      "            ts f1: 0.0 \n",
      "            ts sensitivity: 0.0 \n",
      "            ts specificity: 0.0\n",
      "    \n",
      "### 24 subject compelete.\n",
      "        test group: ['sub-025']        \n",
      "    \n"
     ]
    },
    {
     "name": "stderr",
     "output_type": "stream",
     "text": [
      "/Library/Frameworks/Python.framework/Versions/3.11/lib/python3.11/site-packages/sklearn/linear_model/_coordinate_descent.py:614: ConvergenceWarning: Objective did not converge. You might want to increase the number of iterations. Duality gap: 0.5296824343895423, tolerance: 0.5197815543250379\n",
      "  model = cd_fast.enet_coordinate_descent_gram(\n",
      "/Library/Frameworks/Python.framework/Versions/3.11/lib/python3.11/site-packages/sklearn/linear_model/_coordinate_descent.py:614: ConvergenceWarning: Objective did not converge. You might want to increase the number of iterations. Duality gap: 0.542985347177364, tolerance: 0.5197815543250379\n",
      "  model = cd_fast.enet_coordinate_descent_gram(\n",
      "/Library/Frameworks/Python.framework/Versions/3.11/lib/python3.11/site-packages/sklearn/linear_model/_coordinate_descent.py:614: ConvergenceWarning: Objective did not converge. You might want to increase the number of iterations. Duality gap: 0.5360844430942961, tolerance: 0.5197815543250379\n",
      "  model = cd_fast.enet_coordinate_descent_gram(\n",
      "/Library/Frameworks/Python.framework/Versions/3.11/lib/python3.11/site-packages/sklearn/linear_model/_coordinate_descent.py:614: ConvergenceWarning: Objective did not converge. You might want to increase the number of iterations. Duality gap: 0.6263988151745252, tolerance: 0.519490906053025\n",
      "  model = cd_fast.enet_coordinate_descent_gram(\n",
      "/Library/Frameworks/Python.framework/Versions/3.11/lib/python3.11/site-packages/sklearn/linear_model/_coordinate_descent.py:614: ConvergenceWarning: Objective did not converge. You might want to increase the number of iterations. Duality gap: 0.6055348424970362, tolerance: 0.5201529119724694\n",
      "  model = cd_fast.enet_coordinate_descent_gram(\n",
      "/Library/Frameworks/Python.framework/Versions/3.11/lib/python3.11/site-packages/sklearn/linear_model/_coordinate_descent.py:614: ConvergenceWarning: Objective did not converge. You might want to increase the number of iterations. Duality gap: 0.6553311572629354, tolerance: 0.5201529119724694\n",
      "  model = cd_fast.enet_coordinate_descent_gram(\n",
      "/Library/Frameworks/Python.framework/Versions/3.11/lib/python3.11/site-packages/sklearn/metrics/_classification.py:1471: UndefinedMetricWarning: Recall is ill-defined and being set to 0.0 due to no true samples. Use `zero_division` parameter to control this behavior.\n",
      "  _warn_prf(average, modifier, msg_start, len(result))\n"
     ]
    },
    {
     "name": "stdout",
     "output_type": "stream",
     "text": [
      "\n",
      "            ts acc: 0.08797653958944282\n",
      "            ts f1: 0.0 \n",
      "            ts sensitivity: 0.0 \n",
      "            ts specificity: 0.0\n",
      "    \n",
      "### 25 subject compelete.\n",
      "        test group: ['sub-026']        \n",
      "    \n"
     ]
    },
    {
     "name": "stderr",
     "output_type": "stream",
     "text": [
      "/Library/Frameworks/Python.framework/Versions/3.11/lib/python3.11/site-packages/sklearn/metrics/_classification.py:1471: UndefinedMetricWarning: Recall is ill-defined and being set to 0.0 due to no true samples. Use `zero_division` parameter to control this behavior.\n",
      "  _warn_prf(average, modifier, msg_start, len(result))\n"
     ]
    },
    {
     "name": "stdout",
     "output_type": "stream",
     "text": [
      "\n",
      "            ts acc: 0.9620535714285714\n",
      "            ts f1: 0.0 \n",
      "            ts sensitivity: 0.0 \n",
      "            ts specificity: 0.0\n",
      "    \n",
      "### 26 subject compelete.\n",
      "        test group: ['sub-027']        \n",
      "    \n"
     ]
    },
    {
     "name": "stderr",
     "output_type": "stream",
     "text": [
      "/Library/Frameworks/Python.framework/Versions/3.11/lib/python3.11/site-packages/sklearn/metrics/_classification.py:1760: UndefinedMetricWarning: F-score is ill-defined and being set to 0.0 due to no true nor predicted samples. Use `zero_division` parameter to control this behavior.\n",
      "  _warn_prf(average, \"true nor predicted\", \"F-score is\", len(true_sum))\n",
      "/Library/Frameworks/Python.framework/Versions/3.11/lib/python3.11/site-packages/sklearn/metrics/_classification.py:1471: UndefinedMetricWarning: Recall is ill-defined and being set to 0.0 due to no true samples. Use `zero_division` parameter to control this behavior.\n",
      "  _warn_prf(average, modifier, msg_start, len(result))\n",
      "/Library/Frameworks/Python.framework/Versions/3.11/lib/python3.11/site-packages/sklearn/metrics/_classification.py:1471: UndefinedMetricWarning: Precision is ill-defined and being set to 0.0 due to no predicted samples. Use `zero_division` parameter to control this behavior.\n",
      "  _warn_prf(average, modifier, msg_start, len(result))\n"
     ]
    },
    {
     "name": "stdout",
     "output_type": "stream",
     "text": [
      "\n",
      "            ts acc: 1.0\n",
      "            ts f1: 0.0 \n",
      "            ts sensitivity: 0.0 \n",
      "            ts specificity: 0.0\n",
      "    \n",
      "### 27 subject compelete.\n",
      "        test group: ['sub-028']        \n",
      "    \n"
     ]
    },
    {
     "name": "stderr",
     "output_type": "stream",
     "text": [
      "/Library/Frameworks/Python.framework/Versions/3.11/lib/python3.11/site-packages/sklearn/metrics/_classification.py:1471: UndefinedMetricWarning: Recall is ill-defined and being set to 0.0 due to no true samples. Use `zero_division` parameter to control this behavior.\n",
      "  _warn_prf(average, modifier, msg_start, len(result))\n"
     ]
    },
    {
     "name": "stdout",
     "output_type": "stream",
     "text": [
      "\n",
      "            ts acc: 0.9877450980392157\n",
      "            ts f1: 0.0 \n",
      "            ts sensitivity: 0.0 \n",
      "            ts specificity: 0.0\n",
      "    \n",
      "### 28 subject compelete.\n",
      "        test group: ['sub-029']        \n",
      "    \n"
     ]
    },
    {
     "name": "stderr",
     "output_type": "stream",
     "text": [
      "/Library/Frameworks/Python.framework/Versions/3.11/lib/python3.11/site-packages/sklearn/metrics/_classification.py:1471: UndefinedMetricWarning: Recall is ill-defined and being set to 0.0 due to no true samples. Use `zero_division` parameter to control this behavior.\n",
      "  _warn_prf(average, modifier, msg_start, len(result))\n"
     ]
    },
    {
     "name": "stdout",
     "output_type": "stream",
     "text": [
      "\n",
      "            ts acc: 0.997275204359673\n",
      "            ts f1: 0.0 \n",
      "            ts sensitivity: 0.0 \n",
      "            ts specificity: 0.0\n",
      "    \n",
      "### 29 subject compelete.\n",
      "        test group: ['sub-030']        \n",
      "    \n"
     ]
    },
    {
     "name": "stderr",
     "output_type": "stream",
     "text": [
      "/Library/Frameworks/Python.framework/Versions/3.11/lib/python3.11/site-packages/sklearn/metrics/_classification.py:1471: UndefinedMetricWarning: Recall is ill-defined and being set to 0.0 due to no true samples. Use `zero_division` parameter to control this behavior.\n",
      "  _warn_prf(average, modifier, msg_start, len(result))\n"
     ]
    },
    {
     "name": "stdout",
     "output_type": "stream",
     "text": [
      "\n",
      "            ts acc: 0.8043478260869565\n",
      "            ts f1: 0.0 \n",
      "            ts sensitivity: 0.0 \n",
      "            ts specificity: 0.0\n",
      "    \n",
      "### 30 subject compelete.\n",
      "        test group: ['sub-031']        \n",
      "    \n"
     ]
    },
    {
     "name": "stderr",
     "output_type": "stream",
     "text": [
      "/Library/Frameworks/Python.framework/Versions/3.11/lib/python3.11/site-packages/sklearn/linear_model/_coordinate_descent.py:614: ConvergenceWarning: Objective did not converge. You might want to increase the number of iterations. Duality gap: 0.565605127404524, tolerance: 0.5162386330797144\n",
      "  model = cd_fast.enet_coordinate_descent_gram(\n",
      "/Library/Frameworks/Python.framework/Versions/3.11/lib/python3.11/site-packages/sklearn/linear_model/_coordinate_descent.py:614: ConvergenceWarning: Objective did not converge. You might want to increase the number of iterations. Duality gap: 0.5608754600107204, tolerance: 0.5162386330797144\n",
      "  model = cd_fast.enet_coordinate_descent_gram(\n",
      "/Library/Frameworks/Python.framework/Versions/3.11/lib/python3.11/site-packages/sklearn/linear_model/_coordinate_descent.py:614: ConvergenceWarning: Objective did not converge. You might want to increase the number of iterations. Duality gap: 0.6166118746450593, tolerance: 0.5170087660147977\n",
      "  model = cd_fast.enet_coordinate_descent_gram(\n",
      "/Library/Frameworks/Python.framework/Versions/3.11/lib/python3.11/site-packages/sklearn/metrics/_classification.py:1471: UndefinedMetricWarning: Recall is ill-defined and being set to 0.0 due to no true samples. Use `zero_division` parameter to control this behavior.\n",
      "  _warn_prf(average, modifier, msg_start, len(result))\n"
     ]
    },
    {
     "name": "stdout",
     "output_type": "stream",
     "text": [
      "\n",
      "            ts acc: 0.4965156794425087\n",
      "            ts f1: 0.0 \n",
      "            ts sensitivity: 0.0 \n",
      "            ts specificity: 0.0\n",
      "    \n",
      "### 31 subject compelete.\n",
      "        test group: ['sub-032']        \n",
      "    \n"
     ]
    },
    {
     "name": "stderr",
     "output_type": "stream",
     "text": [
      "/Library/Frameworks/Python.framework/Versions/3.11/lib/python3.11/site-packages/sklearn/metrics/_classification.py:1471: UndefinedMetricWarning: Recall is ill-defined and being set to 0.0 due to no true samples. Use `zero_division` parameter to control this behavior.\n",
      "  _warn_prf(average, modifier, msg_start, len(result))\n"
     ]
    },
    {
     "name": "stdout",
     "output_type": "stream",
     "text": [
      "\n",
      "            ts acc: 0.7884130982367759\n",
      "            ts f1: 0.0 \n",
      "            ts sensitivity: 0.0 \n",
      "            ts specificity: 0.0\n",
      "    \n",
      "### 32 subject compelete.\n",
      "        test group: ['sub-033']        \n",
      "    \n"
     ]
    },
    {
     "name": "stderr",
     "output_type": "stream",
     "text": [
      "/Library/Frameworks/Python.framework/Versions/3.11/lib/python3.11/site-packages/sklearn/metrics/_classification.py:1471: UndefinedMetricWarning: Recall is ill-defined and being set to 0.0 due to no true samples. Use `zero_division` parameter to control this behavior.\n",
      "  _warn_prf(average, modifier, msg_start, len(result))\n"
     ]
    },
    {
     "name": "stdout",
     "output_type": "stream",
     "text": [
      "\n",
      "            ts acc: 0.9287749287749287\n",
      "            ts f1: 0.0 \n",
      "            ts sensitivity: 0.0 \n",
      "            ts specificity: 0.0\n",
      "    \n",
      "### 33 subject compelete.\n",
      "        test group: ['sub-034']        \n",
      "    \n"
     ]
    },
    {
     "name": "stderr",
     "output_type": "stream",
     "text": [
      "/Library/Frameworks/Python.framework/Versions/3.11/lib/python3.11/site-packages/sklearn/linear_model/_coordinate_descent.py:628: ConvergenceWarning: Objective did not converge. You might want to increase the number of iterations, check the scale of the features or consider increasing regularisation. Duality gap: 4.892e+01, tolerance: 6.472e-01\n",
      "  model = cd_fast.enet_coordinate_descent(\n",
      "/Library/Frameworks/Python.framework/Versions/3.11/lib/python3.11/site-packages/sklearn/metrics/_classification.py:1471: UndefinedMetricWarning: Recall is ill-defined and being set to 0.0 due to no true samples. Use `zero_division` parameter to control this behavior.\n",
      "  _warn_prf(average, modifier, msg_start, len(result))\n"
     ]
    },
    {
     "name": "stdout",
     "output_type": "stream",
     "text": [
      "\n",
      "            ts acc: 0.6832298136645962\n",
      "            ts f1: 0.0 \n",
      "            ts sensitivity: 0.0 \n",
      "            ts specificity: 0.0\n",
      "    \n",
      "### 34 subject compelete.\n",
      "        test group: ['sub-035']        \n",
      "    \n"
     ]
    },
    {
     "name": "stderr",
     "output_type": "stream",
     "text": [
      "/Library/Frameworks/Python.framework/Versions/3.11/lib/python3.11/site-packages/sklearn/metrics/_classification.py:1471: UndefinedMetricWarning: Recall is ill-defined and being set to 0.0 due to no true samples. Use `zero_division` parameter to control this behavior.\n",
      "  _warn_prf(average, modifier, msg_start, len(result))\n"
     ]
    },
    {
     "name": "stdout",
     "output_type": "stream",
     "text": [
      "\n",
      "            ts acc: 0.9214092140921409\n",
      "            ts f1: 0.0 \n",
      "            ts sensitivity: 0.0 \n",
      "            ts specificity: 0.0\n",
      "    \n",
      "### 35 subject compelete.\n",
      "        test group: ['sub-036']        \n",
      "    \n"
     ]
    },
    {
     "name": "stderr",
     "output_type": "stream",
     "text": [
      "/Library/Frameworks/Python.framework/Versions/3.11/lib/python3.11/site-packages/sklearn/metrics/_classification.py:1471: UndefinedMetricWarning: Recall is ill-defined and being set to 0.0 due to no true samples. Use `zero_division` parameter to control this behavior.\n",
      "  _warn_prf(average, modifier, msg_start, len(result))\n"
     ]
    },
    {
     "name": "stdout",
     "output_type": "stream",
     "text": [
      "\n",
      "            ts acc: 0.26730310262529833\n",
      "            ts f1: 0.0 \n",
      "            ts sensitivity: 0.0 \n",
      "            ts specificity: 0.0\n",
      "    \n",
      "### 36 subject compelete.\n",
      "        test group: ['sub-037']        \n",
      "    \n",
      "\n",
      "            ts acc: 0.751937984496124\n",
      "            ts f1: 0.8584070796460177 \n",
      "            ts sensitivity: 0.751937984496124 \n",
      "            ts specificity: 1.0\n",
      "    \n",
      "### 37 subject compelete.\n",
      "        test group: ['sub-038']        \n",
      "    \n",
      "\n",
      "            ts acc: 0.6554054054054054\n",
      "            ts f1: 0.7918367346938776 \n",
      "            ts sensitivity: 0.6554054054054054 \n",
      "            ts specificity: 1.0\n",
      "    \n",
      "### 38 subject compelete.\n",
      "        test group: ['sub-039']        \n",
      "    \n",
      "\n",
      "            ts acc: 0.7264150943396226\n",
      "            ts f1: 0.8415300546448087 \n",
      "            ts sensitivity: 0.7264150943396226 \n",
      "            ts specificity: 1.0\n",
      "    \n",
      "### 39 subject compelete.\n",
      "        test group: ['sub-040']        \n",
      "    \n",
      "\n",
      "            ts acc: 0.7588357588357588\n",
      "            ts f1: 0.8628841607565012 \n",
      "            ts sensitivity: 0.7588357588357588 \n",
      "            ts specificity: 1.0\n",
      "    \n",
      "### 40 subject compelete.\n",
      "        test group: ['sub-041']        \n",
      "    \n"
     ]
    },
    {
     "name": "stderr",
     "output_type": "stream",
     "text": [
      "/Library/Frameworks/Python.framework/Versions/3.11/lib/python3.11/site-packages/sklearn/linear_model/_coordinate_descent.py:614: ConvergenceWarning: Objective did not converge. You might want to increase the number of iterations. Duality gap: 1.0135210821076726, tolerance: 0.5148601428092345\n",
      "  model = cd_fast.enet_coordinate_descent_gram(\n",
      "/Library/Frameworks/Python.framework/Versions/3.11/lib/python3.11/site-packages/sklearn/linear_model/_coordinate_descent.py:614: ConvergenceWarning: Objective did not converge. You might want to increase the number of iterations. Duality gap: 0.6044359339457515, tolerance: 0.5141210619638322\n",
      "  model = cd_fast.enet_coordinate_descent_gram(\n",
      "/Library/Frameworks/Python.framework/Versions/3.11/lib/python3.11/site-packages/sklearn/linear_model/_coordinate_descent.py:614: ConvergenceWarning: Objective did not converge. You might want to increase the number of iterations. Duality gap: 0.7234217277609787, tolerance: 0.5141210619638322\n",
      "  model = cd_fast.enet_coordinate_descent_gram(\n",
      "/Library/Frameworks/Python.framework/Versions/3.11/lib/python3.11/site-packages/sklearn/linear_model/_coordinate_descent.py:614: ConvergenceWarning: Objective did not converge. You might want to increase the number of iterations. Duality gap: 0.7220820592219752, tolerance: 0.5141210619638322\n",
      "  model = cd_fast.enet_coordinate_descent_gram(\n",
      "/Library/Frameworks/Python.framework/Versions/3.11/lib/python3.11/site-packages/sklearn/linear_model/_coordinate_descent.py:614: ConvergenceWarning: Objective did not converge. You might want to increase the number of iterations. Duality gap: 0.6977110978914425, tolerance: 0.5141210619638322\n",
      "  model = cd_fast.enet_coordinate_descent_gram(\n",
      "/Library/Frameworks/Python.framework/Versions/3.11/lib/python3.11/site-packages/sklearn/linear_model/_coordinate_descent.py:614: ConvergenceWarning: Objective did not converge. You might want to increase the number of iterations. Duality gap: 0.6694053809387697, tolerance: 0.5141210619638322\n",
      "  model = cd_fast.enet_coordinate_descent_gram(\n",
      "/Library/Frameworks/Python.framework/Versions/3.11/lib/python3.11/site-packages/sklearn/linear_model/_coordinate_descent.py:614: ConvergenceWarning: Objective did not converge. You might want to increase the number of iterations. Duality gap: 0.6432741476151023, tolerance: 0.5150305074998697\n",
      "  model = cd_fast.enet_coordinate_descent_gram(\n",
      "/Library/Frameworks/Python.framework/Versions/3.11/lib/python3.11/site-packages/sklearn/linear_model/_coordinate_descent.py:614: ConvergenceWarning: Objective did not converge. You might want to increase the number of iterations. Duality gap: 0.6742156440050167, tolerance: 0.5150305074998697\n",
      "  model = cd_fast.enet_coordinate_descent_gram(\n",
      "/Library/Frameworks/Python.framework/Versions/3.11/lib/python3.11/site-packages/sklearn/linear_model/_coordinate_descent.py:614: ConvergenceWarning: Objective did not converge. You might want to increase the number of iterations. Duality gap: 0.7159403096902679, tolerance: 0.5150305074998697\n",
      "  model = cd_fast.enet_coordinate_descent_gram(\n",
      "/Library/Frameworks/Python.framework/Versions/3.11/lib/python3.11/site-packages/sklearn/linear_model/_coordinate_descent.py:614: ConvergenceWarning: Objective did not converge. You might want to increase the number of iterations. Duality gap: 0.8599031438525344, tolerance: 0.5150305074998697\n",
      "  model = cd_fast.enet_coordinate_descent_gram(\n",
      "/Library/Frameworks/Python.framework/Versions/3.11/lib/python3.11/site-packages/sklearn/linear_model/_coordinate_descent.py:614: ConvergenceWarning: Objective did not converge. You might want to increase the number of iterations. Duality gap: 0.8876574679779878, tolerance: 0.5150305074998697\n",
      "  model = cd_fast.enet_coordinate_descent_gram(\n",
      "/Library/Frameworks/Python.framework/Versions/3.11/lib/python3.11/site-packages/sklearn/linear_model/_coordinate_descent.py:614: ConvergenceWarning: Objective did not converge. You might want to increase the number of iterations. Duality gap: 0.8651383081187305, tolerance: 0.5150305074998697\n",
      "  model = cd_fast.enet_coordinate_descent_gram(\n",
      "/Library/Frameworks/Python.framework/Versions/3.11/lib/python3.11/site-packages/sklearn/linear_model/_coordinate_descent.py:614: ConvergenceWarning: Objective did not converge. You might want to increase the number of iterations. Duality gap: 0.5189464269933524, tolerance: 0.5164869992333002\n",
      "  model = cd_fast.enet_coordinate_descent_gram(\n",
      "/Library/Frameworks/Python.framework/Versions/3.11/lib/python3.11/site-packages/sklearn/linear_model/_coordinate_descent.py:628: ConvergenceWarning: Objective did not converge. You might want to increase the number of iterations, check the scale of the features or consider increasing regularisation. Duality gap: 7.792e-01, tolerance: 6.438e-01\n",
      "  model = cd_fast.enet_coordinate_descent(\n"
     ]
    },
    {
     "name": "stdout",
     "output_type": "stream",
     "text": [
      "\n",
      "            ts acc: 0.7262443438914027\n",
      "            ts f1: 0.8414154652686762 \n",
      "            ts sensitivity: 0.7262443438914027 \n",
      "            ts specificity: 1.0\n",
      "    \n",
      "### 41 subject compelete.\n",
      "        test group: ['sub-042']        \n",
      "    \n",
      "\n",
      "            ts acc: 0.9270833333333334\n",
      "            ts f1: 0.9621621621621621 \n",
      "            ts sensitivity: 0.9270833333333334 \n",
      "            ts specificity: 1.0\n",
      "    \n",
      "### 42 subject compelete.\n",
      "        test group: ['sub-043']        \n",
      "    \n",
      "\n",
      "            ts acc: 0.12590799031476999\n",
      "            ts f1: 0.22365591397849463 \n",
      "            ts sensitivity: 0.12590799031476999 \n",
      "            ts specificity: 1.0\n",
      "    \n",
      "### 43 subject compelete.\n",
      "        test group: ['sub-044']        \n",
      "    \n",
      "\n",
      "            ts acc: 0.8519362186788155\n",
      "            ts f1: 0.9200492004920049 \n",
      "            ts sensitivity: 0.8519362186788155 \n",
      "            ts specificity: 1.0\n",
      "    \n",
      "### 44 subject compelete.\n",
      "        test group: ['sub-045']        \n",
      "    \n",
      "\n",
      "            ts acc: 0.2665094339622642\n",
      "            ts f1: 0.4208566108007449 \n",
      "            ts sensitivity: 0.2665094339622642 \n",
      "            ts specificity: 1.0\n",
      "    \n",
      "### 45 subject compelete.\n",
      "        test group: ['sub-046']        \n",
      "    \n"
     ]
    },
    {
     "name": "stderr",
     "output_type": "stream",
     "text": [
      "/Library/Frameworks/Python.framework/Versions/3.11/lib/python3.11/site-packages/sklearn/linear_model/_coordinate_descent.py:614: ConvergenceWarning: Objective did not converge. You might want to increase the number of iterations. Duality gap: 0.5195880632468288, tolerance: 0.5167090961234903\n",
      "  model = cd_fast.enet_coordinate_descent_gram(\n"
     ]
    },
    {
     "name": "stdout",
     "output_type": "stream",
     "text": [
      "\n",
      "            ts acc: 0.792\n",
      "            ts f1: 0.8839285714285714 \n",
      "            ts sensitivity: 0.792 \n",
      "            ts specificity: 1.0\n",
      "    \n",
      "### 46 subject compelete.\n",
      "        test group: ['sub-047']        \n",
      "    \n",
      "\n",
      "            ts acc: 0.8333333333333334\n",
      "            ts f1: 0.9090909090909091 \n",
      "            ts sensitivity: 0.8333333333333334 \n",
      "            ts specificity: 1.0\n",
      "    \n",
      "### 47 subject compelete.\n",
      "        test group: ['sub-048']        \n",
      "    \n",
      "\n",
      "            ts acc: 0.7119675456389453\n",
      "            ts f1: 0.8317535545023698 \n",
      "            ts sensitivity: 0.7119675456389453 \n",
      "            ts specificity: 1.0\n",
      "    \n",
      "### 48 subject compelete.\n",
      "        test group: ['sub-049']        \n",
      "    \n",
      "\n",
      "            ts acc: 0.9537275064267352\n",
      "            ts f1: 0.9763157894736842 \n",
      "            ts sensitivity: 0.9537275064267352 \n",
      "            ts specificity: 1.0\n",
      "    \n",
      "### 49 subject compelete.\n",
      "        test group: ['sub-050']        \n",
      "    \n"
     ]
    },
    {
     "name": "stderr",
     "output_type": "stream",
     "text": [
      "/Library/Frameworks/Python.framework/Versions/3.11/lib/python3.11/site-packages/sklearn/linear_model/_coordinate_descent.py:628: ConvergenceWarning: Objective did not converge. You might want to increase the number of iterations, check the scale of the features or consider increasing regularisation. Duality gap: 1.759e+00, tolerance: 6.449e-01\n",
      "  model = cd_fast.enet_coordinate_descent(\n"
     ]
    },
    {
     "name": "stdout",
     "output_type": "stream",
     "text": [
      "\n",
      "            ts acc: 0.3046683046683047\n",
      "            ts f1: 0.4670433145009416 \n",
      "            ts sensitivity: 0.3046683046683047 \n",
      "            ts specificity: 1.0\n",
      "    \n",
      "### 50 subject compelete.\n",
      "        test group: ['sub-051']        \n",
      "    \n",
      "\n",
      "            ts acc: 0.6106666666666667\n",
      "            ts f1: 0.7582781456953642 \n",
      "            ts sensitivity: 0.6106666666666667 \n",
      "            ts specificity: 1.0\n",
      "    \n",
      "### 51 subject compelete.\n",
      "        test group: ['sub-052']        \n",
      "    \n",
      "\n",
      "            ts acc: 0.5804749340369393\n",
      "            ts f1: 0.7345575959933222 \n",
      "            ts sensitivity: 0.5804749340369393 \n",
      "            ts specificity: 1.0\n",
      "    \n",
      "### 52 subject compelete.\n",
      "        test group: ['sub-053']        \n",
      "    \n"
     ]
    },
    {
     "name": "stderr",
     "output_type": "stream",
     "text": [
      "/Library/Frameworks/Python.framework/Versions/3.11/lib/python3.11/site-packages/sklearn/linear_model/_coordinate_descent.py:628: ConvergenceWarning: Objective did not converge. You might want to increase the number of iterations, check the scale of the features or consider increasing regularisation. Duality gap: 5.152e+01, tolerance: 6.454e-01\n",
      "  model = cd_fast.enet_coordinate_descent(\n"
     ]
    },
    {
     "name": "stdout",
     "output_type": "stream",
     "text": [
      "\n",
      "            ts acc: 0.6760925449871465\n",
      "            ts f1: 0.8067484662576687 \n",
      "            ts sensitivity: 0.6760925449871465 \n",
      "            ts specificity: 1.0\n",
      "    \n",
      "### 53 subject compelete.\n",
      "        test group: ['sub-054']        \n",
      "    \n",
      "\n",
      "            ts acc: 0.9016786570743405\n",
      "            ts f1: 0.9482976040353089 \n",
      "            ts sensitivity: 0.9016786570743405 \n",
      "            ts specificity: 1.0\n",
      "    \n",
      "### 54 subject compelete.\n",
      "        test group: ['sub-055']        \n",
      "    \n",
      "\n",
      "            ts acc: 0.8620689655172413\n",
      "            ts f1: 0.9259259259259259 \n",
      "            ts sensitivity: 0.8620689655172413 \n",
      "            ts specificity: 1.0\n",
      "    \n",
      "### 55 subject compelete.\n",
      "        test group: ['sub-056']        \n",
      "    \n"
     ]
    },
    {
     "name": "stderr",
     "output_type": "stream",
     "text": [
      "/Library/Frameworks/Python.framework/Versions/3.11/lib/python3.11/site-packages/sklearn/linear_model/_coordinate_descent.py:628: ConvergenceWarning: Objective did not converge. You might want to increase the number of iterations, check the scale of the features or consider increasing regularisation. Duality gap: 7.228e+01, tolerance: 6.453e-01\n",
      "  model = cd_fast.enet_coordinate_descent(\n"
     ]
    },
    {
     "name": "stdout",
     "output_type": "stream",
     "text": [
      "\n",
      "            ts acc: 0.5253807106598984\n",
      "            ts f1: 0.6888519134775374 \n",
      "            ts sensitivity: 0.5253807106598984 \n",
      "            ts specificity: 1.0\n",
      "    \n",
      "### 56 subject compelete.\n",
      "        test group: ['sub-057']        \n",
      "    \n",
      "\n",
      "            ts acc: 0.8337531486146096\n",
      "            ts f1: 0.9093406593406593 \n",
      "            ts sensitivity: 0.8337531486146096 \n",
      "            ts specificity: 1.0\n",
      "    \n",
      "### 57 subject compelete.\n",
      "        test group: ['sub-058']        \n",
      "    \n",
      "\n",
      "            ts acc: 0.8779840848806366\n",
      "            ts f1: 0.9350282485875706 \n",
      "            ts sensitivity: 0.8779840848806366 \n",
      "            ts specificity: 1.0\n",
      "    \n",
      "### 58 subject compelete.\n",
      "        test group: ['sub-059']        \n",
      "    \n",
      "\n",
      "            ts acc: 0.14030612244897958\n",
      "            ts f1: 0.2460850111856823 \n",
      "            ts sensitivity: 0.14030612244897958 \n",
      "            ts specificity: 1.0\n",
      "    \n",
      "### 59 subject compelete.\n",
      "        test group: ['sub-060']        \n",
      "    \n",
      "\n",
      "            ts acc: 0.5201072386058981\n",
      "            ts f1: 0.6843033509700177 \n",
      "            ts sensitivity: 0.5201072386058981 \n",
      "            ts specificity: 1.0\n",
      "    \n",
      "### 60 subject compelete.\n",
      "        test group: ['sub-061']        \n",
      "    \n",
      "\n",
      "            ts acc: 0.2475\n",
      "            ts f1: 0.39679358717434865 \n",
      "            ts sensitivity: 0.2475 \n",
      "            ts specificity: 1.0\n",
      "    \n",
      "### 61 subject compelete.\n",
      "        test group: ['sub-062']        \n",
      "    \n"
     ]
    },
    {
     "name": "stderr",
     "output_type": "stream",
     "text": [
      "/Library/Frameworks/Python.framework/Versions/3.11/lib/python3.11/site-packages/sklearn/linear_model/_coordinate_descent.py:628: ConvergenceWarning: Objective did not converge. You might want to increase the number of iterations, check the scale of the features or consider increasing regularisation. Duality gap: 2.090e+01, tolerance: 6.436e-01\n",
      "  model = cd_fast.enet_coordinate_descent(\n"
     ]
    },
    {
     "name": "stdout",
     "output_type": "stream",
     "text": [
      "\n",
      "            ts acc: 0.7834821428571429\n",
      "            ts f1: 0.8785982478097623 \n",
      "            ts sensitivity: 0.7834821428571429 \n",
      "            ts specificity: 1.0\n",
      "    \n",
      "### 62 subject compelete.\n",
      "        test group: ['sub-063']        \n",
      "    \n",
      "\n",
      "            ts acc: 0.48129675810473815\n",
      "            ts f1: 0.6498316498316499 \n",
      "            ts sensitivity: 0.48129675810473815 \n",
      "            ts specificity: 1.0\n",
      "    \n",
      "### 63 subject compelete.\n",
      "        test group: ['sub-064']        \n",
      "    \n"
     ]
    },
    {
     "name": "stderr",
     "output_type": "stream",
     "text": [
      "/Library/Frameworks/Python.framework/Versions/3.11/lib/python3.11/site-packages/sklearn/linear_model/_coordinate_descent.py:628: ConvergenceWarning: Objective did not converge. You might want to increase the number of iterations, check the scale of the features or consider increasing regularisation. Duality gap: 8.244e-01, tolerance: 6.444e-01\n",
      "  model = cd_fast.enet_coordinate_descent(\n"
     ]
    },
    {
     "name": "stdout",
     "output_type": "stream",
     "text": [
      "\n",
      "            ts acc: 0.9787234042553191\n",
      "            ts f1: 0.989247311827957 \n",
      "            ts sensitivity: 0.9787234042553191 \n",
      "            ts specificity: 1.0\n",
      "    \n",
      "### 64 subject compelete.\n",
      "        test group: ['sub-065']        \n",
      "    \n",
      "\n",
      "            ts acc: 0.528344671201814\n",
      "            ts f1: 0.6913946587537092 \n",
      "            ts sensitivity: 0.528344671201814 \n",
      "            ts specificity: 1.0\n",
      "    \n",
      "CPU times: user 1h 35min 30s, sys: 6min 7s, total: 1h 41min 37s\n",
      "Wall time: 44min 45s\n"
     ]
    }
   ],
   "source": [
    "%%time\n",
    "\n",
    "loso = LeaveOneGroupOut()\n",
    "feature_selection = True\n",
    "use_feature_scaler = False\n",
    "lasso_cv = LassoCV()\n",
    "\n",
    "result = {\n",
    "    \"tr_label\": [],\n",
    "    \"ts_label\": [],\n",
    "    \n",
    "    \"tr_predict\": [],\n",
    "    \"ts_predict\": [],\n",
    "    \n",
    "    \"loso_tr_label\": [],\n",
    "    \"loso_ts_label\": [],\n",
    "    \n",
    "    \"loso_tr_predict\": [],\n",
    "    \"loso_ts_predict\": [],\n",
    "    \n",
    "    \"loso_tr_accuracy\": [],\n",
    "    \"loso_ts_accuracy\": [],\n",
    "    \n",
    "    \"loso_tr_f1\": [],\n",
    "    \"loso_ts_f1\": [],\n",
    "    \n",
    "    \"loso_tr_sensitivity\": [],\n",
    "    \"loso_ts_sensitivity\": [],\n",
    "    \n",
    "    \"loso_tr_specificity\": [],\n",
    "    \"loso_ts_specificity\": []\n",
    "}\n",
    "\n",
    "\n",
    "for i, (tr_idx, ts_idx) in enumerate(loso.split(X=features, y=labels, groups=groups)):\n",
    "\n",
    "    print(f\"\"\"### {i} subject compelete.\n",
    "        test group: {np.unique(groups[ts_idx])}        \n",
    "    \"\"\")\n",
    "    \n",
    "    clf = RandomForestClassifier()\n",
    "    # clf = SVC()\n",
    "    # clf = lda()\n",
    "    \n",
    "    tr_data, tr_label = features[tr_idx], labels[tr_idx]\n",
    "    ts_data, ts_label = features[ts_idx], labels[ts_idx]\n",
    "\n",
    "    if use_feature_scaler:\n",
    "        scaler = StandardScaler()\n",
    "        tr_data = scaler.fit_transform(tr_data)\n",
    "        ts_data = scaler.transform(ts_data)\n",
    "    \n",
    "    if feature_selection:\n",
    "        sfm = SelectFromModel(lasso_cv)\n",
    "        tr_data = sfm.fit_transform(tr_data, tr_label)\n",
    "        ts_data = sfm.transform(ts_data)\n",
    "\n",
    "    clf.fit(tr_data, tr_label)\n",
    "\n",
    "    result[\"tr_label\"].extend(tr_label.tolist())\n",
    "    result[\"ts_label\"].extend(ts_label.tolist())\n",
    "    \n",
    "    result[\"tr_predict\"].extend(clf.predict(tr_data).tolist())\n",
    "    result[\"ts_predict\"].extend(clf.predict(ts_data).tolist())\n",
    "    \n",
    "    result[\"loso_tr_label\"].append(tr_label)\n",
    "    result[\"loso_ts_label\"].append(ts_label)\n",
    "    \n",
    "    result[\"loso_tr_predict\"].append(clf.predict(tr_data))\n",
    "    result[\"loso_ts_predict\"].append(clf.predict(ts_data))\n",
    "    \n",
    "    result[\"loso_tr_accuracy\"].append(accuracy_score(tr_label, clf.predict(tr_data)))\n",
    "    result[\"loso_ts_accuracy\"].append(accuracy_score(ts_label, clf.predict(ts_data)))\n",
    "\n",
    "    result[\"loso_tr_f1\"].append(f1_score(tr_label, clf.predict(tr_data)))\n",
    "    result[\"loso_ts_f1\"].append(f1_score(ts_label, clf.predict(ts_data)))\n",
    "    \n",
    "    result[\"loso_tr_sensitivity\"].append(recall_score(tr_label, clf.predict(tr_data)))\n",
    "    result[\"loso_ts_sensitivity\"].append(recall_score(ts_label, clf.predict(ts_data)))\n",
    "    \n",
    "    result[\"loso_tr_specificity\"].append(precision_score(tr_label, clf.predict(tr_data)))\n",
    "    result[\"loso_ts_specificity\"].append(precision_score(ts_label, clf.predict(ts_data)))\n",
    "\n",
    "    print(f\"\"\"\n",
    "            ts acc: {result[\"loso_ts_accuracy\"][-1]}\n",
    "            ts f1: {result[\"loso_ts_f1\"][-1]} \n",
    "            ts sensitivity: {result[\"loso_ts_sensitivity\"][-1]} \n",
    "            ts specificity: {result[\"loso_ts_specificity\"][-1]}\n",
    "    \"\"\")\n",
    "    \n",
    "    # break"
   ]
  },
  {
   "cell_type": "code",
   "execution_count": 11,
   "id": "16880ec9-20b0-4128-ab68-236ab0414054",
   "metadata": {},
   "outputs": [
    {
     "name": "stdout",
     "output_type": "stream",
     "text": [
      "\n",
      "clf: RandomForestClassifier()\n",
      "feature selection: True\n",
      "feature selection model: LassoCV()\n",
      "feature scaler: False\n",
      "ts acc average on loso: 0.7174842171629724\n",
      "ts acc: 0.7192565784513307 \n",
      "ts f1: 0.6792160241223347 \n",
      "ts sensitivity: 0.6563436563436563 \n",
      "ts specificity: 0.7037400696242078\n",
      "\n"
     ]
    }
   ],
   "source": [
    "print(f\"\"\"\n",
    "clf: {clf}\n",
    "feature selection: {feature_selection}\n",
    "feature selection model: {lasso_cv}\n",
    "feature scaler: {use_feature_scaler}\n",
    "ts acc average on loso: {np.mean(result[\"loso_ts_accuracy\"])}\n",
    "ts acc: {accuracy_score(result[\"ts_label\"], result[\"ts_predict\"])} \n",
    "ts f1: {f1_score(result[\"ts_label\"], result[\"ts_predict\"])} \n",
    "ts sensitivity: {recall_score(result[\"ts_label\"], result[\"ts_predict\"])} \n",
    "ts specificity: {precision_score(result[\"ts_label\"], result[\"ts_predict\"])}\n",
    "\"\"\") "
   ]
  },
  {
   "cell_type": "raw",
   "id": "279bb62e-cb89-475c-bb6f-c08e15b470ab",
   "metadata": {},
   "source": [
    "results:\n",
    "1.\n",
    "    clf: SVC()\n",
    "    feature selection: True\n",
    "    feature selection model: LassoCV()    \n",
    "    feature scaler: False\r",
    "    #\n",
    "ts acc average on loso  0.7870447  6    \r\n",
    "ts acc: 0.7923   6     \r\n",
    "ts f1: 0.7    9    7 \r\n",
    "ts sensitivity: 0.     7    64 ity: sity: pecif0.8476116805260104\n",
    "\n",
    "\n",
    "2.\n",
    "    clf: RandomForestClassifier()\n",
    "    feature selection: False\n",
    "    feature scaler: False\n",
    "    #ts acc average on loso: 0.7842178408948985\n",
    "    ts acc: 0.7897014015843997 \n",
    "    ts f1: 0.7411296976970969 \n",
    "    ts sensitivity: 0.7055127106540988 \n",
    "    ts specificity: 0.7805340496128931\n",
    "\n",
    "3.\n",
    "    clf: RandomForestClassifier()\n",
    "    feature selection: True\n",
    "    feature selection model: LassoCV()\n",
    "    feature scaler: False\n",
    "    #ts acc average on loso: 0.7836652730451434\n",
    "    ts acc: 0.7895795246800731 \n",
    "    ts f1: 0.7415999401332036 \n",
    "    ts sensitivity: 0.7076549557269352 \n",
    "    ts specificity: 0.77896557145260104"
   ]
  },
  {
   "cell_type": "code",
   "execution_count": 12,
   "id": "ab811a51-7c5d-4fc8-88db-e0c92505b3a7",
   "metadata": {},
   "outputs": [
    {
     "data": {
      "text/plain": [
       "(26085,)"
      ]
     },
     "execution_count": 12,
     "metadata": {},
     "output_type": "execute_result"
    }
   ],
   "source": [
    "clf.predict(tr_data).shape"
   ]
  },
  {
   "cell_type": "code",
   "execution_count": 13,
   "id": "20ed7b21-ae15-4812-82fc-a31fb615ddb5",
   "metadata": {},
   "outputs": [
    {
     "data": {
      "text/plain": [
       "0.528344671201814"
      ]
     },
     "execution_count": 13,
     "metadata": {},
     "output_type": "execute_result"
    }
   ],
   "source": [
    "recall_score(ts_label, clf.predict(ts_data))"
   ]
  },
  {
   "cell_type": "code",
   "execution_count": null,
   "id": "df8fc7ea-84bb-41e6-9c39-b0674c49d8ff",
   "metadata": {},
   "outputs": [],
   "source": [
    "ts_label"
   ]
  }
 ],
 "metadata": {
  "kernelspec": {
   "display_name": "Python 3 (ipykernel)",
   "language": "python",
   "name": "python3"
  },
  "language_info": {
   "codemirror_mode": {
    "name": "ipython",
    "version": 3
   },
   "file_extension": ".py",
   "mimetype": "text/x-python",
   "name": "python",
   "nbconvert_exporter": "python",
   "pygments_lexer": "ipython3",
   "version": "3.11.5"
  }
 },
 "nbformat": 4,
 "nbformat_minor": 5
}
